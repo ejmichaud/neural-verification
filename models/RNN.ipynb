{
 "cells": [
  {
   "cell_type": "code",
   "execution_count": 1,
   "id": "eb179a13-5396-4156-98c0-477dd79cba0a",
   "metadata": {},
   "outputs": [
    {
     "name": "stdout",
     "output_type": "stream",
     "text": [
      "RNN(\n",
      "  (Wh): Linear(in_features=2, out_features=2, bias=True)\n",
      "  (Wx): Linear(in_features=2, out_features=2, bias=True)\n",
      "  (Wy): Linear(in_features=2, out_features=1, bias=True)\n",
      "  (act): Sigmoid()\n",
      ")\n"
     ]
    },
    {
     "data": {
      "text/plain": [
       "torch.Size([128, 10, 1])"
      ]
     },
     "execution_count": 1,
     "metadata": {},
     "output_type": "execute_result"
    }
   ],
   "source": [
    "import torch\n",
    "import torch.nn as nn\n",
    "\n",
    "\n",
    "# model\n",
    "class RNN(nn.Module):\n",
    "    def __init__(self, hidden_dim=2, input_dim=2, output_dim=1):\n",
    "        super(RNN, self).__init__()\n",
    "\n",
    "        # Defining some parameters\n",
    "        self.hidden_dim = hidden_dim\n",
    "        self.Wh = nn.Linear(hidden_dim, hidden_dim)\n",
    "        self.Wx = nn.Linear(input_dim, hidden_dim)\n",
    "        self.Wy = nn.Linear(hidden_dim, output_dim)\n",
    "        # activation function\n",
    "        self.act = nn.Sigmoid()\n",
    "        #self.act = lambda x: x\n",
    "    \n",
    "    def forward(self, x):\n",
    "        # input shape = (batch_size, sequence length, input dimension)\n",
    "        batch_size = x.size(0)\n",
    "        seq_length = x.size(1)\n",
    "\n",
    "        hidden = torch.nn.Parameter(torch.zeros(batch_size, self.hidden_dim))\n",
    "        outs = []\n",
    "\n",
    "        for i in range(seq_length):\n",
    "            hidden = self.act(self.Wh(hidden) + self.Wx(x[:,i,:]))\n",
    "            out = self.Wy(hidden)\n",
    "            outs.append(out)\n",
    "        \n",
    "        # output shape = (batch_size, sequence length, output dimension)\n",
    "        return torch.stack(outs).permute(1,0,2)\n",
    "    \n",
    "\n",
    "model = RNN(hidden_dim=2, input_dim=2, output_dim=1)\n",
    "print(model)\n",
    "\n",
    "### feed data to RNN ###\n",
    "batch_size = 128\n",
    "seq_len = 10\n",
    "input_dim = 2\n",
    "x = torch.normal(0,1,size=(batch_size, seq_len, input_dim))\n",
    "model(x).shape"
   ]
  }
 ],
 "metadata": {
  "kernelspec": {
   "display_name": "Python 3 (ipykernel)",
   "language": "python",
   "name": "python3"
  },
  "language_info": {
   "codemirror_mode": {
    "name": "ipython",
    "version": 3
   },
   "file_extension": ".py",
   "mimetype": "text/x-python",
   "name": "python",
   "nbconvert_exporter": "python",
   "pygments_lexer": "ipython3",
   "version": "3.9.16"
  }
 },
 "nbformat": 4,
 "nbformat_minor": 5
}

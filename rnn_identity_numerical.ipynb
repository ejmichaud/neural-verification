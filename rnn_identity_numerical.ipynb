{
 "cells": [
  {
   "cell_type": "code",
   "execution_count": 1,
   "id": "3689f572",
   "metadata": {},
   "outputs": [
    {
     "data": {
      "text/plain": [
       "<All keys matched successfully>"
      ]
     },
     "execution_count": 1,
     "metadata": {},
     "output_type": "execute_result"
    }
   ],
   "source": [
    "import numpy as np\n",
    "import torch\n",
    "import os\n",
    "from neural_verification import *\n",
    "import matplotlib.pyplot as plt\n",
    "import itertools\n",
    "import copy\n",
    "\n",
    "# This GeneralRNN has been defined in neural_verification, but I modified it:\n",
    "# (1) comment out some assertions which throw out errors but aren't really errors?\n",
    "# (2) Not only return hidden (last hidden states), but also hidden2 (second-to-last hidden states)\n",
    "@dataclass\n",
    "class GeneralRNNConfig:\n",
    "    input_dim: int = 2\n",
    "    output_dim: int = 1\n",
    "    hidden_dim: int = 40\n",
    "    hidden_mlp_depth: int = 2 # this would be 1 hidden layer\n",
    "    hidden_mlp_width: int = 100\n",
    "    output_mlp_depth: int = 2 # this would be 1 hidden layer\n",
    "    output_mlp_width: int = 100\n",
    "    activation: type = nn.SiLU\n",
    "\n",
    "class GeneralRNN(nn.Module):\n",
    "    def __init__(self, config, device='cpu'):\n",
    "        super().__init__()\n",
    "        self.config = config\n",
    "        self.hidden_dim = config.hidden_dim\n",
    "        hmlp_config = MLPConfig(\n",
    "            config.hidden_dim + config.input_dim, \n",
    "            config.hidden_dim, \n",
    "            config.hidden_mlp_width, \n",
    "            config.hidden_mlp_depth, \n",
    "            config.activation\n",
    "        )\n",
    "        self.hmlp = MLP(hmlp_config).to(device)\n",
    "        ymlp_config = MLPConfig(\n",
    "            config.hidden_dim, \n",
    "            config.output_dim, \n",
    "            config.output_mlp_width, \n",
    "            config.output_mlp_depth, \n",
    "            config.activation\n",
    "        )\n",
    "        self.ymlp = MLP(ymlp_config).to(device)\n",
    "        self.device = device\n",
    "\n",
    "    def forward(self, x, h=None):\n",
    "        \"\"\"The transition is given by:\n",
    "            h_t = f([h_{t-1}, x_t])\n",
    "            y_t = g(h_t)\n",
    "        where f and g are MLPs.\n",
    "\n",
    "        This function takes in the input and the hidden state and \n",
    "        returns an output and a hidden state.\n",
    "        \"\"\"\n",
    "        # x shape: (batch_size, input_dim)\n",
    "        # h shape: (batch_size, hidden_dim)\n",
    "        if h is None:\n",
    "            h = torch.zeros(x.size(0), self.hidden_dim).to(self.device)\n",
    "        else:\n",
    "            assert h.size(0) == x.size(0)\n",
    "            assert h.size(1) == self.hidden_dim\n",
    "            #assert h.device == self.device\n",
    "        assert x.size(1) == self.config.input_dim\n",
    "        #assert x.device == self.device\n",
    "        hx = torch.cat((h, x), dim=1)\n",
    "        h = self.hmlp(hx)\n",
    "        y = self.ymlp(h)\n",
    "        return y, h\n",
    "    \n",
    "    def forward_sequence(self, x):\n",
    "        \"\"\"This function takes in a sequence of inputs and returns a sequence of outputs\n",
    "        as well as the final hidden state.\"\"\"\n",
    "        # x shape: (batch_size, sequence_length, input_dim)\n",
    "        batch_size = x.size(0)\n",
    "        seq_length = x.size(1)\n",
    "        hidden = torch.zeros(batch_size, self.hidden_dim).to(self.device)\n",
    "        assert x.size(2) == self.config.input_dim\n",
    "        #assert x.device == self.device\n",
    "        outs = []\n",
    "        for i in range(seq_length):\n",
    "            out, hidden = self.forward(x[:,i,:], hidden)\n",
    "            if i == seq_length-2:\n",
    "                hidden2 = hidden.clone()\n",
    "            outs.append(out)\n",
    "        # out shape: (batch_size, sequence_length, output_dim)\n",
    "        return torch.stack(outs).permute(1,0,2), hidden, hidden2\n",
    "\n",
    "seed = 0\n",
    "np.random.seed(seed)\n",
    "torch.manual_seed(seed)\n",
    "\n",
    "data = torch.load(\"../tasks/rnn_identity_numerical/data.pt\")\n",
    "\n",
    "config = torch.load(\"./rnn_models/rnn_identity_numerical/model_config.pt\", map_location=torch.device('cpu'))\n",
    "model = GeneralRNN(config)\n",
    "model.load_state_dict(torch.load(\"./rnn_models/rnn_identity_numerical/model_perfect.pt\",map_location=torch.device('cpu')))"
   ]
  },
  {
   "cell_type": "code",
   "execution_count": 2,
   "id": "d9fe7775",
   "metadata": {},
   "outputs": [],
   "source": [
    "hidden = model.forward_sequence(data[0].unsqueeze(dim=2))[1].cpu().detach().numpy()\n",
    "hidden_last = model.forward_sequence(data[0].unsqueeze(dim=2))[2].cpu().detach().numpy()\n",
    "D = hidden.shape[1]\n",
    "thres = 1e-1"
   ]
  },
  {
   "cell_type": "code",
   "execution_count": 3,
   "id": "82e48f37",
   "metadata": {},
   "outputs": [],
   "source": [
    "def subset(arr, criterion=None, batch_size = 32):\n",
    "    '''if arr contains too many samples, computation can be expensive.\n",
    "    Choosing a subset of samples if usually enough for lattice detection.'''\n",
    "    if criterion != None:\n",
    "        arr = arr[np.where(criterion(arr))[0]]\n",
    "    batch_id = np.random.choice(arr.shape[0], batch_size)\n",
    "    arr = arr[batch_id]\n",
    "    return arr  \n",
    "\n",
    "\n",
    "# GCD\n",
    "\n",
    "def get_vol_arr(x):\n",
    "    '''Given n points in R^D, return all possible volumes of D+1 points'''\n",
    "    num = x.shape[0]\n",
    "    groups = np.array(list(itertools.combinations(x, D+1)))\n",
    "    groups = groups[:,1:,:] - groups[:,[0],:]\n",
    "    vols = np.abs(np.linalg.det(np.array(groups)))\n",
    "    return np.array(vols)\n",
    "\n",
    "\n",
    "def GCD_arr(arr):\n",
    "    '''Find the greatest common divisor (GCD) for an array'''\n",
    "    vol_arr = get_vol_arr(arr)\n",
    "    while True:\n",
    "        va = arr[[0]]; vb = arr[[1]]; v3 = arr[2:D+1]\n",
    "        a = np.linalg.det(np.concatenate([va, v3], axis=0))\n",
    "        b = np.linalg.det(np.concatenate([vb, v3], axis=0))\n",
    "        \n",
    "        # should be more robust? Threshold?\n",
    "        if b == 0 or a == 0:\n",
    "            if b == 0:\n",
    "                arr = np.delete(arr, 1, 0)\n",
    "            if a == 0:\n",
    "                arr = np.delete(arr, 0, 0)\n",
    "            continue\n",
    "        gcd, vbp = GCD_2num_v(a, b, va, vb)\n",
    "        flag = check_integer_arr(vol_arr/gcd)\n",
    "        if flag == True:\n",
    "            break\n",
    "        else:\n",
    "            arr = arr[1:]\n",
    "            arr[0] = vbp\n",
    "    return np.concatenate([vbp, v3], axis=0)\n",
    "\n",
    "def GCD_2num_v(a, b, va, vb):\n",
    "    '''Find the greatest common divisor (GCD) for two number a, b;\n",
    "    and apply the same rule to two vectors va and vb'''\n",
    "    \n",
    "    while True:\n",
    "        temp = a\n",
    "        a = b\n",
    "        b = temp\n",
    "\n",
    "        temp = va\n",
    "        va = vb\n",
    "        vb = temp\n",
    "        \n",
    "        proj = np.round(a/b)\n",
    "        a = a - proj * b\n",
    "        va = va - proj * vb\n",
    "        if np.abs(a) < thres:\n",
    "            break\n",
    "    return np.abs(b), vb\n",
    "\n",
    "def check_integer_arr(arr):\n",
    "    non_integer = np.abs(arr - np.round(arr)) > thres\n",
    "    all_integer = np.sum(non_integer) == 0\n",
    "    return all_integer\n",
    "\n",
    "def normalize_basis(basis):\n",
    "    basis = copy.deepcopy(basis)\n",
    "    ii = 0\n",
    "    while True and ii < 5:\n",
    "        projs = []\n",
    "        for i in range(D):\n",
    "            proj = np.round(np.sum(basis*basis[[i]],axis=1)/np.linalg.norm(basis[i])**2)\n",
    "            proj[i] = 0\n",
    "            basis -= proj[:,np.newaxis] * basis[[i]]\n",
    "            projs.append(proj)\n",
    "        projs = np.array(projs)\n",
    "        if np.sum(np.abs(projs)) == 0:\n",
    "            break\n",
    "        ii += 1\n",
    "    basis *= (-1)**(np.sum(basis, axis=1)<0)[:,np.newaxis]\n",
    "    return basis"
   ]
  },
  {
   "cell_type": "code",
   "execution_count": 4,
   "id": "642a67b2",
   "metadata": {},
   "outputs": [],
   "source": [
    "\n",
    "# shift lattice such that (0,0) is on lattice\n",
    "hidden_batch = subset(hidden)\n",
    "shift_id = np.argmin(np.sum(hidden_batch, axis=1))\n",
    "shift = copy.deepcopy(hidden_batch[[shift_id]])\n",
    "hidden_batch_shift = hidden_batch - shift\n",
    "basis = GCD_arr(hidden_batch_shift)\n",
    "basis_comp = normalize_basis(basis)"
   ]
  },
  {
   "cell_type": "code",
   "execution_count": 5,
   "id": "bc4b3500",
   "metadata": {},
   "outputs": [],
   "source": [
    "h_int_lattice = np.matmul(hidden - shift, np.linalg.inv(basis_comp))\n",
    "h_last_int_lattice = np.matmul(hidden_last - shift, np.linalg.inv(basis_comp))\n",
    "input_lattice = data[0][:,-1].detach().numpy()\n",
    "output_lattice = data[1][:,-1].detach().numpy()"
   ]
  },
  {
   "cell_type": "code",
   "execution_count": 6,
   "id": "90ce6bed",
   "metadata": {},
   "outputs": [
    {
     "data": {
      "text/plain": [
       "0.9999999983373757"
      ]
     },
     "execution_count": 6,
     "metadata": {},
     "output_type": "execute_result"
    }
   ],
   "source": [
    "# (h, x) => h\n",
    "# (h_last_lattice, input_lattice) => h_lattice\n",
    "\n",
    "hx = np.concatenate([np.round(h_last_int_lattice), np.round(input_lattice)[:,np.newaxis]], axis=1)\n",
    "h_next = np.round(h_int_lattice)\n",
    "\n",
    "from sklearn.linear_model import LinearRegression\n",
    "reg = LinearRegression().fit(hx, h_next)\n",
    "reg.score(hx, h_next)"
   ]
  },
  {
   "cell_type": "code",
   "execution_count": 7,
   "id": "6426644f",
   "metadata": {},
   "outputs": [
    {
     "data": {
      "text/plain": [
       "(array([[-7.1323754e-08, -9.9997175e-01]], dtype=float32),\n",
       " array([91.99776], dtype=float32))"
      ]
     },
     "execution_count": 7,
     "metadata": {},
     "output_type": "execute_result"
    }
   ],
   "source": [
    "reg.coef_, reg.intercept_"
   ]
  },
  {
   "cell_type": "markdown",
   "id": "e56880df",
   "metadata": {},
   "source": [
    "$h_{t} = x_t + 92$"
   ]
  },
  {
   "cell_type": "code",
   "execution_count": 8,
   "id": "d106c0e0",
   "metadata": {},
   "outputs": [
    {
     "data": {
      "text/plain": [
       "0.9999999935161159"
      ]
     },
     "execution_count": 8,
     "metadata": {},
     "output_type": "execute_result"
    }
   ],
   "source": [
    "# h => y\n",
    "# h_lattice => output_lattice\n",
    "\n",
    "from sklearn.linear_model import LinearRegression\n",
    "reg = LinearRegression().fit(np.round(h_int_lattice), output_lattice)\n",
    "reg.score(np.round(h_int_lattice), output_lattice)"
   ]
  },
  {
   "cell_type": "code",
   "execution_count": 9,
   "id": "66f01bc1",
   "metadata": {},
   "outputs": [
    {
     "data": {
      "text/plain": [
       "(array([-0.9999195], dtype=float32), 91.996574)"
      ]
     },
     "execution_count": 9,
     "metadata": {},
     "output_type": "execute_result"
    }
   ],
   "source": [
    "reg.coef_, reg.intercept_"
   ]
  },
  {
   "cell_type": "markdown",
   "id": "2f54401c",
   "metadata": {},
   "source": [
    "$y_t = - x_t + 92$"
   ]
  },
  {
   "cell_type": "code",
   "execution_count": null,
   "id": "1657ea17",
   "metadata": {},
   "outputs": [],
   "source": []
  }
 ],
 "metadata": {
  "kernelspec": {
   "display_name": "Python 3 (ipykernel)",
   "language": "python",
   "name": "python3"
  },
  "language_info": {
   "codemirror_mode": {
    "name": "ipython",
    "version": 3
   },
   "file_extension": ".py",
   "mimetype": "text/x-python",
   "name": "python",
   "nbconvert_exporter": "python",
   "pygments_lexer": "ipython3",
   "version": "3.9.7"
  }
 },
 "nbformat": 4,
 "nbformat_minor": 5
}

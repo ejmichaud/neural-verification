{
 "cells": [
  {
   "cell_type": "code",
   "execution_count": 1,
   "metadata": {},
   "outputs": [],
   "source": [
    "import os\n",
    "import glob\n",
    "from collections import defaultdict\n",
    "from tqdm.auto import tqdm\n",
    "\n",
    "import numpy as np\n",
    "import pandas as pd\n",
    "import matplotlib\n",
    "import matplotlib.pyplot as plt\n",
    "from sklearn.decomposition import PCA\n",
    "from sklearn.cluster import SpectralClustering\n",
    "\n",
    "from sklearn.linear_model import LogisticRegression\n",
    "from sklearn.model_selection import train_test_split\n",
    "\n",
    "import torch\n",
    "from torch.nn import functional as F\n",
    "from transformers import AutoTokenizer, GPTNeoXForCausalLM"
   ]
  },
  {
   "cell_type": "code",
   "execution_count": 2,
   "metadata": {},
   "outputs": [],
   "source": [
    "model_names = [\n",
    "    \"pythia-70m\",\n",
    "    \"pythia-160m\",\n",
    "    \"pythia-410m\",\n",
    "    \"pythia-1b\",\n",
    "    \"pythia-1.4b\",\n",
    "    \"pythia-2.8b\",\n",
    "    \"pythia-6.9b\",\n",
    "    \"pythia-12b\",\n",
    "]"
   ]
  },
  {
   "cell_type": "code",
   "execution_count": 3,
   "metadata": {},
   "outputs": [
    {
     "name": "stdout",
     "output_type": "stream",
     "text": [
      "Using device: cpu\n"
     ]
    }
   ],
   "source": [
    "device = torch.device(\"cuda:0\" if torch.cuda.is_available() else \"cpu\")\n",
    "print(f\"Using device: {device}\")"
   ]
  },
  {
   "cell_type": "code",
   "execution_count": 4,
   "metadata": {},
   "outputs": [],
   "source": [
    "cache_dir = \"/om/user/ericjm/visualizing-neural-scaling/cache/\"\n",
    "step = 143000\n",
    "model_name = model_names[0]\n",
    "\n",
    "tokenizer = AutoTokenizer.from_pretrained(\n",
    "    f\"EleutherAI/{model_name}\",\n",
    "    revision=f\"step{step}\",\n",
    "    cache_dir=os.path.join(cache_dir, model_name, f\"step{step}\"),\n",
    ")"
   ]
  },
  {
   "cell_type": "code",
   "execution_count": 5,
   "metadata": {},
   "outputs": [],
   "source": [
    "def alternates(word):\n",
    "    mutations = [\n",
    "        word,\n",
    "        word.capitalize(),\n",
    "        word.upper(),\n",
    "        \" \" + word,\n",
    "        \" \" + word.capitalize(),\n",
    "        \" \" + word.upper(),\n",
    "        # remove spaces\n",
    "        word.replace(\" \", \"\"),\n",
    "        word.replace(\" \", \"\").capitalize(),\n",
    "        word.replace(\" \", \"\").upper(),\n",
    "        \" \" + word.replace(\" \", \"\"),\n",
    "        \" \" + word.replace(\" \", \"\").capitalize(),\n",
    "        \" \" + word.replace(\" \", \"\").upper(),\n",
    "    ]\n",
    "    return list(set(mutations))\n",
    "\n",
    "def alternate_tokens(word, tokenizer):\n",
    "    return {\n",
    "        tokenizer.encode(mutation, add_special_tokens=False)[0]: mutation\n",
    "        for mutation in alternates(word) \n",
    "        if len(tokenizer.encode(mutation, add_special_tokens=False)) == 1\n",
    "    }\n",
    "\n",
    "def get_closest_tokens_euclidean(embedding, embeddings, tokenizer, topk=10):\n",
    "    # Calculate distances.\n",
    "    distances = torch.norm(embeddings - embedding, dim=1)\n",
    "    # Get the top k smallest distances.\n",
    "    sims, indices = torch.topk(distances, topk, largest=False)\n",
    "    \n",
    "    # Decode the token IDs to tokens.\n",
    "    closest_tokens = [tokenizer.decode([token_id]) for token_id in indices]\n",
    "    return {\n",
    "        sims[i].item(): closest_tokens[i]\n",
    "        for i in range(len(closest_tokens))\n",
    "    }\n",
    "\n",
    "def get_closest_tokens_cosine(embedding, embeddings, tokenizer, topk=10):\n",
    "    # Calculate similarities. We use cosine similarity here.\n",
    "    similarities = F.cosine_similarity(embedding.unsqueeze(0), embeddings)\n",
    "    # Get the top k indices.\n",
    "    sims, indices = torch.topk(similarities, topk)\n",
    "    \n",
    "    # Decode the token IDs to tokens.\n",
    "    closest_tokens = [tokenizer.decode([token_id]) for token_id in indices]\n",
    "    return {\n",
    "        sims[i].item(): closest_tokens[i]\n",
    "        for i in range(len(closest_tokens))\n",
    "    }"
   ]
  },
  {
   "attachments": {},
   "cell_type": "markdown",
   "metadata": {},
   "source": [
    "### find pairs of uncapitalized and capitalized tokens"
   ]
  },
  {
   "cell_type": "code",
   "execution_count": 6,
   "metadata": {},
   "outputs": [
    {
     "data": {
      "application/vnd.jupyter.widget-view+json": {
       "model_id": "dbc4e4981b39441080c77ec49c471ae1",
       "version_major": 2,
       "version_minor": 0
      },
      "text/plain": [
       "  0%|          | 0/50254 [00:00<?, ?it/s]"
      ]
     },
     "metadata": {},
     "output_type": "display_data"
    }
   ],
   "source": [
    "token_and_capitalized = []\n",
    "for i in tqdm(range(tokenizer.vocab_size)):\n",
    "    token = tokenizer.decode([i])\n",
    "    if token[0] == \" \":\n",
    "        alts = alternate_tokens(token, tokenizer)\n",
    "        for token_id, alternate in alts.items():\n",
    "            if (token.upper() != token) and (token[1:].capitalize() != token[1:]) and (token[1:].capitalize() == alternate[1:]):\n",
    "                token_and_capitalized.append((i, token_id))"
   ]
  },
  {
   "cell_type": "code",
   "execution_count": 7,
   "metadata": {},
   "outputs": [
    {
     "data": {
      "text/plain": [
       "4491"
      ]
     },
     "execution_count": 7,
     "metadata": {},
     "output_type": "execute_result"
    }
   ],
   "source": [
    "len(token_and_capitalized)"
   ]
  },
  {
   "cell_type": "code",
   "execution_count": 8,
   "metadata": {},
   "outputs": [
    {
     "name": "stdout",
     "output_type": "stream",
     "text": [
      " creating  Creating\n",
      " anc  Anc\n",
      " employees  Employees\n",
      " arms  Arms\n",
      " download  Download\n",
      " supply  Supply\n",
      " mes  Mes\n",
      " train  Train\n",
      " lit  Lit\n",
      " diet  Diet\n"
     ]
    }
   ],
   "source": [
    "for lowercase_id, uppercase_id in token_and_capitalized[2000:2010]:\n",
    "    print(tokenizer.decode([lowercase_id]), tokenizer.decode([uppercase_id]))"
   ]
  },
  {
   "cell_type": "code",
   "execution_count": 9,
   "metadata": {},
   "outputs": [],
   "source": [
    "cache_dir = \"/om/user/ericjm/visualizing-neural-scaling/cache/\"\n",
    "step = 143000\n",
    "model_name = model_names[0]\n",
    "tokenizer = AutoTokenizer.from_pretrained(\n",
    "    f\"EleutherAI/{model_name}\",\n",
    "    revision=f\"step{step}\",\n",
    "    cache_dir=os.path.join(cache_dir, model_name, f\"step{step}\"),\n",
    ")\n",
    "model = GPTNeoXForCausalLM.from_pretrained(\n",
    "    f\"EleutherAI/{model_name}\",\n",
    "    revision=f\"step{step}\",\n",
    "    cache_dir=os.path.join(cache_dir, model_name, f\"step{step}\"),\n",
    ").to(device)\n",
    "embed = model.gpt_neox.embed_in.weight.data.detach().cpu().numpy()\n",
    "unembed = model.embed_out.weight.data.detach().cpu().numpy()\n",
    "\n",
    "# load up the initial model embeddings (step 0)\n",
    "step = 0\n",
    "tokenizer = AutoTokenizer.from_pretrained(\n",
    "    f\"EleutherAI/{model_name}\",\n",
    "    revision=f\"step{step}\",\n",
    "    cache_dir=os.path.join(cache_dir, model_name, f\"step{step}\"),\n",
    ")\n",
    "model = GPTNeoXForCausalLM.from_pretrained(\n",
    "    f\"EleutherAI/{model_name}\",\n",
    "    revision=f\"step{step}\",\n",
    "    cache_dir=os.path.join(cache_dir, model_name, f\"step{step}\"),\n",
    ").to(device)\n",
    "embed_initial = model.gpt_neox.embed_in.weight.data.detach().cpu().numpy()\n",
    "unembed_initial = model.embed_out.weight.data.detach().cpu().numpy()"
   ]
  },
  {
   "cell_type": "code",
   "execution_count": 10,
   "metadata": {},
   "outputs": [],
   "source": [
    "# Create dataset\n",
    "embeddings = []\n",
    "labels = []\n",
    "\n",
    "for lowercase_id, uppercase_id in token_and_capitalized:\n",
    "    embeddings.append(embed[lowercase_id])\n",
    "    labels.append(0)  # 0 for lowercase\n",
    "    embeddings.append(embed[uppercase_id])\n",
    "    labels.append(1)  # 1 for uppercase\n",
    "\n",
    "# Convert list to numpy arrays\n",
    "embeddings = np.array(embeddings)\n",
    "labels = np.array(labels)"
   ]
  },
  {
   "cell_type": "code",
   "execution_count": 11,
   "metadata": {},
   "outputs": [],
   "source": [
    "# Create a train and test split\n",
    "X_train, X_test, y_train, y_test = train_test_split(embeddings, labels, test_size=0.2, random_state=42)"
   ]
  },
  {
   "cell_type": "code",
   "execution_count": 12,
   "metadata": {},
   "outputs": [],
   "source": [
    "# Initialize and fit the logistic regression model\n",
    "clf = LogisticRegression(random_state=0).fit(X_train, y_train)"
   ]
  },
  {
   "cell_type": "code",
   "execution_count": 13,
   "metadata": {},
   "outputs": [
    {
     "name": "stdout",
     "output_type": "stream",
     "text": [
      "Test accuracy: 99.89%\n",
      "Train accuracy: 99.90%\n"
     ]
    }
   ],
   "source": [
    "# Now clf can be used to predict whether an embedding is a capitalized or uncapitalized token\n",
    "# Let's test it on the test set\n",
    "y_pred = clf.predict(X_test)\n",
    "y_pred_train = clf.predict(X_train)\n",
    "\n",
    "# Measure the performance\n",
    "accuracy = np.mean(y_pred == y_test)\n",
    "accuracy_train = np.mean(y_pred_train == y_train)\n",
    "print(f'Test accuracy: {accuracy*100:.2f}%')\n",
    "print(f'Train accuracy: {accuracy_train*100:.2f}%')"
   ]
  },
  {
   "cell_type": "code",
   "execution_count": 14,
   "metadata": {},
   "outputs": [],
   "source": [
    "# project embeddings onto vector orthogonal to the decision boundary\n",
    "# Get the normal vector to the decision boundary\n",
    "normal_vector = clf.coef_[0]\n",
    "\n",
    "# Get the bias term\n",
    "bias = clf.intercept_\n",
    "\n",
    "# Project both training and test data onto this vector\n",
    "projection_train = np.dot(X_train, normal_vector)\n",
    "projection_test = np.dot(X_test, normal_vector)\n",
    "\n",
    "# Separate the projections based on the labels\n",
    "lowercase_train = projection_train[y_train == 0]\n",
    "uppercase_train = projection_train[y_train == 1]\n",
    "lowercase_test = projection_test[y_test == 0]\n",
    "uppercase_test = projection_test[y_test == 1]"
   ]
  },
  {
   "cell_type": "code",
   "execution_count": 15,
   "metadata": {},
   "outputs": [
    {
     "data": {
      "text/plain": [
       "<matplotlib.legend.Legend at 0x14ac796d99d0>"
      ]
     },
     "execution_count": 15,
     "metadata": {},
     "output_type": "execute_result"
    },
    {
     "data": {
      "image/png": "[encoded data removed]",
      "text/plain": [
       "<Figure size 600x300 with 2 Axes>"
      ]
     },
     "metadata": {},
     "output_type": "display_data"
    }
   ],
   "source": [
    "# Plot histograms\n",
    "plt.figure(figsize=(6, 3)) # width, height\n",
    "plt.subplot(1, 2, 1)\n",
    "plt.hist(lowercase_train, bins=30, alpha=0.5, label='Lowercase train')\n",
    "plt.hist(uppercase_train, bins=30, alpha=0.5, label='Uppercase train')\n",
    "plt.legend(loc='upper right')\n",
    "\n",
    "plt.subplot(1, 2, 2)\n",
    "plt.hist(lowercase_test, bins=30, alpha=0.5, label='Lowercase test')\n",
    "plt.hist(uppercase_test, bins=30, alpha=0.5, label='Uppercase test')\n",
    "plt.legend(loc='upper right')\n",
    "# plt.title('Projection of embeddings onto decision boundary normal')\n",
    "# plt.xlabel('Projection')\n",
    "# plt.ylabel('Count')\n",
    "# plt.show()"
   ]
  },
  {
   "cell_type": "code",
   "execution_count": 16,
   "metadata": {},
   "outputs": [],
   "source": [
    "# want to compute the accuracy on the initial embeddings now\n",
    "embeddings_initial = []\n",
    "labels_initial = []\n",
    "\n",
    "for lowercase_id, uppercase_id in token_and_capitalized:\n",
    "    embeddings_initial.append(embed_initial[lowercase_id])\n",
    "    labels_initial.append(0)  # 0 for lowercase\n",
    "    embeddings_initial.append(embed_initial[uppercase_id])\n",
    "    labels_initial.append(1)  # 1 for uppercase\n",
    "\n",
    "# Convert list to numpy arrays\n",
    "embeddings_initial = np.array(embeddings)\n",
    "labels_initial = np.array(labels)"
   ]
  },
  {
   "cell_type": "code",
   "execution_count": 17,
   "metadata": {},
   "outputs": [
    {
     "name": "stdout",
     "output_type": "stream",
     "text": [
      "Accuracy on initial embeddings: 99.90%\n"
     ]
    }
   ],
   "source": [
    "y_pred = clf.predict(embeddings_initial)\n",
    "\n",
    "# Measure the performance\n",
    "accuracy = np.mean(y_pred == labels_initial)\n",
    "print(f'Accuracy on initial embeddings: {accuracy*100:.2f}%')"
   ]
  },
  {
   "cell_type": "code",
   "execution_count": 18,
   "metadata": {},
   "outputs": [],
   "source": [
    "# Project embeddings_initial onto vector orthogonal to the decision boundary\n",
    "projection_initial = np.dot(embeddings_initial, normal_vector)\n",
    "\n",
    "# Separate the projections based on the labels\n",
    "lowercase_initial = projection_initial[labels_initial == 0]\n",
    "uppercase_initial = projection_initial[labels_initial == 1]"
   ]
  },
  {
   "cell_type": "code",
   "execution_count": 21,
   "metadata": {},
   "outputs": [
    {
     "data": {
      "text/plain": [
       "<matplotlib.legend.Legend at 0x14ac78a9e1f0>"
      ]
     },
     "execution_count": 21,
     "metadata": {},
     "output_type": "execute_result"
    },
    {
     "data": {
      "image/png": "[encoded data removed]",
      "text/plain": [
       "<Figure size 300x300 with 1 Axes>"
      ]
     },
     "metadata": {},
     "output_type": "display_data"
    }
   ],
   "source": [
    "# Plot histograms\n",
    "plt.figure(figsize=(3, 3)) # width, height\n",
    "plt.hist(lowercase_initial, bins=30, alpha=0.5, label='Lowercase initial')\n",
    "plt.hist(uppercase_initial, bins=30, alpha=0.5, label='Uppercase initial')\n",
    "plt.legend(loc='upper right')"
   ]
  },
  {
   "cell_type": "code",
   "execution_count": 24,
   "metadata": {},
   "outputs": [],
   "source": [
    "# generate some random data to first fit the logistic regression to\n",
    "X = np.random.randn(10, embeddings_initial.shape[1])\n",
    "y = np.random.randint(2, size=10)"
   ]
  },
  {
   "cell_type": "code",
   "execution_count": 27,
   "metadata": {},
   "outputs": [
    {
     "data": {
      "application/vnd.jupyter.widget-view+json": {
       "model_id": "2210124040a741e2ae50157a0d55c1a7",
       "version_major": 2,
       "version_minor": 0
      },
      "text/plain": [
       "  0%|          | 0/30000 [00:00<?, ?it/s]"
      ]
     },
     "metadata": {},
     "output_type": "display_data"
    }
   ],
   "source": [
    "# let's compute the accuracy for a bunch of random decision boundaries\n",
    "accuracies = []\n",
    "for _ in tqdm(range(30000)):\n",
    "    coef = np.random.normal(size=embed.shape[1])\n",
    "    intercept = np.random.normal()\n",
    "    clf = LogisticRegression(random_state=0).fit(X, y)\n",
    "    clf.coef_ = np.array([coef])\n",
    "    clf.intercept_ = np.array([intercept])\n",
    "    y_pred = clf.predict(embeddings_initial)\n",
    "    accuracy = np.mean(y_pred == labels_initial)\n",
    "    accuracies.append(accuracy)"
   ]
  },
  {
   "cell_type": "code",
   "execution_count": 28,
   "metadata": {},
   "outputs": [
    {
     "data": {
      "image/png": "[encoded data removed]",
      "text/plain": [
       "<Figure size 640x480 with 1 Axes>"
      ]
     },
     "metadata": {},
     "output_type": "display_data"
    }
   ],
   "source": [
    "_ = plt.hist(accuracies, bins=30)"
   ]
  },
  {
   "cell_type": "code",
   "execution_count": 29,
   "metadata": {},
   "outputs": [
    {
     "data": {
      "text/plain": [
       "0.03107110987772748"
      ]
     },
     "execution_count": 29,
     "metadata": {},
     "output_type": "execute_result"
    }
   ],
   "source": [
    "np.std(accuracies)"
   ]
  },
  {
   "cell_type": "code",
   "execution_count": null,
   "metadata": {},
   "outputs": [],
   "source": []
  },
  {
   "cell_type": "code",
   "execution_count": null,
   "metadata": {},
   "outputs": [],
   "source": []
  },
  {
   "cell_type": "code",
   "execution_count": null,
   "metadata": {},
   "outputs": [],
   "source": []
  },
  {
   "cell_type": "code",
   "execution_count": null,
   "metadata": {},
   "outputs": [],
   "source": []
  },
  {
   "cell_type": "code",
   "execution_count": null,
   "metadata": {},
   "outputs": [],
   "source": []
  },
  {
   "cell_type": "code",
   "execution_count": null,
   "metadata": {},
   "outputs": [],
   "source": []
  }
 ],
 "metadata": {
  "kernelspec": {
   "display_name": "phase-changes",
   "language": "python",
   "name": "python3"
  },
  "language_info": {
   "codemirror_mode": {
    "name": "ipython",
    "version": 3
   },
   "file_extension": ".py",
   "mimetype": "text/x-python",
   "name": "python",
   "nbconvert_exporter": "python",
   "pygments_lexer": "ipython3",
   "version": "3.8.12"
  },
  "orig_nbformat": 4
 },
 "nbformat": 4,
 "nbformat_minor": 2
}

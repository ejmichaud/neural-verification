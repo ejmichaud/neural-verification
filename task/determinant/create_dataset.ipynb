{
 "cells": [
  {
   "cell_type": "code",
   "execution_count": 7,
   "id": "fbf6b593-be12-4860-a6b5-7c875044af5b",
   "metadata": {},
   "outputs": [],
   "source": [
    "import numpy as np\n",
    "import pandas as pd\n",
    "from sklearn.model_selection import train_test_split\n",
    "\n",
    "def create_dataset_matrix_determinant():\n",
    "    datapoints = 1024\n",
    "    train_split = 0.8\n",
    "    test_split = 0.2\n",
    "\n",
    "    dtype = np.int64  # Use np.int32 for larger integer values\n",
    "\n",
    "    # Generate random x values between 0 and 9\n",
    "    x = np.random.randint(0, 50, size=(datapoints, 4), dtype=dtype)\n",
    "    \n",
    "    # Calculate determinant of 2x2 matrices from the 4 numbers\n",
    "    matrices = x.reshape(-1, 2, 2)\n",
    "    y = np.linalg.det(matrices)\n",
    "\n",
    "    # Shuffle data\n",
    "    indices = np.arange(datapoints)\n",
    "    np.random.shuffle(indices)\n",
    "    x = x[indices]\n",
    "    y = y[indices]\n",
    "\n",
    "    # Split into train and test\n",
    "    train_size = int(len(y) * train_split)\n",
    "    test_size = len(y) - train_size\n",
    "    y_train, y_test = y[:train_size], y[train_size:]\n",
    "    X_train, X_test = x[:train_size], x[train_size:]\n",
    "\n",
    "    # Create DataFrames for train and test sets\n",
    "    train_df = pd.DataFrame({'X0': X_train[:, 0], 'X1': X_train[:, 1], 'X2': X_train[:, 2], 'X3': X_train[:, 3], 'target': y_train})\n",
    "    test_df = pd.DataFrame({'X0': X_test[:, 0], 'X1': X_test[:, 1], 'X2': X_test[:, 2], 'X3': X_test[:, 3], 'target': y_test})\n",
    "\n",
    "    # Save train and test DataFrames to CSV files\n",
    "    train_df.to_csv('data/train_data.csv', index=False)\n",
    "    test_df.to_csv('data/test_data.csv', index=False)\n",
    "\n",
    "create_dataset_matrix_determinant()\n"
   ]
  },
  {
   "cell_type": "code",
   "execution_count": null,
   "id": "114bf722-ddf1-4092-a068-4114c47f6417",
   "metadata": {},
   "outputs": [],
   "source": []
  }
 ],
 "metadata": {
  "kernelspec": {
   "display_name": "Python 3 (ipykernel)",
   "language": "python",
   "name": "python3"
  },
  "language_info": {
   "codemirror_mode": {
    "name": "ipython",
    "version": 3
   },
   "file_extension": ".py",
   "mimetype": "text/x-python",
   "name": "python",
   "nbconvert_exporter": "python",
   "pygments_lexer": "ipython3",
   "version": "3.8.13"
  }
 },
 "nbformat": 4,
 "nbformat_minor": 5
}

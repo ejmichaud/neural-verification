{
 "cells": [
  {
   "cell_type": "code",
   "execution_count": 1,
   "id": "448e1df0-cc9d-4f09-a6ea-5d8b8f69d10d",
   "metadata": {},
   "outputs": [
    {
     "name": "stdout",
     "output_type": "stream",
     "text": [
      "step = 0 | train loss: 2.70e-01 | test loss 2.70e-01 | train acc: 5.00e-01 | test acc: 5.11e-01 | reg: 6.06e+00 \n",
      "step = 500 | train loss: 1.14e-02 | test loss 1.21e-02 | train acc: 1.00e+00 | test acc: 1.00e+00 | reg: 4.15e+01 \n",
      "step = 1000 | train loss: 1.02e-04 | test loss 1.04e-04 | train acc: 1.00e+00 | test acc: 1.00e+00 | reg: 4.59e+01 \n",
      "step = 1500 | train loss: 7.82e-05 | test loss 7.83e-05 | train acc: 1.00e+00 | test acc: 1.00e+00 | reg: 4.58e+01 \n",
      "step = 2000 | train loss: 5.78e-05 | test loss 5.80e-05 | train acc: 1.00e+00 | test acc: 1.00e+00 | reg: 4.57e+01 \n",
      "step = 2500 | train loss: 4.18e-05 | test loss 4.20e-05 | train acc: 1.00e+00 | test acc: 1.00e+00 | reg: 4.57e+01 \n",
      "step = 3000 | train loss: 2.95e-05 | test loss 2.96e-05 | train acc: 1.00e+00 | test acc: 1.00e+00 | reg: 4.57e+01 \n",
      "step = 3500 | train loss: 2.45e-05 | test loss 2.48e-05 | train acc: 1.00e+00 | test acc: 1.00e+00 | reg: 4.62e+01 \n",
      "step = 4000 | train loss: 1.55e-05 | test loss 1.54e-05 | train acc: 1.00e+00 | test acc: 1.00e+00 | reg: 4.67e+01 \n",
      "step = 4500 | train loss: 1.24e-05 | test loss 1.23e-05 | train acc: 1.00e+00 | test acc: 1.00e+00 | reg: 4.71e+01 \n",
      "step = 5000 | train loss: 1.08e-05 | test loss 1.06e-05 | train acc: 1.00e+00 | test acc: 1.00e+00 | reg: 4.74e+01 \n",
      "step = 5500 | train loss: 9.81e-06 | test loss 9.65e-06 | train acc: 1.00e+00 | test acc: 1.00e+00 | reg: 4.77e+01 \n",
      "step = 6000 | train loss: 9.14e-06 | test loss 8.97e-06 | train acc: 1.00e+00 | test acc: 1.00e+00 | reg: 4.80e+01 \n",
      "step = 6500 | train loss: 8.58e-06 | test loss 8.41e-06 | train acc: 1.00e+00 | test acc: 1.00e+00 | reg: 4.83e+01 \n",
      "step = 7000 | train loss: 8.06e-06 | test loss 7.90e-06 | train acc: 1.00e+00 | test acc: 1.00e+00 | reg: 4.85e+01 \n",
      "step = 7500 | train loss: 7.57e-06 | test loss 7.42e-06 | train acc: 1.00e+00 | test acc: 1.00e+00 | reg: 4.88e+01 \n",
      "step = 8000 | train loss: 7.10e-06 | test loss 6.96e-06 | train acc: 1.00e+00 | test acc: 1.00e+00 | reg: 4.90e+01 \n",
      "step = 8500 | train loss: 6.65e-06 | test loss 6.53e-06 | train acc: 1.00e+00 | test acc: 1.00e+00 | reg: 4.93e+01 \n",
      "step = 9000 | train loss: 6.32e-06 | test loss 6.16e-06 | train acc: 1.00e+00 | test acc: 1.00e+00 | reg: 4.96e+01 \n",
      "step = 9500 | train loss: 7.48e-06 | test loss 7.21e-06 | train acc: 1.00e+00 | test acc: 1.00e+00 | reg: 4.98e+01 \n"
     ]
    }
   ],
   "source": [
    "import numpy as np\n",
    "import torch\n",
    "import torch.nn as nn\n",
    "import matplotlib.pyplot as plt\n",
    "\n",
    "seed = 4\n",
    "np.random.seed(seed)\n",
    "torch.manual_seed(seed)\n",
    "\n",
    "#device = 'cuda' if torch.cuda.is_available() else 'cpu'\n",
    "device = 'cpu'\n",
    "\n",
    "# model\n",
    "class RNN(nn.Module):\n",
    "    def __init__(self, hidden_dim, input_dim=2, output_dim=1):\n",
    "        super(RNN, self).__init__()\n",
    "\n",
    "        # Defining some parameters\n",
    "        self.hidden_dim = hidden_dim\n",
    "        self.Wh = nn.Linear(hidden_dim, hidden_dim)\n",
    "        self.Wx = nn.Linear(input_dim, hidden_dim)\n",
    "        self.Wy = nn.Linear(hidden_dim, output_dim\n",
    "                           )\n",
    "        self.act = nn.Sigmoid()\n",
    "        #self.act = lambda x: x\n",
    "    \n",
    "    def forward(self, x):\n",
    "        \n",
    "        batch_size = x.size(0)\n",
    "        seq_length = x.size(1)\n",
    "\n",
    "        hidden = torch.zeros(batch_size, self.hidden_dim).to(device)\n",
    "        outs = []\n",
    "\n",
    "        for i in range(seq_length):\n",
    "            hidden = self.act(self.Wh(hidden) + self.Wx(x[:,i,:]))\n",
    "            out = self.Wy(hidden)\n",
    "            outs.append(out)\n",
    "        \n",
    "        return torch.stack(outs).permute(1,0,2)\n",
    "    \n",
    "    \n",
    "# dataset\n",
    "\n",
    "seq_length = 5\n",
    "max_num = 2**seq_length\n",
    "X, Y = np.meshgrid(np.arange(max_num), np.arange(max_num))\n",
    "x = np.transpose(np.array([X.reshape(-1,), Y.reshape(-1,)]))\n",
    "rs = []\n",
    "routs = []\n",
    "\n",
    "y = x[:,[0]] + x[:,[1]]\n",
    "\n",
    "for i in range(seq_length):\n",
    "    x, r = np.divmod(x, 2)\n",
    "    rs.append(r)\n",
    "    \n",
    "for i in range(seq_length+1):\n",
    "    y, rout = np.divmod(y, 2)\n",
    "    routs.append(rout)\n",
    "    \n",
    "    \n",
    "data = np.transpose(np.array(rs), (1,0,2))\n",
    "\n",
    "inputs = np.concatenate([data, np.zeros((max_num**2, 1, 2))], axis=1)\n",
    "labels = np.transpose(np.array(routs), (1,0,2))\n",
    "\n",
    "\n",
    "carrybit = (inputs[:,:,0] + inputs[:,:,1] - labels[:,:,0]) % 2\n",
    "currentbit = inputs[:,:-1,0] + inputs[:,:-1,1]\n",
    "\n",
    "train_frac = 0.8\n",
    "num = inputs.shape[0]\n",
    "train_num = int(train_frac*num)\n",
    "test_num = num - train_num\n",
    "\n",
    "train_id = np.random.choice(num, train_num, replace=False)\n",
    "test_id = np.array(list(set(np.arange(num,)) - set(train_id)))\n",
    "\n",
    "inputs_train = inputs[train_id]\n",
    "labels_train = labels[train_id]\n",
    "inputs_train = torch.tensor(inputs_train, dtype=torch.float, requires_grad=True).to(device)\n",
    "labels_train = torch.tensor(labels_train, dtype=torch.float, requires_grad=True).to(device)\n",
    "\n",
    "inputs_test = inputs[test_id]\n",
    "labels_test = labels[test_id]\n",
    "inputs_test = torch.tensor(inputs_test, dtype=torch.float, requires_grad=True).to(device)\n",
    "labels_test = torch.tensor(labels_test, dtype=torch.float, requires_grad=True).to(device)\n",
    "\n",
    "inputs = torch.tensor(inputs, dtype=torch.float, requires_grad=True).to(device)\n",
    "labels = torch.tensor(labels, dtype=torch.float, requires_grad=True).to(device)\n",
    "\n",
    "model = RNN(hidden_dim=2).to(device)\n",
    "\n",
    "\n",
    "def l1(model):\n",
    "    l1_reg = torch.tensor(0.).to(device)\n",
    "    for param in model.parameters():\n",
    "        l1_reg += torch.sum(torch.abs(param))\n",
    "    return l1_reg\n",
    "\n",
    "optimizer = torch.optim.AdamW(model.parameters(), lr=0.01, weight_decay=0.0)\n",
    "steps = 10000 #10000\n",
    "log = 500\n",
    "lamb = 0e-4\n",
    "\n",
    "for step in range(steps):\n",
    "    \n",
    "    optimizer.zero_grad()\n",
    "    \n",
    "    pred_train = model(inputs_train)\n",
    "    loss_train = torch.mean((pred_train-labels_train)**2)\n",
    "    acc_train = torch.mean(((pred_train - 0.5)*(labels_train - 0.5) > 0).long().float())\n",
    "\n",
    "    pred_test = model(inputs_test)\n",
    "    loss_test = torch.mean((pred_test-labels_test)**2)\n",
    "    acc_test = torch.mean(((pred_test - 0.5)*(labels_test - 0.5) > 0).long().float())\n",
    "    \n",
    "    reg = l1(model)\n",
    "    loss = loss_train + lamb * reg\n",
    "    \n",
    "    loss.backward()\n",
    "    optimizer.step()\n",
    "    \n",
    "    if step % log == 0:\n",
    "        print(\"step = %d | train loss: %.2e | test loss %.2e | train acc: %.2e | test acc: %.2e | reg: %.2e \"%(step, loss_train.cpu().detach().numpy(), loss_test.cpu().detach().numpy(), acc_train.cpu().detach().numpy(), acc_test.cpu().detach().numpy(), reg.cpu().detach().numpy()))\n",
    "    "
   ]
  },
  {
   "cell_type": "code",
   "execution_count": 2,
   "id": "784054a4-6cc2-40cb-b70e-24e1b6982620",
   "metadata": {},
   "outputs": [
    {
     "data": {
      "text/plain": [
       "torch.Size([819, 6, 2])"
      ]
     },
     "execution_count": 2,
     "metadata": {},
     "output_type": "execute_result"
    }
   ],
   "source": [
    "inputs_train.shape"
   ]
  },
  {
   "cell_type": "code",
   "execution_count": 3,
   "id": "f731b478-7a19-4d06-9e32-573f6789835a",
   "metadata": {},
   "outputs": [],
   "source": [
    "batch_size = inputs.shape[0]\n",
    "hidden = torch.zeros(batch_size, model.hidden_dim).to(device)\n",
    "hiddens = []\n",
    "\n",
    "for i in range(seq_length):\n",
    "    hidden = model.act(model.Wh(hidden) + model.Wx(inputs[:,i,:]))\n",
    "    out = model.Wy(hidden)\n",
    "    hiddens.append(hidden.clone().cpu().detach().numpy())"
   ]
  },
  {
   "cell_type": "code",
   "execution_count": 4,
   "id": "bc9817e7-d5d7-4dd2-ae8c-de6c6f5f9dce",
   "metadata": {},
   "outputs": [],
   "source": [
    "hiddens = np.transpose(np.array(hiddens), (1,0,2))"
   ]
  },
  {
   "cell_type": "code",
   "execution_count": 5,
   "id": "20305dfb-6562-41a7-9833-d2ad4ae9aeb4",
   "metadata": {},
   "outputs": [
    {
     "data": {
      "text/plain": [
       "<matplotlib.collections.PathCollection at 0x7ff90d81b940>"
      ]
     },
     "execution_count": 5,
     "metadata": {},
     "output_type": "execute_result"
    },
    {
     "data": {
      "image/png": "[encoded data removed]",
      "text/plain": [
       "<Figure size 640x480 with 1 Axes>"
      ]
     },
     "metadata": {},
     "output_type": "display_data"
    }
   ],
   "source": [
    "from mpl_toolkits import mplot3d\n",
    "import numpy as np\n",
    "import matplotlib.pyplot as plt\n",
    " \n",
    "\n",
    "x = hiddens[:,:,0].reshape(-1,)\n",
    "y = hiddens[:,:,1].reshape(-1,)\n",
    "\n",
    "plt.scatter(x, y)"
   ]
  },
  {
   "cell_type": "code",
   "execution_count": 6,
   "id": "a57c410e-605a-4a16-8e2e-7c05583b4eaf",
   "metadata": {},
   "outputs": [
    {
     "data": {
      "text/plain": [
       "<matplotlib.collections.PathCollection at 0x7ff8fc351a20>"
      ]
     },
     "execution_count": 6,
     "metadata": {},
     "output_type": "execute_result"
    },
    {
     "data": {
      "image/png": "[encoded data removed]",
      "text/plain": [
       "<Figure size 640x480 with 1 Axes>"
      ]
     },
     "metadata": {},
     "output_type": "display_data"
    }
   ],
   "source": [
    "x = hiddens[:,:,0].reshape(-1,)\n",
    "y = hiddens[:,:,1].reshape(-1,)\n",
    "plt.xlabel(\"neuron 1\")\n",
    "plt.ylabel(\"neuron 2\")\n",
    "plt.scatter(x, y, c = carrybit[:,1:].reshape(-1,))\n"
   ]
  },
  {
   "cell_type": "code",
   "execution_count": 7,
   "id": "ccda98f5-d82a-470d-8949-7b3e3ec0c89d",
   "metadata": {},
   "outputs": [
    {
     "data": {
      "text/plain": [
       "<matplotlib.collections.PathCollection at 0x7ff8fc309b70>"
      ]
     },
     "execution_count": 7,
     "metadata": {},
     "output_type": "execute_result"
    },
    {
     "data": {
      "image/png": "[encoded data removed]",
      "text/plain": [
       "<Figure size 640x480 with 1 Axes>"
      ]
     },
     "metadata": {},
     "output_type": "display_data"
    }
   ],
   "source": [
    "x = hiddens[:,:,0].reshape(-1,)\n",
    "y = hiddens[:,:,1].reshape(-1,)\n",
    "plt.xlabel(\"neuron 1\")\n",
    "plt.ylabel(\"neuron 2\")\n",
    "\n",
    "plt.scatter(x, y, c = ((currentbit+carrybit[:,:-1])%2).reshape(-1,))"
   ]
  },
  {
   "cell_type": "code",
   "execution_count": 8,
   "id": "76fb4501-1617-4345-88f6-c898383816b0",
   "metadata": {},
   "outputs": [],
   "source": [
    "# clustering\n",
    "\n",
    "from sklearn.cluster import KMeans\n",
    "X = np.transpose(np.array([x,y]))\n",
    "kmeans = KMeans(n_clusters=4, random_state=0, n_init=\"auto\").fit(X)\n",
    "vectorlist = kmeans.cluster_centers_"
   ]
  },
  {
   "cell_type": "code",
   "execution_count": 9,
   "id": "421941a4-2c2d-4e7f-8374-d2e9f9693a45",
   "metadata": {},
   "outputs": [
    {
     "data": {
      "text/plain": [
       "array([[7.0743787e-01, 9.7369856e-01],\n",
       "       [2.9604739e-01, 3.0056477e-02],\n",
       "       [6.8157315e-02, 2.5928020e-05],\n",
       "       [9.3290389e-01, 9.9997753e-01]], dtype=float32)"
      ]
     },
     "execution_count": 9,
     "metadata": {},
     "output_type": "execute_result"
    }
   ],
   "source": [
    "vectorlist"
   ]
  },
  {
   "cell_type": "code",
   "execution_count": 10,
   "id": "2e53428f-e878-47ce-9910-1866066b9c06",
   "metadata": {},
   "outputs": [],
   "source": [
    "# find parallelogram\n",
    "\n",
    "# Tries to interpret 2^n vectors as n bits, defining an n-dimensional parallelogram\n",
    "# Max Tegmark Aug 25 2023\n",
    "\n",
    "import time\n",
    "import numpy as np\n",
    "import scipy, itertools\n",
    "\n",
    "\n",
    "def bitstring2int(s): return int(s,2)\n",
    "\n",
    "def int2bitstring(n,i): \n",
    "    s = bin(i)[2:]\n",
    "    return \"\".join([\"0\" for j in range(n-len(s))])+s\n",
    "\n",
    "def str2int(lst): return list(map(int,lst))\n",
    "\n",
    "# Computes all 2^n bitstrings f length n:\n",
    "def allstrings(n): [int2bitstring(n,i) for i in range(2**n)]\n",
    "\n",
    "# Computes B-matrix whose rows are all 2^n bit strings of length n:\n",
    "def Bmatrix(n): \n",
    "    return np.array([str2int(list(int2bitstring(n,i))) for i in range(2**n)])\n",
    "\n",
    "def list2nN(lst):\n",
    "    N = len(lst)\n",
    "    n = int(np.log(N)/np.log(2))\n",
    "    if 2**n != N: \n",
    "        print(\"List length not power of 2: \",f,N,n)\n",
    "        exit()\n",
    "    return n,N                \n",
    "\n",
    "# Input:   a list of 2^n vectors\n",
    "# Output:  fitting error to model where these vectors form an n-dimensional parallelogram in canonical order\n",
    "# Demo:  vectorlist =[[10,20],[10,22],[11,21],[11,23]]\n",
    "def parallelogramFit(vectorlist):\n",
    "    n,N = list2nN(vectorlist)\n",
    "    A = np.array(vectorlist)\n",
    "    A = A - A[0] # WLOG 1st point is at the origin\n",
    "    B = Bmatrix(n)\n",
    "    BtB = B.T @ B\n",
    "    BBinv = np.linalg.inv(BtB)\n",
    "    X = BBinv @ B.T @ A\n",
    "    E = A - B @ X # Fitting error\n",
    "    error = np.trace(E.T @ E)/np.trace(A.T @ A) # Between & 1, where 0 = perfect\n",
    "    return error\n",
    "\n",
    "\n",
    "# Input:   a list of 2^n vectors\n",
    "# Output:  a list of 2^b bitstring of length n, labeling these vectors\n",
    "# Demo:  vectorlist =[[10,20],[10,22],[11,21],[11,23]]\n",
    "# Calls parallelogramFit for all permutations of the vectors and returns best fit.\n",
    "\n",
    "# Computes inverse permutation:\n",
    "def invperm(perm):\n",
    "    n = len(perm)\n",
    "    p = [0 for i in range(n)]\n",
    "    for i in range(n): p[perm[i]]=i\n",
    "    return p\n",
    "# Demo: invperm([1,2,3,0])\n",
    "\n",
    "def vecs2bits(vectorlist):\n",
    "    n,N = list2nN(vectorlist)\n",
    "    perms = list(itertools.permutations(range(N)))\n",
    "    besterror = 666.\n",
    "    for perm in itertools.permutations(range(N)):\n",
    "        A = [vectorlist[i] for i in perm]\n",
    "        error = parallelogramFit(A)\n",
    "        #print(perm,error)\n",
    "        if error < besterror:\n",
    "            error = besterror\n",
    "            bestperm = perm\n",
    "    B = Bmatrix(n)\n",
    "    p = invperm(bestperm)\n",
    "    bestB = np.array([B[p[i]] for i in range(N)]).astype(int)\n",
    "    return bestB,besterror\n",
    "\n"
   ]
  },
  {
   "cell_type": "code",
   "execution_count": 11,
   "id": "27a9f502-eaf5-4558-b15c-f73cce87e8b3",
   "metadata": {},
   "outputs": [],
   "source": [
    "cluster_bits = 1 - vecs2bits(vectorlist.tolist())[0]"
   ]
  },
  {
   "cell_type": "code",
   "execution_count": 12,
   "id": "f4dd20a1-3561-4c0b-a019-2ed198f39ae8",
   "metadata": {},
   "outputs": [],
   "source": [
    "x = np.arange(2**4)\n",
    "\n",
    "rs = []\n",
    "\n",
    "for i in range(4):\n",
    "    x, r = np.divmod(x, 2)\n",
    "    rs.append(r)\n",
    "    \n",
    "rs = np.transpose(np.array(rs))"
   ]
  },
  {
   "cell_type": "code",
   "execution_count": 13,
   "id": "b777dfe6-040e-440d-a476-14d879e4ba02",
   "metadata": {},
   "outputs": [
    {
     "name": "stdout",
     "output_type": "stream",
     "text": [
      "[[7.0743787e-01 9.7369856e-01]\n",
      " [6.8157315e-02 2.5928020e-05]\n",
      " [2.9604739e-01 3.0056477e-02]\n",
      " [9.3290389e-01 9.9997753e-01]\n",
      " [7.0743787e-01 9.7369856e-01]\n",
      " [6.8157315e-02 2.5928020e-05]\n",
      " [2.9604739e-01 3.0056477e-02]\n",
      " [9.3290389e-01 9.9997753e-01]\n",
      " [7.0743787e-01 9.7369856e-01]\n",
      " [6.8157315e-02 2.5928020e-05]\n",
      " [2.9604739e-01 3.0056477e-02]\n",
      " [9.3290389e-01 9.9997753e-01]\n",
      " [7.0743787e-01 9.7369856e-01]\n",
      " [6.8157315e-02 2.5928020e-05]\n",
      " [2.9604739e-01 3.0056477e-02]\n",
      " [9.3290389e-01 9.9997753e-01]]\n",
      "[[0 0]\n",
      " [0 0]\n",
      " [0 0]\n",
      " [0 0]\n",
      " [1 0]\n",
      " [1 0]\n",
      " [1 0]\n",
      " [1 0]\n",
      " [0 1]\n",
      " [0 1]\n",
      " [0 1]\n",
      " [0 1]\n",
      " [1 1]\n",
      " [1 1]\n",
      " [1 1]\n",
      " [1 1]]\n",
      "torch.Size([16, 2])\n"
     ]
    }
   ],
   "source": [
    "hidden = vectorlist[rs[:,0]*2 + rs[:,1]]\n",
    "print(hidden)\n",
    "x = rs[:,[2,3]]\n",
    "print(x)\n",
    "\n",
    "hidden = torch.tensor(hidden, dtype=torch.float)\n",
    "x = torch.tensor(x, dtype=torch.float)\n",
    "print(x.shape)\n",
    "out = model.Wy(hidden)\n",
    "\n",
    "hidden = model.act(model.Wh(hidden) + model.Wx(x))\n",
    "\n",
    "out_bit = np.round(out[:,0].detach().numpy()).astype(int)\n",
    "\n",
    "hidden_next_bit = cluster_bits[np.argmin(np.linalg.norm(hidden.detach().numpy()[np.newaxis,:,:] - vectorlist[:,np.newaxis,:], axis=2), axis=0)]"
   ]
  },
  {
   "cell_type": "code",
   "execution_count": 14,
   "id": "ff60e975-4df3-42b8-a868-b4fa28e114c0",
   "metadata": {},
   "outputs": [],
   "source": [
    "# (hidden_current, x_current) => hidden_next; rs => hidden_next_bit\n",
    "# hidden_current = rs[:4, :2] => out_bit = out_bit[:4]"
   ]
  },
  {
   "cell_type": "code",
   "execution_count": 15,
   "id": "5494c8bb-ddfc-4500-846d-afe8b01d13c7",
   "metadata": {},
   "outputs": [],
   "source": [
    "# three symbolic functions to be learned\n",
    "# out from h[0], h[1]\n",
    "# h[0] from last h[0], h[1], current x[0], x[1]\n",
    "# h[1] from last h[0], h[1], current x[0], x[1]\n",
    "\n",
    "\n",
    "# Tools for symbolic regression of boolean functions\n",
    "# Max Tegmark Aug 24-25 2023\n",
    "\n",
    "import time\n",
    "from math import log\n",
    "\n",
    "def bitstring2int(s): return int(s,2)\n",
    "\n",
    "def int2bitstring(n,i): \n",
    "    s = bin(i)[2:]\n",
    "    return \"\".join([\"0\" for j in range(n-len(s))])+s\n",
    "\n",
    "# A boolean function f is defined as a string f of length 2^n, say \"00010001\"\n",
    "# The argument list is defined as a string x length n ,say \"011\"\n",
    "# Returns char \"0\" or \"1\"\n",
    "def booleval(f,x):\n",
    "    n = len(x)\n",
    "    if len(f) != 2**n: \n",
    "        print(\"String length mismatch error: \",n,2**n,len(s))\n",
    "        exit()\n",
    "    i = bitstring2int(x)\n",
    "    return f[i]\n",
    "# DEMO: booleval(\"11111111\",\"111\")\n",
    "\n",
    "# Flip the ith bit in the bitstring n\n",
    "def flip_bit(x,i):\n",
    "    s = list(x)\n",
    "    s[i] = str(1-int(s[i]))\n",
    "    return \"\".join(s)\n",
    "# DEMO: flip_bit(\"11111111\",2)\n",
    "\n",
    "def f2nN(f):\n",
    "    N = len(f)\n",
    "    n = int(log(N)/log(2))\n",
    "    if 2**n != N: \n",
    "        print(\"String length not power of 2: \",f,N,n)\n",
    "        exit()\n",
    "    return n,N\n",
    "\n",
    "def bitsum(s): return sum([int(c) for c in s])\n",
    "\n",
    "def find_variables_used(f):\n",
    "    # Returns e.g. \"101\" if function f depends on x_0 & x_2 but not x_1\n",
    "    n,N = f2nN(f)\n",
    "    s = [\"0\" for i in range(n)]\n",
    "    for i in range(N):\n",
    "        x = int2bitstring(n,i)\n",
    "        for k in range(n):\n",
    "            if booleval(f,x) != booleval(f,flip_bit(x,k)): s[k] = \"1\"\n",
    "    return \"\".join(s)\n",
    "# DEMO: find_variables_used(\"01100110\") # x[1] XOR x[2]\n",
    "\n",
    "# Return the function f restricted to the only variables it depends on:\n",
    "def subfunc(f):\n",
    "    used = find_variables_used(f)\n",
    "    n = len(used)\n",
    "    vars = [i for i in range(n) if used[i]==\"1\"]\n",
    "    n1 = len(vars)\n",
    "    N1 = 2**n1\n",
    "    f1 = [\"0\" for i in range(N1)]\n",
    "    for i in range(N1):\n",
    "        x1 = int2bitstring(n1,i)\n",
    "        x  = [\"0\" for i in range(n)]\n",
    "        for k in range(n1): x[vars[k]] = x1[k]\n",
    "        f1[i] = booleval(f,\"\".join(x))\n",
    "    return f1,vars\n",
    "# DEMO: subfunc(\"01100110\") # x[1] XOR x[2]\n",
    "\n",
    "def parallelogram():\n",
    "    return\n",
    "\n",
    "def symmetricQ(f):\n",
    "    # Check if f is fully symmetric under all permutations of its variables, thus depending only on variable sum\n",
    "    # If so, returns string giving value taken for each bit sum, otherwise returns \"\".\n",
    "    # 2**(n+1) out of the 2**N functions are symmetric.\n",
    "    n,N = f2nN(f)\n",
    "    s = [\"-\" for i in range(n+1)]\n",
    "    for i in range(N):\n",
    "        x = int2bitstring(n,i)\n",
    "        k = bitsum(x)\n",
    "        c = booleval(f,x) \n",
    "        if s[k] != c:\n",
    "            if s[k] == \"-\": s[k] = c\n",
    "            else: return \"\"\n",
    "    return \"\".join(s)\n",
    "\n",
    "# Write x as boolean condition\"\n",
    "def x2dnf(x,varnames):\n",
    "    n = len(x)\n",
    "    return \" and \".join([[\"not \",\"\"][int(x[i])]+varnames[i] for i in range(n)])\n",
    "# Demo: x2dnf(\"110\",\"abc\") \n",
    "# returns \"a and b and not c\"\n",
    "\n",
    "# Write f in disjunctive normal form:\n",
    "def f2dnf(f,varnames):\n",
    "    n,N = f2nN(f)\n",
    "    return \" or \".join([\"(\"+x2dnf(int2bitstring(n,i),varnames)+\")\" for i in range(N) if f[i]==\"1\"])\n",
    "# Demo: f2dnf(\"01100110\",\"abc\") \n",
    "# returns \"a and b and not c\"\n",
    "\n",
    "# Checks if string of type \"010101010\":\n",
    "def parityQ(s):\n",
    "    x = [int(c) for c in s]\n",
    "    if x[0] != 0: return False\n",
    "    for i in range(len(x)-1):\n",
    "        if x[i]+x[i+1] != 1: return False\n",
    "    return True\n",
    "# DEMO: parityQ(\"01010\")\n",
    "    \n",
    "# Checks if string is sorted, like e.g. \"0000111\":\n",
    "def sortedQ(s):\n",
    "    for i in range(len(s)-1):\n",
    "        if s[i]>s[i+1]: return False\n",
    "    return True\n",
    "\n",
    "# Returns 4 if s=\"0000111\", returns -1 if not step function\n",
    "def stepupQ(s):\n",
    "    if not sortedQ(s): return -1\n",
    "    for i in range(len(s)): \n",
    "        if s[i]==\"1\": return i-1\n",
    "    return -1\n",
    "\n",
    "# Returns 4 if s=\"1111000\", returns -1 if not step function\n",
    "def stepdownQ(s):\n",
    "    if not sortedQ(\"\".join(reversed(s))): return -1\n",
    "    for i in range(len(s)): \n",
    "        if s[i]==\"0\": return i-1\n",
    "    return -1\n",
    "\n",
    "def symmfunc(s,varsum):\n",
    "    return \" or \".join([varsum+\"==\"+str(i) for i in range(len(s)) if s[i]==\"1\"])\n",
    "# Demo: symmfunc(\"1001\",\"abc\") \n",
    "# returns \"a+b+c==0 or a+b+c==3\"\n",
    "\n",
    "# Given a string s specifying how function depends on bit sum, return the formula:\n",
    "def symmetric_formula(s,varnames):\n",
    "    if len(varnames)==1 and s==\"10\": return \"not \"+varnames[0]\n",
    "    if parityQ(s): return \" xor \".join(varnames) # f is xor of all variables\n",
    "    varsum = \"+\".join(varnames)\n",
    "    i = stepupQ(s) \n",
    "    if i >= 0: return varsum+\">\"+str(i)\n",
    "    i = stepdownQ(s) \n",
    "    if i >= 0: return varsum+\"<\"+str(i+1)\n",
    "    return symmfunc(s,varsum)\n",
    "\n",
    "def formula(f):\n",
    "    f1,vars = subfunc(f)\n",
    "    varnames = [chr(97+i) for i in vars]\n",
    "    if varnames == []: return str(bool(int(f[0]))) # Function is a constant\n",
    "    formula1 = f2dnf(f1,varnames)\n",
    "    s = symmetricQ(f1)\n",
    "    if s == \"\": return formula1\n",
    "    formula2 = symmetric_formula(s,varnames)\n",
    "    if len(formula2)<len(formula1): formula1 = formula2 # Pick shortest formula\n",
    "    return formula1\n",
    "\n",
    "\n",
    "#def shortest_formula(f):\n",
    "    \n",
    "\n",
    "def demo1():\n",
    "    n = 3\n",
    "    N = 2**n\n",
    "    for i in range(2**N):\n",
    "        f = int2bitstring(N,i)\n",
    "        print(f+\": \"+formula(f))\n",
    "        #time.sleep(.5)\n",
    "    return\n",
    "\n",
    "def demo2():\n",
    "    print(formula(\"00000000\")) # False\n",
    "    print(formula(\"11111111\")) # True\n",
    "    print(formula(\"00001111\")) # a\n",
    "    print(formula(\"01100110\")) # b xor c\n",
    "    print(formula(\"01101001\")) # a xor b xor c\n",
    "    print(formula(\"01111111\")) # a+b+c==1 or a+b+c==2 or a+b+c==3 <=========\n",
    "    print(formula(\"00010111\")) # a+b+c==2 or a+b+c==3\n",
    "    print(formula(\"00000001\")) # a+b+c==3\n",
    "    print(formula(\"11101000\")) # a+b+c==0 or a+b+c==1  FAILS\n",
    "    print(formula(\"10000001\")) # a+b+c==0 or a+b+c==3\n",
    "\n",
    "\n",
    "\n"
   ]
  },
  {
   "cell_type": "code",
   "execution_count": 16,
   "id": "9c224b0f-4b4e-433d-b056-03348b063c6f",
   "metadata": {},
   "outputs": [],
   "source": [
    "# (hidden_current, x_current) => hidden_next; rs => hidden_next_bit\n",
    "# hidden_current = rs[:4, :2] => out_bit = out_bit[:4]\n",
    "str_arr = np.zeros(16,dtype=int)\n",
    "indices = np.sum(rs * 2**np.array([3,2,1,0]), axis=1)\n",
    "str_arr[indices] = hidden_next_bit[:,0]\n",
    "string = \"\"\n",
    "for bit in list(str_arr):\n",
    "    string += str(bit)\n",
    "next_a_formula = formula(string)"
   ]
  },
  {
   "cell_type": "code",
   "execution_count": 17,
   "id": "d9c240d5-f172-421f-8b2d-95c4e1fcf281",
   "metadata": {},
   "outputs": [
    {
     "data": {
      "text/plain": [
       "'(not a and not b and c and d) or (not a and b and not c and not d) or (a and not b and not c and not d) or (a and b and c and d)'"
      ]
     },
     "execution_count": 17,
     "metadata": {},
     "output_type": "execute_result"
    }
   ],
   "source": [
    "next_a_formula"
   ]
  },
  {
   "cell_type": "code",
   "execution_count": 18,
   "id": "3b5cd934-58ca-40f3-b1df-6394bcc1dd07",
   "metadata": {},
   "outputs": [],
   "source": [
    "str_arr = np.zeros(16,dtype=int)\n",
    "indices = np.sum(rs * 2**np.array([3,2,1,0]), axis=1)\n",
    "str_arr[indices] = hidden_next_bit[:,1]\n",
    "string = \"\"\n",
    "for bit in list(str_arr):\n",
    "    string += str(bit)\n",
    "next_b_formula = formula(string)"
   ]
  },
  {
   "cell_type": "code",
   "execution_count": 19,
   "id": "a1fc1a6c-75d6-4152-8ae9-5f452b9233b8",
   "metadata": {},
   "outputs": [
    {
     "data": {
      "text/plain": [
       "'a+b+c+d==0 or a+b+c+d==2 or a+b+c+d==4'"
      ]
     },
     "execution_count": 19,
     "metadata": {},
     "output_type": "execute_result"
    }
   ],
   "source": [
    "next_b_formula"
   ]
  },
  {
   "cell_type": "code",
   "execution_count": 20,
   "id": "ab565ace-5ed7-4433-91ec-be33374ea7de",
   "metadata": {},
   "outputs": [],
   "source": [
    "# output bit\n",
    "str_arr = np.zeros(4,dtype=int)\n",
    "indices = np.sum(rs[:4,:2] * 2**np.array([1,0]), axis=1)\n",
    "str_arr[indices] = out_bit[:4]\n",
    "string = \"\"\n",
    "for bit in list(str_arr):\n",
    "    string += str(bit)\n",
    "out_formula = formula(string)"
   ]
  },
  {
   "cell_type": "code",
   "execution_count": 21,
   "id": "8533fccd-3b37-467a-be2c-f07686094fd2",
   "metadata": {},
   "outputs": [
    {
     "data": {
      "text/plain": [
       "'b'"
      ]
     },
     "execution_count": 21,
     "metadata": {},
     "output_type": "execute_result"
    }
   ],
   "source": [
    "out_formula"
   ]
  },
  {
   "cell_type": "code",
   "execution_count": 22,
   "id": "216142ce-539e-4cbb-949f-ca3a45264b8f",
   "metadata": {},
   "outputs": [
    {
     "name": "stdout",
     "output_type": "stream",
     "text": [
      "(not a and not b and c and d) or (not a and b and not c and not d) or (a and not b and not c and not d) or (a and b and c and d)\n",
      "a+b+c+d==0 or a+b+c+d==2 or a+b+c+d==4\n",
      "b\n"
     ]
    }
   ],
   "source": [
    "print(next_a_formula)\n",
    "print(next_b_formula)\n",
    "print(out_formula)"
   ]
  },
  {
   "cell_type": "code",
   "execution_count": 23,
   "id": "49a9a50a-88b6-4662-b4fd-9d0b42c61f9e",
   "metadata": {},
   "outputs": [
    {
     "data": {
      "text/plain": [
       "False"
      ]
     },
     "execution_count": 23,
     "metadata": {},
     "output_type": "execute_result"
    }
   ],
   "source": [
    "\">\" in next_a_formula"
   ]
  },
  {
   "cell_type": "code",
   "execution_count": 24,
   "id": "b3d4c74b-5941-4d0f-98e9-23d9406388b2",
   "metadata": {},
   "outputs": [],
   "source": [
    "# next_a_formula_split = next_a_formula.split()\n",
    "# next_a_formula_np = []\n",
    "# for sub in next_a_formula_split:\n",
    "#     if sub == 'or':\n",
    "#         sub = sub.replace('or', 'np.bitwise_or')\n",
    "#     elif sub == 'and':\n",
    "#         sub = sub.replace('and', 'np.bitwise_and')\n",
    "#     elif sub == 'xor':\n",
    "#         sub = sub.replace('xor', 'np.bitwise_xor')\n",
    "#     else:\n",
    "#         sub = sub.replace('not', 'lambda x: 1-x')\n",
    "#     next_a_formula_np.append(sub)\n"
   ]
  },
  {
   "cell_type": "code",
   "execution_count": 25,
   "id": "db71facf-56aa-47bf-af1a-80a36abe39e6",
   "metadata": {},
   "outputs": [],
   "source": [
    "# next_a_formula_str = \"\"\n",
    "# i = 0\n",
    "# while i < len(next_a_formula_np):\n",
    "#     sub = next_a_formula_np[i]\n",
    "#     if sub == 'np.bitwise_and' or sub == 'np.bitwise_or' or sub == 'np.bitwise_xor':\n",
    "#         next_a_formula_str = sub + '(' + next_a_formula_str + ',' + next_a_formula_np[i+1] + ')'\n",
    "#         i += 2\n",
    "#     else:\n",
    "#         next_a_formula_str = next_a_formula_str + sub\n",
    "#         i += 1"
   ]
  },
  {
   "cell_type": "code",
   "execution_count": 26,
   "id": "e7d244f1-d222-4552-8272-7ad12455e630",
   "metadata": {},
   "outputs": [],
   "source": [
    "# next_a_formula_str"
   ]
  },
  {
   "cell_type": "code",
   "execution_count": 27,
   "id": "90aa4381-a0fa-4eaa-9505-bbe67caaf4d6",
   "metadata": {},
   "outputs": [],
   "source": [
    "# print(next_a_formula_str)\n",
    "# next_b_formula_str = next_b_formula\n",
    "# print(next_b_formula_str)\n",
    "# out_formula_str = out_formula\n",
    "# print(out_formula_str)"
   ]
  },
  {
   "cell_type": "code",
   "execution_count": 28,
   "id": "fda544f7-5c10-43a2-9a01-c22ea976cd2a",
   "metadata": {},
   "outputs": [],
   "source": [
    "import re\n",
    "import numpy as np\n",
    "\n",
    "def convert_logical_to_python(logical_expression):\n",
    "    \"\"\"\n",
    "    Converts a logical expression into its equivalent Python representation using NumPy bitwise operators.\n",
    "\n",
    "    Args:\n",
    "        logical_expression (str): The logical expression to be converted.\n",
    "\n",
    "    Returns:\n",
    "        str: The Python representation of the logical expression.\n",
    "    \"\"\"\n",
    "    \n",
    "    #This is the case we have a constraint\n",
    "    if \"<\" in logical_expression or \">\" in logical_expression:\n",
    "        return logical_expression\n",
    "    \n",
    "    def extract_elements(logical_expression):\n",
    "        \"\"\"\n",
    "        Extracts elements enclosed in parentheses from a logical expression.\n",
    "\n",
    "        Args:\n",
    "            logical_expression (str): The logical expression.\n",
    "\n",
    "        Returns:\n",
    "            list: A list of elements inside parentheses.\n",
    "        \"\"\"\n",
    "        inside_elements = re.findall(r'\\((.*?)\\)', logical_expression)\n",
    "        return inside_elements\n",
    "\n",
    "    def apply_not(expression):\n",
    "        \"\"\"\n",
    "        Applies the NOT operation to a given expression.\n",
    "\n",
    "        Args:\n",
    "            expression (str): The expression to be negated.\n",
    "\n",
    "        Returns:\n",
    "            str: The negated expression.\n",
    "        \"\"\"\n",
    "        return f'1 - {expression}'\n",
    "\n",
    "    def convert_logic_operators(formula_split):\n",
    "        \"\"\"\n",
    "        Converts logical operators in a formula split into their equivalent Python representation.\n",
    "\n",
    "        Args:\n",
    "            formula_split (list): The split components of a logical formula.\n",
    "\n",
    "        Returns:\n",
    "            list: The list of converted components.\n",
    "        \"\"\"\n",
    "\n",
    "        operators_mapping = {'or': 'np.bitwise_or', 'and': 'np.bitwise_and', 'xor': 'np.bitwise_xor', 'not': apply_not}\n",
    "\n",
    "        formula_np = []\n",
    "        skip_next = False\n",
    "\n",
    "        for i, sub in enumerate(formula_split):\n",
    "            if skip_next:\n",
    "                skip_next = False\n",
    "                continue\n",
    "\n",
    "            mapped_sub = operators_mapping.get(sub, sub)\n",
    "            if callable(mapped_sub):\n",
    "                mapped_sub = mapped_sub(formula_split[i + 1])\n",
    "                skip_next = True\n",
    "\n",
    "            formula_np.append(mapped_sub)\n",
    "        return formula_np\n",
    "\n",
    "    def build_expression(formula_np):\n",
    "        \"\"\"\n",
    "        Builds a Python expression from a list of converted components.\n",
    "\n",
    "        Args:\n",
    "            formula_np (list): The list of converted components.\n",
    "\n",
    "        Returns:\n",
    "            str: The Python expression.\n",
    "        \"\"\"\n",
    "\n",
    "        expression_str = \"\"\n",
    "        i = 0\n",
    "\n",
    "        while i < len(formula_np):\n",
    "            sub = formula_np[i]\n",
    "\n",
    "            if sub in {'np.bitwise_and', 'np.bitwise_or', 'np.bitwise_xor'}:\n",
    "                expression_str = f'{sub}({expression_str},{formula_np[i+1]})'\n",
    "                i += 2\n",
    "            elif callable(sub):\n",
    "                expression_str = f'{sub}({formula_np[i+1]})'\n",
    "                i += 2\n",
    "            else:\n",
    "                expression_str += sub\n",
    "                i += 1\n",
    "\n",
    "        return expression_str\n",
    "\n",
    "    inside_elements = extract_elements(logical_expression)\n",
    "    to_or = [build_expression(convert_logic_operators(element.split())) for element in inside_elements]\n",
    "    \n",
    "    #If there are no subexpressions in () - we don't have to OR all of them ()\n",
    "    if len(inside_elements) == 0:\n",
    "        return build_expression(convert_logic_operators(logical_expression.split()))\n",
    "\n",
    "    def or_everything(expressions):\n",
    "        \"\"\"\n",
    "        Combines multiple expressions using the NumPy bitwise OR operation.\n",
    "\n",
    "        Args:\n",
    "            expressions (list): List of expressions to be combined.\n",
    "\n",
    "        Returns:\n",
    "            str: The final combined expression.\n",
    "        \"\"\"\n",
    "        if len(expressions) < 2:\n",
    "            return expressions[0]\n",
    "\n",
    "        final_expr = f\"np.bitwise_or({expressions[0]}, {expressions[1]})\"\n",
    "        for i in range(2, len(expressions)):\n",
    "            final_expr = f\"np.bitwise_or({final_expr}, {expressions[i]})\"\n",
    "        return final_expr\n",
    "    return or_everything(to_or)\n"
   ]
  },
  {
   "cell_type": "code",
   "execution_count": 29,
   "id": "58e84d57-9306-401c-a370-84acad8e2682",
   "metadata": {},
   "outputs": [],
   "source": [
    "next_a_formula_str = convert_logical_to_python(next_a_formula)\n",
    "next_b_formula_str = convert_logical_to_python(next_b_formula)\n",
    "out_formula_str = convert_logical_to_python(out_formula)"
   ]
  },
  {
   "cell_type": "code",
   "execution_count": 30,
   "id": "2641ad01-fc90-4475-9ca5-477d95326091",
   "metadata": {},
   "outputs": [],
   "source": [
    "xs = inputs.detach().numpy().astype(int)\n",
    "out_labels = labels.detach().numpy().astype(int)"
   ]
  },
  {
   "cell_type": "code",
   "execution_count": 31,
   "id": "18620b7d-4c11-4605-995b-0ef167a2e125",
   "metadata": {},
   "outputs": [],
   "source": [
    "# xs are inputs, with shape (batch size, sequence length, 2)\n",
    "a = np.zeros(xs.shape[0],).astype(int)\n",
    "b = np.zeros(xs.shape[0],).astype(int)\n",
    "outs = []\n",
    "\n",
    "for i in range(xs.shape[1]):\n",
    "    c = xs[:,i,0]\n",
    "    d = xs[:,i,1]\n",
    "    #a = np.bitwise_xor(np.bitwise_xor(b,c),d)\n",
    "    #b = (b + c + d > 1)\n",
    "    #out = a\n",
    "    exec('a = ' + next_a_formula_str)\n",
    "    exec('b = ' + next_b_formula_str)\n",
    "    exec('out = ' + out_formula_str)\n",
    "    outs.append(a)\n",
    "\n",
    "outs = np.transpose(np.array(outs))"
   ]
  },
  {
   "cell_type": "code",
   "execution_count": 32,
   "id": "9ad5611e-8bcd-412c-bc39-569328da2d61",
   "metadata": {},
   "outputs": [
    {
     "data": {
      "text/plain": [
       "3680"
      ]
     },
     "execution_count": 32,
     "metadata": {},
     "output_type": "execute_result"
    }
   ],
   "source": [
    "num_error = np.sum(1-(out_labels[:,:,0] == outs))\n",
    "num_error"
   ]
  },
  {
   "cell_type": "code",
   "execution_count": 33,
   "id": "23fad415-a658-45ce-8934-9764c6f0e987",
   "metadata": {},
   "outputs": [],
   "source": [
    "## generalization to longer sequences\n",
    "\n",
    "# dataset\n",
    "\n",
    "seq_length = 10\n",
    "max_num = 2**seq_length\n",
    "X, Y = np.meshgrid(np.arange(max_num), np.arange(max_num))\n",
    "x = np.transpose(np.array([X.reshape(-1,), Y.reshape(-1,)]))\n",
    "rs = []\n",
    "routs = []\n",
    "\n",
    "y = x[:,[0]] + x[:,[1]]\n",
    "\n",
    "for i in range(seq_length):\n",
    "    x, r = np.divmod(x, 2)\n",
    "    rs.append(r)\n",
    "    \n",
    "for i in range(seq_length+1):\n",
    "    y, rout = np.divmod(y, 2)\n",
    "    routs.append(rout)\n",
    "    \n",
    "    \n",
    "data = np.transpose(np.array(rs), (1,0,2))\n",
    "\n",
    "inputs = np.concatenate([data, np.zeros((max_num**2, 1, 2))], axis=1)\n",
    "labels = np.transpose(np.array(routs), (1,0,2))\n",
    "\n",
    "\n",
    "carrybit = (inputs[:,:,0] + inputs[:,:,1] - labels[:,:,0]) % 2\n",
    "currentbit = inputs[:,:-1,0] + inputs[:,:-1,1]\n",
    "\n",
    "train_frac = 0.8\n",
    "num = inputs.shape[0]\n",
    "train_num = int(train_frac*num)\n",
    "test_num = num - train_num\n",
    "\n",
    "train_id = np.random.choice(num, train_num, replace=False)\n",
    "test_id = np.array(list(set(np.arange(num,)) - set(train_id)))\n",
    "\n",
    "inputs_train = inputs[train_id]\n",
    "labels_train = labels[train_id]\n",
    "inputs_train = torch.tensor(inputs_train, dtype=torch.float, requires_grad=True).to(device)\n",
    "labels_train = torch.tensor(labels_train, dtype=torch.float, requires_grad=True).to(device)\n",
    "\n",
    "inputs_test = inputs[test_id]\n",
    "labels_test = labels[test_id]\n",
    "inputs_test = torch.tensor(inputs_test, dtype=torch.float, requires_grad=True).to(device)\n",
    "labels_test = torch.tensor(labels_test, dtype=torch.float, requires_grad=True).to(device)\n",
    "\n",
    "inputs = torch.tensor(inputs, dtype=torch.float, requires_grad=True).to(device)\n",
    "labels = torch.tensor(labels, dtype=torch.float, requires_grad=True).to(device)\n",
    "\n",
    "\n",
    "pred_train = model(inputs_train)\n",
    "loss_train = torch.mean((pred_train-labels_train)**2)\n",
    "acc_train = torch.mean(((pred_train - 0.5)*(labels_train - 0.5) > 0).long().float())\n",
    "\n",
    "pred_test = model(inputs_test)\n",
    "loss_test = torch.mean((pred_test-labels_test)**2)\n",
    "acc_test = torch.mean(((pred_test - 0.5)*(labels_test - 0.5) > 0).long().float())\n"
   ]
  },
  {
   "cell_type": "code",
   "execution_count": 34,
   "id": "b1aae14d-6a47-4047-9a73-3754fc3f3157",
   "metadata": {},
   "outputs": [
    {
     "data": {
      "text/plain": [
       "(tensor(1.), tensor(1.))"
      ]
     },
     "execution_count": 34,
     "metadata": {},
     "output_type": "execute_result"
    }
   ],
   "source": [
    "# generalize to 10 digits addition perfectly\n",
    "acc_train, acc_test"
   ]
  },
  {
   "cell_type": "code",
   "execution_count": null,
   "id": "4fe81229-ff93-4071-b677-ce458c4fe938",
   "metadata": {},
   "outputs": [],
   "source": []
  }
 ],
 "metadata": {
  "kernelspec": {
   "display_name": "Python 3 (ipykernel)",
   "language": "python",
   "name": "python3"
  },
  "language_info": {
   "codemirror_mode": {
    "name": "ipython",
    "version": 3
   },
   "file_extension": ".py",
   "mimetype": "text/x-python",
   "name": "python",
   "nbconvert_exporter": "python",
   "pygments_lexer": "ipython3",
   "version": "3.10.12"
  }
 },
 "nbformat": 4,
 "nbformat_minor": 5
}

{
 "cells": [
  {
   "cell_type": "code",
   "execution_count": 18,
   "id": "abee21a2-af11-47a1-b110-1158dae3a65d",
   "metadata": {},
   "outputs": [],
   "source": [
    "import numpy as np\n",
    "import torch\n",
    "\n",
    "# dataset\n",
    "\n",
    "def create_dataset_RNN_sine():\n",
    "    datapoints = 1024\n",
    "    train_split = 0.8\n",
    "    test_split = 0.2\n",
    "\n",
    "\n",
    "    dtype = np.float64  # Double precision\n",
    "\n",
    "    # Generate random x values with double precision\n",
    "    x = np.linspace(0, 2*np.pi, datapoints, dtype=dtype)\n",
    "    x = x.reshape(1024,1)\n",
    "    \n",
    "    # Shuffle x values\n",
    "    np.random.shuffle(x)\n",
    "\n",
    "    # Calculate the sine of each value with double precision\n",
    "    y = np.sin(x).astype(dtype)\n",
    "\n",
    "\n",
    "\n",
    "    # split into train and test\n",
    "    train_size = int(len(y) * train_split)\n",
    "    test_size = len(y) - train_size\n",
    "    y_train, y_test = y[0:train_size], y[train_size:len(y)]\n",
    "    X_train, X_test = x[0:train_size], x[train_size:len(y)]\n",
    "    # save\n",
    "    np.save('data/train_labels_tensor.npy',y_train[:,: ,np.newaxis])\n",
    "    np.save('data/test_labels_tensor.npy',y_test[:,: ,np.newaxis])\n",
    "    np.save('data/train_data_tensor.npy',X_train[:,: ,np.newaxis])\n",
    "    np.save('data/test_data_tensor.npy',X_test[:, :,np.newaxis])\n",
    "    \n",
    "    \n",
    "create_dataset_RNN_sine()"
   ]
  },
  {
   "cell_type": "code",
   "execution_count": null,
   "id": "e686d2e1-3be0-4f28-b96e-715816c90c6d",
   "metadata": {},
   "outputs": [],
   "source": []
  }
 ],
 "metadata": {
  "kernelspec": {
   "display_name": "Python 3 (ipykernel)",
   "language": "python",
   "name": "python3"
  },
  "language_info": {
   "codemirror_mode": {
    "name": "ipython",
    "version": 3
   },
   "file_extension": ".py",
   "mimetype": "text/x-python",
   "name": "python",
   "nbconvert_exporter": "python",
   "pygments_lexer": "ipython3",
   "version": "3.8.13"
  }
 },
 "nbformat": 4,
 "nbformat_minor": 5
}

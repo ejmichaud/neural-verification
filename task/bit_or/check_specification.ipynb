{
 "cells": [
  {
   "cell_type": "code",
   "execution_count": 1,
   "id": "6d724061-7e0c-447d-8a0d-352a524bc174",
   "metadata": {},
   "outputs": [
    {
     "name": "stdout",
     "output_type": "stream",
     "text": [
      "cuda\n"
     ]
    }
   ],
   "source": [
    "import numpy as np\n",
    "import torch\n",
    "from model import RNN\n",
    "\n",
    "torch.set_default_dtype(torch.float64)\n",
    "device = torch.device(\"cuda\" if torch.cuda.is_available() else \"cpu\")\n",
    "print(device)\n",
    "\n",
    "### load dataset ###\n",
    "\n",
    "def load_data(mode='train'):\n",
    "    data = np.loadtxt('./data_{}.txt'.format(mode), dtype='str')\n",
    "    inputs = data[:,:2]\n",
    "    labels = data[:,2]\n",
    "\n",
    "    def strs2mat(strings):\n",
    "        num = strings.shape[0]\n",
    "        mat = []\n",
    "        for i in range(num):\n",
    "            mat.append([*strings[i]])\n",
    "        return mat\n",
    "\n",
    "    inputs_ = np.transpose(np.array([strs2mat(inputs[:,0]), strs2mat(inputs[:,1])]), (1,2,0)).astype('int')\n",
    "    labels_ = np.array(strs2mat(labels))[:,:,np.newaxis].astype('int')\n",
    "\n",
    "    return inputs_, labels_\n",
    "\n",
    "inputs_train, labels_train = load_data(mode='train')\n",
    "inputs_test, labels_test = load_data(mode='test')\n",
    "\n",
    "\n",
    "### define specification ###\n",
    "\n",
    "def specficiation(inputs, labels):\n",
    "    num = inputs.shape[0]\n",
    "    success = True\n",
    "        \n",
    "    # each number should be either 0 or 1\n",
    "    temp = (inputs == 0).astype(int) + (inputs == 1).astype(int)\n",
    "    if np.sum(temp < 1) > 0:\n",
    "        print('not all elements are 0 or 1')\n",
    "        success = False\n",
    "        \n",
    "    temp = (labels == 0).astype(int) + (labels == 1).astype(int)\n",
    "    if np.sum(temp < 1) > 0:\n",
    "        print('not all elements are 0 or 1')\n",
    "        success = False\n",
    "            \n",
    "    # labels should be sum of inputs: sum(2**i*a[i]) + sum(2**i*b[i]) = sum(2**i*c[i])\n",
    "    seq_len = inputs_train.shape[1]\n",
    "    inputs_num = np.sum(np.sum(inputs_train * 2**np.arange(seq_len,)[np.newaxis,:,np.newaxis], axis=1), axis=1)\n",
    "    labels_num = np.sum(np.sum(labels_train * 2**np.arange(seq_len,)[np.newaxis,:,np.newaxis], axis=1), axis=1)\n",
    "    err = np.sum(1-(inputs_num == labels_num))\n",
    "    if err > 0:\n",
    "        print('sum of inputs string is not output string')\n",
    "        success = False\n",
    "        \n",
    "    if success == True:\n",
    "        print(\"Verficaition succeeded :-)\")\n",
    "    else:\n",
    "        print(\"Verficaition failed :-(\")\n",
    "        \n",
    "        \n",
    "        "
   ]
  },
  {
   "cell_type": "code",
   "execution_count": 2,
   "id": "7d4fef04-ebd4-4574-8e22-99eb7bdbfb9a",
   "metadata": {},
   "outputs": [
    {
     "name": "stdout",
     "output_type": "stream",
     "text": [
      "Verficaition succeeded :-)\n"
     ]
    }
   ],
   "source": [
    "# verify dataset\n",
    "\n",
    "specficiation(inputs_train, labels_train)"
   ]
  },
  {
   "cell_type": "code",
   "execution_count": 3,
   "id": "27679ae7-7f0b-486c-aa14-7c34e2895fce",
   "metadata": {},
   "outputs": [
    {
     "name": "stdout",
     "output_type": "stream",
     "text": [
      "Verficaition succeeded :-)\n"
     ]
    }
   ],
   "source": [
    "# verify model\n",
    "\n",
    "import warnings\n",
    "warnings.filterwarnings(\"ignore\")\n",
    "\n",
    "inputs_train = torch.tensor(inputs_train, dtype=torch.float64, requires_grad=True).to(device)\n",
    "\n",
    "# load model \n",
    "model = RNN(hidden_dim=2, device=device).to(device)\n",
    "model.load_state_dict(torch.load('./model'))\n",
    "\n",
    "pred_label_train = np.round(model(inputs_train).cpu().detach().numpy()).astype(int)\n",
    "inputs_train = inputs_train.cpu().detach().numpy().astype(int)\n",
    "\n",
    "specficiation(inputs_train, pred_label_train)"
   ]
  },
  {
   "cell_type": "code",
   "execution_count": null,
   "id": "f5bd25ee-acbd-4c40-aed9-e29136b0acc9",
   "metadata": {},
   "outputs": [],
   "source": []
  }
 ],
 "metadata": {
  "kernelspec": {
   "display_name": "Python 3 (ipykernel)",
   "language": "python",
   "name": "python3"
  },
  "language_info": {
   "codemirror_mode": {
    "name": "ipython",
    "version": 3
   },
   "file_extension": ".py",
   "mimetype": "text/x-python",
   "name": "python",
   "nbconvert_exporter": "python",
   "pygments_lexer": "ipython3",
   "version": "3.9.16"
  }
 },
 "nbformat": 4,
 "nbformat_minor": 5
}

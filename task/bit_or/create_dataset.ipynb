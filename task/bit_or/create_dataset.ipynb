{
 "cells": [
  {
   "cell_type": "code",
   "execution_count": 1,
   "id": "663a51c0-e044-4f46-8fe6-97766f0db09b",
   "metadata": {},
   "outputs": [],
   "source": [
    "import numpy as np\n",
    "\n",
    "def create_dataset_RNN_or(total_samples, train_ratio=0.8):\n",
    "    # Calculate the number of samples for training and testing\n",
    "    num_train_samples = int(total_samples * train_ratio)\n",
    "    num_test_samples = total_samples - num_train_samples\n",
    "\n",
    "    # Generate random 6-bit numbers for the entire dataset\n",
    "    inputs1 = np.random.randint(0, 2, size=(total_samples, 1), dtype=int)\n",
    "    inputs2 = np.random.randint(0, 2, size=(total_samples, 1), dtype=int)\n",
    "    # Calculate OR of the two columns\n",
    "    labels = np.bitwise_or(inputs1, inputs2)\n",
    "\n",
    "    # Convert arrays to string representation\n",
    "    inputs1_str = [''.join(map(str, row)) for row in inputs1]\n",
    "    inputs2_str = [''.join(map(str, row)) for row in inputs2]\n",
    "    labels_str = [''.join(map(str, row)) for row in labels]\n",
    "\n",
    "    # Create data matrix\n",
    "    data = np.transpose(np.array([inputs1_str, inputs2_str, labels_str]))\n",
    "\n",
    "    # Split the dataset into training and testing\n",
    "    train_data = data[:num_train_samples]\n",
    "    test_data = data[num_train_samples:]\n",
    "\n",
    "    # # Save training and testing data to text files\n",
    "    np.savetxt('./data_train.txt', train_data, fmt='%s')\n",
    "    np.savetxt('./data_test.txt', test_data, fmt='%s')\n",
    "\n",
    "# Example usage:\n",
    "create_dataset_RNN_or(1024, train_ratio=0.8)  # Generate a dataset with 100 samples, 80% for training, 20% for testing\n"
   ]
  },
  {
   "cell_type": "code",
   "execution_count": null,
   "id": "09b31cc7-db32-44dc-b38a-eb9f96f9c0d3",
   "metadata": {},
   "outputs": [],
   "source": []
  }
 ],
 "metadata": {
  "kernelspec": {
   "display_name": "Python 3 (ipykernel)",
   "language": "python",
   "name": "python3"
  },
  "language_info": {
   "codemirror_mode": {
    "name": "ipython",
    "version": 3
   },
   "file_extension": ".py",
   "mimetype": "text/x-python",
   "name": "python",
   "nbconvert_exporter": "python",
   "pygments_lexer": "ipython3",
   "version": "3.10.12"
  }
 },
 "nbformat": 4,
 "nbformat_minor": 5
}

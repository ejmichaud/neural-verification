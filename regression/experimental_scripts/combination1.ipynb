{
 "cells": [
  {
   "cell_type": "code",
   "execution_count": 1,
   "id": "98200098-94fa-4d91-a3aa-cc58f57ce58d",
   "metadata": {},
   "outputs": [
    {
     "data": {
      "text/plain": [
       "<All keys matched successfully>"
      ]
     },
     "execution_count": 1,
     "metadata": {},
     "output_type": "execute_result"
    }
   ],
   "source": [
    "import numpy as np\n",
    "import torch\n",
    "import torch.nn as nn\n",
    "import os\n",
    "from dataclasses import dataclass\n",
    "from neural_verification import *\n",
    "import matplotlib.pyplot as plt\n",
    "import itertools\n",
    "import copy\n",
    "\n",
    "# This GeneralRNN has been defined in neural_verification, but I modified it:\n",
    "# (1) comment out some assertions which throw out errors but aren't really errors?\n",
    "# (2) Not only return hidden (last hidden states), but also hidden2 (second-to-last hidden states)\n",
    "@dataclass\n",
    "class GeneralRNNConfig:\n",
    "    input_dim: int = 2\n",
    "    output_dim: int = 1\n",
    "    hidden_dim: int = 40\n",
    "    hidden_mlp_depth: int = 2 # this would be 1 hidden layer\n",
    "    hidden_mlp_width: int = 100\n",
    "    output_mlp_depth: int = 2 # this would be 1 hidden layer\n",
    "    output_mlp_width: int = 100\n",
    "    activation: type = nn.SiLU\n",
    "\n",
    "class GeneralRNN(nn.Module):\n",
    "    def __init__(self, config, device='cpu'):\n",
    "        super().__init__()\n",
    "        self.config = config\n",
    "        self.hidden_dim = config.hidden_dim\n",
    "        hmlp_config = MLPConfig(\n",
    "            config.hidden_dim + config.input_dim, \n",
    "            config.hidden_dim, \n",
    "            config.hidden_mlp_width, \n",
    "            config.hidden_mlp_depth, \n",
    "            config.activation\n",
    "        )\n",
    "        self.hmlp = MLP(hmlp_config).to(device)\n",
    "        ymlp_config = MLPConfig(\n",
    "            config.hidden_dim, \n",
    "            config.output_dim, \n",
    "            config.output_mlp_width, \n",
    "            config.output_mlp_depth, \n",
    "            config.activation\n",
    "        )\n",
    "        self.ymlp = MLP(ymlp_config).to(device)\n",
    "        self.device = device\n",
    "\n",
    "    def forward(self, x, h=None):\n",
    "        \"\"\"The transition is given by:\n",
    "            h_t = f([h_{t-1}, x_t])\n",
    "            y_t = g(h_t)\n",
    "        where f and g are MLPs.\n",
    "\n",
    "        This function takes in the input and the hidden state and \n",
    "        returns an output and a hidden state.\n",
    "        \"\"\"\n",
    "        # x shape: (batch_size, input_dim)\n",
    "        # h shape: (batch_size, hidden_dim)\n",
    "        if h is None:\n",
    "            h = torch.zeros(x.size(0), self.hidden_dim).to(self.device)\n",
    "        else:\n",
    "            assert h.size(0) == x.size(0)\n",
    "            assert h.size(1) == self.hidden_dim\n",
    "            #assert h.device == self.device\n",
    "        assert x.size(1) == self.config.input_dim\n",
    "        #assert x.device == self.device\n",
    "        hx = torch.cat((h, x), dim=1)\n",
    "        h = self.hmlp(hx)\n",
    "        y = self.ymlp(h)\n",
    "        return y, h\n",
    "    \n",
    "    def forward_sequence(self, x):\n",
    "        \"\"\"This function takes in a sequence of inputs and returns a sequence of outputs\n",
    "        as well as the final hidden state.\"\"\"\n",
    "        # x shape: (batch_size, sequence_length, input_dim)\n",
    "        batch_size = x.size(0)\n",
    "        seq_length = x.size(1)\n",
    "        hidden = torch.zeros(batch_size, self.hidden_dim).to(self.device)\n",
    "        assert x.size(2) == self.config.input_dim\n",
    "        #assert x.device == self.device\n",
    "        outs = []\n",
    "        for i in range(seq_length):\n",
    "            out, hidden = self.forward(x[:,i,:], hidden)\n",
    "            if i == seq_length-2:\n",
    "                hidden2 = hidden.clone()\n",
    "            outs.append(out)\n",
    "        # out shape: (batch_size, sequence_length, output_dim)\n",
    "        return torch.stack(outs).permute(1,0,2), hidden, hidden2\n",
    "\n",
    "seed = 0\n",
    "np.random.seed(seed)\n",
    "torch.manual_seed(seed)\n",
    "\n",
    "data = torch.load(\"../tasks/rnn_identity_numerical/data.pt\")\n",
    "config = torch.load(\"../tasks/rnn_identity_numerical/model_config.pt\", map_location=torch.device('cpu'))\n",
    "model = GeneralRNN(config,)\n",
    "model.load_state_dict(torch.load(\"../tasks/rnn_identity_numerical/model_perfect.pt\",map_location=torch.device('cpu')))"
   ]
  },
  {
   "cell_type": "code",
   "execution_count": 2,
   "id": "0103fa5e-4357-4ef8-aa17-35ce2719207b",
   "metadata": {},
   "outputs": [],
   "source": [
    "hidden = model.forward_sequence(data[0].unsqueeze(dim=2))[1].cpu().detach().numpy()\n",
    "hidden_last = model.forward_sequence(data[0].unsqueeze(dim=2))[2].cpu().detach().numpy()\n",
    "D = hidden.shape[1]\n",
    "thres = 1e-1"
   ]
  },
  {
   "cell_type": "code",
   "execution_count": 3,
   "id": "1e601ad3-cee0-4e98-92f1-667132ebda8d",
   "metadata": {},
   "outputs": [],
   "source": [
    "outs = model.forward_sequence(data[0].unsqueeze(dim=2))[0].cpu().detach().numpy()\n"
   ]
  },
  {
   "cell_type": "code",
   "execution_count": 4,
   "id": "32bb30f5-88fc-466b-9e48-13175e2eb21f",
   "metadata": {},
   "outputs": [
    {
     "data": {
      "text/plain": [
       "array([[69.      ],\n",
       "       [46.      ],\n",
       "       [58.      ],\n",
       "       [89.      ],\n",
       "       [97.      ],\n",
       "       [73.      ],\n",
       "       [88.00001 ],\n",
       "       [52.      ],\n",
       "       [42.999996],\n",
       "       [81.00001 ]], dtype=float32)"
      ]
     },
     "execution_count": 4,
     "metadata": {},
     "output_type": "execute_result"
    }
   ],
   "source": [
    "outs[0]"
   ]
  },
  {
   "cell_type": "code",
   "execution_count": 5,
   "id": "b0a8a033-757b-4268-9cb9-c85e5ad05559",
   "metadata": {},
   "outputs": [
    {
     "data": {
      "text/plain": [
       "tensor([[69],\n",
       "        [46],\n",
       "        [58],\n",
       "        [89],\n",
       "        [97],\n",
       "        [73],\n",
       "        [88],\n",
       "        [52],\n",
       "        [43],\n",
       "        [81]], dtype=torch.int8)"
      ]
     },
     "execution_count": 5,
     "metadata": {},
     "output_type": "execute_result"
    }
   ],
   "source": [
    "data[0].unsqueeze(dim=2)[0]"
   ]
  },
  {
   "cell_type": "code",
   "execution_count": 6,
   "id": "f13507af-f493-49e3-8ee9-13d0a8928a3f",
   "metadata": {},
   "outputs": [
    {
     "data": {
      "text/plain": [
       "array([-64.661835], dtype=float32)"
      ]
     },
     "execution_count": 6,
     "metadata": {},
     "output_type": "execute_result"
    }
   ],
   "source": [
    "hidden[0]"
   ]
  },
  {
   "cell_type": "code",
   "execution_count": 7,
   "id": "3e96e8c8-38fe-4e28-a570-5ebf7db28287",
   "metadata": {},
   "outputs": [
    {
     "data": {
      "text/plain": [
       "array([-34.50504], dtype=float32)"
      ]
     },
     "execution_count": 7,
     "metadata": {},
     "output_type": "execute_result"
    }
   ],
   "source": [
    "hidden_last[0]"
   ]
  },
  {
   "cell_type": "code",
   "execution_count": 8,
   "id": "395a7aa7-028a-42b6-a186-d1162b44518a",
   "metadata": {},
   "outputs": [],
   "source": [
    "first_how_many=10"
   ]
  },
  {
   "cell_type": "code",
   "execution_count": 9,
   "id": "dd9c5dad-7480-406c-9d2f-4f9c58242ca8",
   "metadata": {},
   "outputs": [],
   "source": [
    "reg = data[0][:first_how_many]"
   ]
  },
  {
   "cell_type": "code",
   "execution_count": null,
   "id": "21dd3b42-665e-48a9-bf31-ca1242ed6315",
   "metadata": {},
   "outputs": [],
   "source": []
  },
  {
   "cell_type": "code",
   "execution_count": 10,
   "id": "941f733b-0ba2-45e4-8a0a-eff374d79a7b",
   "metadata": {},
   "outputs": [],
   "source": [
    "# from RNN_to_DFA_vedang import NFA\n",
    "# weights = model.state_dict()\n",
    "\n",
    "# nfa = NFA(10, weights)\n",
    "# from RNN_to_DFA_vedang import NFA\n",
    "# weights = model.state_dict()\n",
    "\n",
    "# nfa = NFA(10, weights)"
   ]
  },
  {
   "cell_type": "code",
   "execution_count": 11,
   "id": "2434b60f-7e07-4991-aa48-3fb77e344d7d",
   "metadata": {},
   "outputs": [
    {
     "data": {
      "text/plain": [
       "GeneralRNN(\n",
       "  (hmlp): MLP(\n",
       "    (mlp): Sequential(\n",
       "      (0): Linear(in_features=2, out_features=1, bias=True)\n",
       "    )\n",
       "  )\n",
       "  (ymlp): MLP(\n",
       "    (mlp): Sequential(\n",
       "      (0): Linear(in_features=1, out_features=1, bias=True)\n",
       "    )\n",
       "  )\n",
       ")"
      ]
     },
     "execution_count": 11,
     "metadata": {},
     "output_type": "execute_result"
    }
   ],
   "source": [
    "model"
   ]
  },
  {
   "cell_type": "code",
   "execution_count": 12,
   "id": "7e1a137c-5d17-4bd4-83d8-294be18d27c0",
   "metadata": {},
   "outputs": [],
   "source": [
    "# for k,v in nfa.weights.items():\n",
    "#     print((k,v.shape))"
   ]
  },
  {
   "cell_type": "code",
   "execution_count": 13,
   "id": "b5e93ad9-9365-446b-a697-8c85b7d531a4",
   "metadata": {},
   "outputs": [
    {
     "data": {
      "text/plain": [
       "\"\\n('in2hidden.weight', torch.Size([2, 3]))\\n('hidden2hidden.weight', torch.Size([2, 2]))\\n('hidden2hidden.bias', torch.Size([2]))\\n('hidden2out.weight', torch.Size([3, 2]))\\n('hidden2out.bias', torch.Size([3]))\\n\""
      ]
     },
     "execution_count": 13,
     "metadata": {},
     "output_type": "execute_result"
    }
   ],
   "source": [
    "\"\"\"\n",
    "('in2hidden.weight', torch.Size([2, 3]))\n",
    "('hidden2hidden.weight', torch.Size([2, 2]))\n",
    "('hidden2hidden.bias', torch.Size([2]))\n",
    "('hidden2out.weight', torch.Size([3, 2]))\n",
    "('hidden2out.bias', torch.Size([3]))\n",
    "\"\"\""
   ]
  },
  {
   "cell_type": "code",
   "execution_count": 14,
   "id": "07bfe75a-4ef5-456d-8f6c-caa15e80867a",
   "metadata": {},
   "outputs": [],
   "source": [
    "# from RNN_to_DFA_vedang import NFA\n",
    "# weights = model.state_dict()\n",
    "\n",
    "# nfa = NFA(10, weights)\n",
    "# points = list(np.concatenate([hidden[:10], hidden_last[:10]], axis=1))\n",
    "\n",
    "\n",
    "# nfa.accommodate_points(points, 0.8)\n",
    "# nfa.find_transitions()\n",
    "\n",
    "# points = np.stack(points, axis=1)"
   ]
  },
  {
   "cell_type": "code",
   "execution_count": 32,
   "id": "56c4b400-5e48-4a1f-aca7-b4861b17dbf7",
   "metadata": {},
   "outputs": [],
   "source": [
    "def subset(arr, criterion=None, batch_size = 32):\n",
    "    '''if arr contains too many samples, computation can be expensive.\n",
    "    Choosing a subset of samples if usually enough for lattice detection.'''\n",
    "    if criterion != None:\n",
    "        arr = arr[np.where(criterion(arr))[0]]\n",
    "    batch_id = np.random.choice(arr.shape[0], batch_size)\n",
    "    arr = arr[batch_id]\n",
    "    return arr  \n",
    "\n",
    "\n",
    "# GCD\n",
    "\n",
    "def get_vol_arr(x):\n",
    "    '''Given n points in R^D, return all possible volumes of D+1 points'''\n",
    "    num = x.shape[0]\n",
    "    groups = np.array(list(itertools.combinations(x, D+1)))\n",
    "    groups = groups[:,1:,:] - groups[:,[0],:]\n",
    "    vols = np.abs(np.linalg.det(np.array(groups)))\n",
    "    return np.array(vols)\n",
    "\n",
    "\n",
    "def GCD_arr(arr):\n",
    "    '''Find the greatest common divisor (GCD) for an array'''\n",
    "    vol_arr = get_vol_arr(arr)\n",
    "    while True:\n",
    "        va = arr[[0]]; vb = arr[[1]]; v3 = arr[2:D+1]\n",
    "        a = np.linalg.det(np.concatenate([va, v3], axis=0))\n",
    "        b = np.linalg.det(np.concatenate([vb, v3], axis=0))\n",
    "        \n",
    "        # should be more robust? Threshold?\n",
    "        if b == 0 or a == 0:\n",
    "            if b == 0:\n",
    "                arr = np.delete(arr, 1, 0)\n",
    "            if a == 0:\n",
    "                arr = np.delete(arr, 0, 0)\n",
    "            continue\n",
    "        gcd, vbp = GCD_2num_v(a, b, va, vb)\n",
    "        flag = check_integer_arr(vol_arr/gcd)\n",
    "        if flag == True:\n",
    "            break\n",
    "        else:\n",
    "            arr = arr[1:]\n",
    "            arr[0] = vbp\n",
    "    return np.concatenate([vbp, v3], axis=0)\n",
    "\n",
    "def GCD_2num_v(a, b, va, vb):\n",
    "    '''Find the greatest common divisor (GCD) for two number a, b;\n",
    "    and apply the same rule to two vectors va and vb'''\n",
    "    \n",
    "    while True:\n",
    "        temp = a\n",
    "        a = b\n",
    "        b = temp\n",
    "\n",
    "        temp = va\n",
    "        va = vb\n",
    "        vb = temp\n",
    "        \n",
    "        proj = np.round(a/b)\n",
    "        a = a - proj * b\n",
    "        va = va - proj * vb\n",
    "        if np.abs(a) < thres:\n",
    "            break\n",
    "    return np.abs(b), vb\n",
    "\n",
    "def check_integer_arr(arr):\n",
    "    non_integer = np.abs(arr - np.round(arr)) > thres\n",
    "    all_integer = np.sum(non_integer) == 0\n",
    "    return all_integer\n",
    "\n",
    "def normalize_basis(basis):\n",
    "    basis = copy.deepcopy(basis)\n",
    "    ii = 0\n",
    "    while True and ii < 5:\n",
    "        projs = []\n",
    "        for i in range(D):\n",
    "            proj = np.round(np.sum(basis*basis[[i]],axis=1)/np.linalg.norm(basis[i])**2)\n",
    "            proj[i] = 0\n",
    "            basis -= proj[:,np.newaxis] * basis[[i]]\n",
    "            projs.append(proj)\n",
    "        projs = np.array(projs)\n",
    "        if np.sum(np.abs(projs)) == 0:\n",
    "            break\n",
    "        ii += 1\n",
    "    basis *= (-1)**(np.sum(basis, axis=1)<0)[:,np.newaxis]\n",
    "    return basis"
   ]
  },
  {
   "cell_type": "code",
   "execution_count": 33,
   "id": "642a67b2",
   "metadata": {},
   "outputs": [
    {
     "ename": "TypeError",
     "evalue": "sum() received an invalid combination of arguments - got (out=NoneType, axis=int, ), but expected one of:\n * (*, torch.dtype dtype)\n      didn't match because some of the keywords were incorrect: out, axis\n * (tuple of ints dim, bool keepdim, *, torch.dtype dtype)\n * (tuple of names dim, bool keepdim, *, torch.dtype dtype)\n",
     "output_type": "error",
     "traceback": [
      "\u001b[0;31m---------------------------------------------------------------------------\u001b[0m",
      "\u001b[0;31mTypeError\u001b[0m                                 Traceback (most recent call last)",
      "Cell \u001b[0;32mIn[33], line 3\u001b[0m\n\u001b[1;32m      1\u001b[0m \u001b[38;5;66;03m# shift lattice such that (0,0) is on lattice\u001b[39;00m\n\u001b[1;32m      2\u001b[0m hidden_batch \u001b[38;5;241m=\u001b[39m subset(hidden)\n\u001b[0;32m----> 3\u001b[0m shift_id \u001b[38;5;241m=\u001b[39m np\u001b[38;5;241m.\u001b[39margmin(\u001b[43mnp\u001b[49m\u001b[38;5;241;43m.\u001b[39;49m\u001b[43msum\u001b[49m\u001b[43m(\u001b[49m\u001b[43mhidden_batch\u001b[49m\u001b[43m,\u001b[49m\u001b[43m \u001b[49m\u001b[43maxis\u001b[49m\u001b[38;5;241;43m=\u001b[39;49m\u001b[38;5;241;43m1\u001b[39;49m\u001b[43m)\u001b[49m)\n\u001b[1;32m      4\u001b[0m shift \u001b[38;5;241m=\u001b[39m copy\u001b[38;5;241m.\u001b[39mdeepcopy(hidden_batch[[shift_id]])\n\u001b[1;32m      5\u001b[0m hidden_batch_shift \u001b[38;5;241m=\u001b[39m hidden_batch \u001b[38;5;241m-\u001b[39m shift\n",
      "File \u001b[0;32m<__array_function__ internals>:180\u001b[0m, in \u001b[0;36msum\u001b[0;34m(*args, **kwargs)\u001b[0m\n",
      "File \u001b[0;32m/state/partition1/llgrid/pkg/anaconda/anaconda3-2022b/lib/python3.8/site-packages/numpy/core/fromnumeric.py:2298\u001b[0m, in \u001b[0;36msum\u001b[0;34m(a, axis, dtype, out, keepdims, initial, where)\u001b[0m\n\u001b[1;32m   2295\u001b[0m         \u001b[38;5;28;01mreturn\u001b[39;00m out\n\u001b[1;32m   2296\u001b[0m     \u001b[38;5;28;01mreturn\u001b[39;00m res\n\u001b[0;32m-> 2298\u001b[0m \u001b[38;5;28;01mreturn\u001b[39;00m \u001b[43m_wrapreduction\u001b[49m\u001b[43m(\u001b[49m\u001b[43ma\u001b[49m\u001b[43m,\u001b[49m\u001b[43m \u001b[49m\u001b[43mnp\u001b[49m\u001b[38;5;241;43m.\u001b[39;49m\u001b[43madd\u001b[49m\u001b[43m,\u001b[49m\u001b[43m \u001b[49m\u001b[38;5;124;43m'\u001b[39;49m\u001b[38;5;124;43msum\u001b[39;49m\u001b[38;5;124;43m'\u001b[39;49m\u001b[43m,\u001b[49m\u001b[43m \u001b[49m\u001b[43maxis\u001b[49m\u001b[43m,\u001b[49m\u001b[43m \u001b[49m\u001b[43mdtype\u001b[49m\u001b[43m,\u001b[49m\u001b[43m \u001b[49m\u001b[43mout\u001b[49m\u001b[43m,\u001b[49m\u001b[43m \u001b[49m\u001b[43mkeepdims\u001b[49m\u001b[38;5;241;43m=\u001b[39;49m\u001b[43mkeepdims\u001b[49m\u001b[43m,\u001b[49m\n\u001b[1;32m   2299\u001b[0m \u001b[43m                      \u001b[49m\u001b[43minitial\u001b[49m\u001b[38;5;241;43m=\u001b[39;49m\u001b[43minitial\u001b[49m\u001b[43m,\u001b[49m\u001b[43m \u001b[49m\u001b[43mwhere\u001b[49m\u001b[38;5;241;43m=\u001b[39;49m\u001b[43mwhere\u001b[49m\u001b[43m)\u001b[49m\n",
      "File \u001b[0;32m/state/partition1/llgrid/pkg/anaconda/anaconda3-2022b/lib/python3.8/site-packages/numpy/core/fromnumeric.py:84\u001b[0m, in \u001b[0;36m_wrapreduction\u001b[0;34m(obj, ufunc, method, axis, dtype, out, **kwargs)\u001b[0m\n\u001b[1;32m     82\u001b[0m             \u001b[38;5;28;01mreturn\u001b[39;00m reduction(axis\u001b[38;5;241m=\u001b[39maxis, dtype\u001b[38;5;241m=\u001b[39mdtype, out\u001b[38;5;241m=\u001b[39mout, \u001b[38;5;241m*\u001b[39m\u001b[38;5;241m*\u001b[39mpasskwargs)\n\u001b[1;32m     83\u001b[0m         \u001b[38;5;28;01melse\u001b[39;00m:\n\u001b[0;32m---> 84\u001b[0m             \u001b[38;5;28;01mreturn\u001b[39;00m \u001b[43mreduction\u001b[49m\u001b[43m(\u001b[49m\u001b[43maxis\u001b[49m\u001b[38;5;241;43m=\u001b[39;49m\u001b[43maxis\u001b[49m\u001b[43m,\u001b[49m\u001b[43m \u001b[49m\u001b[43mout\u001b[49m\u001b[38;5;241;43m=\u001b[39;49m\u001b[43mout\u001b[49m\u001b[43m,\u001b[49m\u001b[43m \u001b[49m\u001b[38;5;241;43m*\u001b[39;49m\u001b[38;5;241;43m*\u001b[39;49m\u001b[43mpasskwargs\u001b[49m\u001b[43m)\u001b[49m\n\u001b[1;32m     86\u001b[0m \u001b[38;5;28;01mreturn\u001b[39;00m ufunc\u001b[38;5;241m.\u001b[39mreduce(obj, axis, dtype, out, \u001b[38;5;241m*\u001b[39m\u001b[38;5;241m*\u001b[39mpasskwargs)\n",
      "\u001b[0;31mTypeError\u001b[0m: sum() received an invalid combination of arguments - got (out=NoneType, axis=int, ), but expected one of:\n * (*, torch.dtype dtype)\n      didn't match because some of the keywords were incorrect: out, axis\n * (tuple of ints dim, bool keepdim, *, torch.dtype dtype)\n * (tuple of names dim, bool keepdim, *, torch.dtype dtype)\n"
     ]
    }
   ],
   "source": [
    "\n",
    "# shift lattice such that (0,0) is on lattice\n",
    "hidden_batch = subset(hidden)\n",
    "shift_id = np.argmin(np.sum(hidden_batch, axis=1))\n",
    "shift = copy.deepcopy(hidden_batch[[shift_id]])\n",
    "hidden_batch_shift = hidden_batch - shift\n",
    "basis = GCD_arr(hidden_batch_shift)\n",
    "basis_comp = normalize_basis(basis)"
   ]
  },
  {
   "cell_type": "code",
   "execution_count": null,
   "id": "bc4b3500",
   "metadata": {},
   "outputs": [],
   "source": [
    "h_int_lattice = np.matmul(hidden - shift, np.linalg.inv(basis_comp))\n",
    "h_last_int_lattice = np.matmul(hidden_last - shift, np.linalg.inv(basis_comp))\n",
    "input_lattice = data[0][:,-1].detach().numpy()\n",
    "output_lattice = data[1][:,-1].detach().numpy()"
   ]
  },
  {
   "cell_type": "code",
   "execution_count": null,
   "id": "90ce6bed",
   "metadata": {},
   "outputs": [],
   "source": [
    "# (h, x) => h\n",
    "# (h_last_lattice, input_lattice) => h_lattice\n",
    "\n",
    "hx = np.concatenate([np.round(h_last_int_lattice), np.round(input_lattice)[:,np.newaxis]], axis=1)\n",
    "h_next = np.round(h_int_lattice)\n",
    "\n",
    "from sklearn.linear_model import LinearRegression\n",
    "reg1 = LinearRegression().fit(hx, h_next)\n",
    "reg1.score(hx, h_next)"
   ]
  },
  {
   "cell_type": "code",
   "execution_count": 34,
   "id": "6426644f",
   "metadata": {},
   "outputs": [
    {
     "data": {
      "text/plain": [
       "(array([[ 3.5641033e-08, -9.9999571e-01]], dtype=float32),\n",
       " array([95.99774], dtype=float32))"
      ]
     },
     "execution_count": 34,
     "metadata": {},
     "output_type": "execute_result"
    }
   ],
   "source": [
    "reg1.coef_, reg1.intercept_"
   ]
  },
  {
   "cell_type": "code",
   "execution_count": 35,
   "id": "447a1eb1-99f6-4d6a-9de6-78213ed561c6",
   "metadata": {},
   "outputs": [
    {
     "data": {
      "text/plain": [
       "array([[94.99774603]])"
      ]
     },
     "execution_count": 35,
     "metadata": {},
     "output_type": "execute_result"
    }
   ],
   "source": [
    "reg1.predict([[1,1]])"
   ]
  },
  {
   "cell_type": "markdown",
   "id": "1ed68e35-9164-414e-8ae6-6ba4f045def3",
   "metadata": {},
   "source": [
    "$h_{t} = x_t + 92$"
   ]
  },
  {
   "cell_type": "code",
   "execution_count": 36,
   "id": "d106c0e0",
   "metadata": {},
   "outputs": [
    {
     "data": {
      "text/plain": [
       "0.9999999998936863"
      ]
     },
     "execution_count": 36,
     "metadata": {},
     "output_type": "execute_result"
    }
   ],
   "source": [
    "# h => y\n",
    "# h_lattice => output_lattice\n",
    "\n",
    "from sklearn.linear_model import LinearRegression\n",
    "reg2 = LinearRegression().fit(np.round(h_int_lattice), output_lattice)\n",
    "reg2.score(np.round(h_int_lattice), output_lattice)"
   ]
  },
  {
   "cell_type": "code",
   "execution_count": 37,
   "id": "66f01bc1",
   "metadata": {},
   "outputs": [
    {
     "data": {
      "text/plain": [
       "(array([-0.9999897], dtype=float32), 95.99952)"
      ]
     },
     "execution_count": 37,
     "metadata": {},
     "output_type": "execute_result"
    }
   ],
   "source": [
    "reg2.coef_, reg2.intercept_"
   ]
  },
  {
   "cell_type": "markdown",
   "id": "b732e204-7aaf-46fd-b8ba-f666165295b6",
   "metadata": {},
   "source": [
    "$y_t = - x_t + 92$"
   ]
  },
  {
   "cell_type": "code",
   "execution_count": 38,
   "id": "72a88251-7592-477d-b2ff-856b9bb8ad03",
   "metadata": {},
   "outputs": [],
   "source": [
    "hstart = np.zeros_like(hidden)"
   ]
  },
  {
   "cell_type": "code",
   "execution_count": 39,
   "id": "e14351c9-dab6-499e-aca0-d8acd47b0c29",
   "metadata": {},
   "outputs": [],
   "source": [
    "testx = data[0].unsqueeze(dim=2)"
   ]
  },
  {
   "cell_type": "code",
   "execution_count": 40,
   "id": "1d4de952-7930-414d-9886-70e7ceb4e01d",
   "metadata": {},
   "outputs": [],
   "source": [
    "batch_size = testx.size(0)\n",
    "seq_length = testx.size(1)\n",
    "\n",
    "#hack\n",
    "hidden_dim = 1\n",
    "hidden = torch.zeros(batch_size, hidden_dim)\n",
    "\n",
    "outs = []\n",
    "for i in range(seq_length):\n",
    "    hx = torch.cat((hidden, testx[:,i,:]), dim=1)\n",
    "    out, hidden = torch.tensor(reg2.predict(hidden)), torch.tensor(reg1.predict(hx))\n",
    "    out=out.unsqueeze(1)\n",
    "    outs.append(out)\n",
    "outs, hidden = torch.stack(outs).permute(1,0,2), hidden"
   ]
  },
  {
   "cell_type": "code",
   "execution_count": 44,
   "id": "4d14a591-1a0d-44a1-81da-cc94a4332346",
   "metadata": {},
   "outputs": [],
   "source": [
    "outs = outs.squeeze(2)"
   ]
  },
  {
   "cell_type": "code",
   "execution_count": 45,
   "id": "7bfbd717-ba31-4381-9e92-daac8f65c292",
   "metadata": {},
   "outputs": [
    {
     "data": {
      "text/plain": [
       "(torch.Size([900000, 10]), torch.Size([900000, 1]))"
      ]
     },
     "execution_count": 45,
     "metadata": {},
     "output_type": "execute_result"
    }
   ],
   "source": [
    "outs.shape, hidden.shape"
   ]
  },
  {
   "cell_type": "code",
   "execution_count": 47,
   "id": "8ea3493d-2fc2-4c8d-a6fc-7d6c497108dc",
   "metadata": {},
   "outputs": [
    {
     "data": {
      "text/plain": [
       "torch.Size([900000, 10])"
      ]
     },
     "execution_count": 47,
     "metadata": {},
     "output_type": "execute_result"
    }
   ],
   "source": [
    "data[1].shape"
   ]
  },
  {
   "cell_type": "code",
   "execution_count": 48,
   "id": "fe4eb9e0-0161-4b53-8445-0388533d727d",
   "metadata": {},
   "outputs": [
    {
     "data": {
      "text/plain": [
       "tensor([95.9995, 69.0018, 46.0021, 58.0019, 89.0015, 97.0014, 73.0017, 88.0015,\n",
       "        52.0020, 43.0021])"
      ]
     },
     "execution_count": 48,
     "metadata": {},
     "output_type": "execute_result"
    }
   ],
   "source": [
    "outs[0]"
   ]
  },
  {
   "cell_type": "code",
   "execution_count": 49,
   "id": "724087b4-0aa3-4864-9c2f-d83a09b22254",
   "metadata": {},
   "outputs": [
    {
     "data": {
      "text/plain": [
       "tensor([69, 46, 58, 89, 97, 73, 88, 52, 43, 81], dtype=torch.int8)"
      ]
     },
     "execution_count": 49,
     "metadata": {},
     "output_type": "execute_result"
    }
   ],
   "source": [
    "data[0][0]"
   ]
  },
  {
   "cell_type": "code",
   "execution_count": 51,
   "id": "609ab4e2-d433-4d83-b1fa-f8c2c5f4d532",
   "metadata": {},
   "outputs": [
    {
     "data": {
      "text/plain": [
       "tensor([69, 46, 58, 89, 97, 73, 88, 52, 43, 81], dtype=torch.int8)"
      ]
     },
     "execution_count": 51,
     "metadata": {},
     "output_type": "execute_result"
    }
   ],
   "source": [
    "data[1][0]"
   ]
  },
  {
   "cell_type": "code",
   "execution_count": null,
   "id": "4ac4451e-93e5-4ebf-b987-c6993b0ad00c",
   "metadata": {},
   "outputs": [],
   "source": [
    "np.unique"
   ]
  }
 ],
 "metadata": {
  "kernelspec": {
   "display_name": "Python 3 (ipykernel)",
   "language": "python",
   "name": "python3"
  },
  "language_info": {
   "codemirror_mode": {
    "name": "ipython",
    "version": 3
   },
   "file_extension": ".py",
   "mimetype": "text/x-python",
   "name": "python",
   "nbconvert_exporter": "python",
   "pygments_lexer": "ipython3",
   "version": "3.9.16"
  }
 },
 "nbformat": 4,
 "nbformat_minor": 5
}

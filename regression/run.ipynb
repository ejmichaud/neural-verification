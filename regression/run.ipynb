{
 "cells": [
  {
   "cell_type": "code",
   "execution_count": 1,
   "id": "8d60c2d8",
   "metadata": {},
   "outputs": [],
   "source": [
    "import torch\n",
    "from sklearn.linear_model import LinearRegression\n",
    "import numpy as np\n",
    "import os\n",
    "import string\n",
    "import subprocess\n",
    "import pandas as pd\n",
    "import os\n",
    "\n",
    "path = './programs'\n",
    "if not os.path.exists(path):\n",
    "    os.makedirs(path)\n"
   ]
  },
  {
   "cell_type": "code",
   "execution_count": 2,
   "id": "69d56d12",
   "metadata": {},
   "outputs": [],
   "source": [
    "# import produce program\n",
    "%run linear_regression.ipynb\n",
    "%run boolean_regression.ipynb\n",
    "%run symbolic_regression.ipynb"
   ]
  },
  {
   "cell_type": "code",
   "execution_count": 3,
   "id": "4f62bf1f",
   "metadata": {},
   "outputs": [],
   "source": [
    "import pandas as pd\n",
    "\n",
    "df = pd.DataFrame({'task': [],\n",
    "                   'success': [],\n",
    "                   'method': []})\n",
    "\n",
    "df.to_csv('./results.csv')"
   ]
  },
  {
   "cell_type": "code",
   "execution_count": 4,
   "id": "a29b06c9",
   "metadata": {},
   "outputs": [
    {
     "data": {
      "text/plain": [
       "['bit_addition',\n",
       " 'rnn_abs_value_numerical',\n",
       " 'rnn_abs_value_of_diff_numerical',\n",
       " 'rnn_add_mod_3_numerical',\n",
       " 'rnn_add_mod_4_numerical',\n",
       " 'rnn_add_mod_5_numerical',\n",
       " 'rnn_add_mod_6_numerical',\n",
       " 'rnn_add_mod_7_numerical',\n",
       " 'rnn_add_mod_8_numerical',\n",
       " 'rnn_alternating_last3_numerical',\n",
       " 'rnn_alternating_last4_numerical',\n",
       " 'rnn_balanced_parenthesis_numerical',\n",
       " 'rnn_base_3_addition',\n",
       " 'rnn_base_4_addition',\n",
       " 'rnn_base_5_addition',\n",
       " 'rnn_base_6_addition',\n",
       " 'rnn_base_7_addition',\n",
       " 'rnn_base_8_addition',\n",
       " 'rnn_bit_dot_prod_mod2_numerical',\n",
       " 'rnn_bit_palindromes_numerical',\n",
       " 'rnn_bit_shift_right_numerical',\n",
       " 'rnn_bitwise_and',\n",
       " 'rnn_bitwise_not',\n",
       " 'rnn_bitwise_or',\n",
       " 'rnn_bitwise_xor',\n",
       " 'rnn_diff_last2_numerical',\n",
       " 'rnn_diff_of_abs_value_numerical',\n",
       " 'rnn_dithering_numerical',\n",
       " 'rnn_div_3_numerical',\n",
       " 'rnn_div_5_numerical',\n",
       " 'rnn_div_7_numerical',\n",
       " 'rnn_evens_counter_numerical',\n",
       " 'rnn_evens_detector_numerical',\n",
       " 'rnn_identity_numerical',\n",
       " 'rnn_majority0_1_numerical',\n",
       " 'rnn_majority0_2_numerical',\n",
       " 'rnn_majority0_3_numerical',\n",
       " 'rnn_max_numerical',\n",
       " 'rnn_min_numerical',\n",
       " 'rnn_newton_freebody_numerical',\n",
       " 'rnn_newton_gravity_numerical',\n",
       " 'rnn_newton_magnetic_numerical',\n",
       " 'rnn_newton_spring_numerical',\n",
       " 'rnn_parity_last2_numerical',\n",
       " 'rnn_parity_last3_numerical',\n",
       " 'rnn_parity_last4_numerical',\n",
       " 'rnn_parity_numerical',\n",
       " 'rnn_parity_of_index_numerical',\n",
       " 'rnn_parity_of_zeros_numerical',\n",
       " 'rnn_perfect_square_detector_numerical',\n",
       " 'rnn_prev1_numerical',\n",
       " 'rnn_prev2_numerical',\n",
       " 'rnn_prev3_numerical',\n",
       " 'rnn_prev4_numerical',\n",
       " 'rnn_prev5_numerical',\n",
       " 'rnn_sum_last2_numerical',\n",
       " 'rnn_sum_last3_numerical',\n",
       " 'rnn_sum_last4_numerical',\n",
       " 'rnn_sum_last5_numerical',\n",
       " 'rnn_sum_last6_numerical',\n",
       " 'rnn_sum_last7_numerical',\n",
       " 'rnn_sum_numerical',\n",
       " 'rnn_unique2_numerical']"
      ]
     },
     "execution_count": 4,
     "metadata": {},
     "output_type": "execute_result"
    }
   ],
   "source": [
    "tasks = [f for f in os.listdir('../tasks') if not f.startswith('.')]\n",
    "tasks.sort()\n",
    "tasks"
   ]
  },
  {
   "cell_type": "code",
   "execution_count": 5,
   "id": "1a7b88f1",
   "metadata": {},
   "outputs": [
    {
     "name": "stdout",
     "output_type": "stream",
     "text": [
      "-------------------------------------------------\n",
      "bit_addition\n",
      "hidden_dim =  2\n",
      "1/5: create dataset\n",
      "ckpt =  models_hammered\n",
      "2/5: lattice\n"
     ]
    },
    {
     "name": "stderr",
     "output_type": "stream",
     "text": [
      "/Users/ziming/Desktop/2022/research/code/neural-verification-regression-github/regression/integer_autoencoder.py:18: RuntimeWarning: invalid value encountered in divide\n",
      "  proj = np.round(np.sum(basis*basis[[i]],axis=1)/np.linalg.norm(basis[i])**2)\n"
     ]
    },
    {
     "name": "stdout",
     "output_type": "stream",
     "text": [
      "[0.001 0.001]\n",
      "saving txt\n",
      "3/5: Linear regression\n",
      "hidden_dim=2\n",
      "input_dim > 1, skip...\n",
      "4/5: Boolean regression\n",
      "verification success\n",
      "-------------------------------------------------\n",
      "rnn_abs_value_numerical\n",
      "hidden_dim =  1\n",
      "1/5: create dataset\n",
      "ckpt =  models_hammered\n",
      "2/5: lattice\n"
     ]
    },
    {
     "name": "stderr",
     "output_type": "stream",
     "text": [
      "/var/folders/6j/b6y80djd4nb5hl73rv3sv8y80000gn/T/ipykernel_99359/3324284619.py:98: FutureWarning: The frame.append method is deprecated and will be removed from pandas in a future version. Use pandas.concat instead.\n",
      "  df = df.append(item, ignore_index = True)\n"
     ]
    },
    {
     "name": "stdout",
     "output_type": "stream",
     "text": [
      "[0.1   0.001]\n",
      "saving txt\n",
      "3/5: Linear regression\n",
      "hidden_dim=1\n",
      "verification failure\n",
      "4/5: Boolean regression\n",
      "dim too high (perm > 16!), skip...\n",
      "dim too high (perm > 16!), skip...\n",
      "0\n",
      "5/5: Symbolic regression\n",
      "trying parity  ('+',)\n"
     ]
    },
    {
     "name": "stderr",
     "output_type": "stream",
     "text": [
      "./symbolic_regression/main.cpp:32:1: warning: non-void function does not return a value in all control paths [-Wreturn-type]\n",
      "};\n",
      "^\n",
      "1 warning generated.\n"
     ]
    },
    {
     "name": "stdout",
     "output_type": "stream",
     "text": [
      "symbolic regressing\n"
     ]
    },
    {
     "ename": "KeyboardInterrupt",
     "evalue": "",
     "output_type": "error",
     "traceback": [
      "\u001b[0;31m---------------------------------------------------------------------------\u001b[0m",
      "\u001b[0;31mKeyboardInterrupt\u001b[0m                         Traceback (most recent call last)",
      "\u001b[0;32m/var/folders/6j/b6y80djd4nb5hl73rv3sv8y80000gn/T/ipykernel_99359/3324284619.py\u001b[0m in \u001b[0;36m<module>\u001b[0;34m\u001b[0m\n\u001b[1;32m     75\u001b[0m                 \u001b[0;32melse\u001b[0m\u001b[0;34m:\u001b[0m\u001b[0;34m\u001b[0m\u001b[0;34m\u001b[0m\u001b[0m\n\u001b[1;32m     76\u001b[0m                     \u001b[0mprint\u001b[0m\u001b[0;34m(\u001b[0m\u001b[0;34m'5/5: Symbolic regression'\u001b[0m\u001b[0;34m)\u001b[0m\u001b[0;34m\u001b[0m\u001b[0;34m\u001b[0m\u001b[0m\n\u001b[0;32m---> 77\u001b[0;31m                     \u001b[0mcode\u001b[0m\u001b[0;34m,\u001b[0m \u001b[0mfunction_strings\u001b[0m \u001b[0;34m=\u001b[0m \u001b[0mproduce_program_symbolic_regression\u001b[0m\u001b[0;34m(\u001b[0m\u001b[0mtask\u001b[0m\u001b[0;34m,\u001b[0m \u001b[0mprint_code\u001b[0m\u001b[0;34m=\u001b[0m\u001b[0;32mFalse\u001b[0m\u001b[0;34m)\u001b[0m\u001b[0;34m;\u001b[0m\u001b[0;34m\u001b[0m\u001b[0;34m\u001b[0m\u001b[0m\n\u001b[0m\u001b[1;32m     78\u001b[0m                     \u001b[0mexec\u001b[0m\u001b[0;34m(\u001b[0m\u001b[0mcode\u001b[0m\u001b[0;34m)\u001b[0m\u001b[0;34m\u001b[0m\u001b[0;34m\u001b[0m\u001b[0m\n\u001b[1;32m     79\u001b[0m                     \u001b[0msuccess_flag\u001b[0m\u001b[0;34m\u001b[0m\u001b[0;34m\u001b[0m\u001b[0m\n",
      "\u001b[0;32m/var/folders/6j/b6y80djd4nb5hl73rv3sv8y80000gn/T/ipykernel_99359/2256141029.py\u001b[0m in \u001b[0;36mproduce_program_symbolic_regression\u001b[0;34m(task_name, print_code, function_strings, h_round)\u001b[0m\n\u001b[1;32m     21\u001b[0m \u001b[0;34m\u001b[0m\u001b[0m\n\u001b[1;32m     22\u001b[0m     \u001b[0;32mif\u001b[0m \u001b[0mfunction_strings\u001b[0m \u001b[0;34m==\u001b[0m \u001b[0;32mNone\u001b[0m\u001b[0;34m:\u001b[0m\u001b[0;34m\u001b[0m\u001b[0;34m\u001b[0m\u001b[0m\n\u001b[0;32m---> 23\u001b[0;31m         \u001b[0msymbolic_formulas\u001b[0m \u001b[0;34m=\u001b[0m \u001b[0mget_symbolic_formula\u001b[0m\u001b[0;34m(\u001b[0m\u001b[0mtask_name\u001b[0m\u001b[0;34m)\u001b[0m\u001b[0;34m\u001b[0m\u001b[0;34m\u001b[0m\u001b[0m\n\u001b[0m\u001b[1;32m     24\u001b[0m         \u001b[0mfunction_strings\u001b[0m \u001b[0;34m=\u001b[0m \u001b[0;34m[\u001b[0m\u001b[0mRPN2function\u001b[0m\u001b[0;34m(\u001b[0m\u001b[0mformula\u001b[0m\u001b[0;34m)\u001b[0m \u001b[0;32mfor\u001b[0m \u001b[0mformula\u001b[0m \u001b[0;32min\u001b[0m \u001b[0msymbolic_formulas\u001b[0m\u001b[0;34m]\u001b[0m\u001b[0;34m\u001b[0m\u001b[0;34m\u001b[0m\u001b[0m\n\u001b[1;32m     25\u001b[0m \u001b[0;34m\u001b[0m\u001b[0m\n",
      "\u001b[0;32m/var/folders/6j/b6y80djd4nb5hl73rv3sv8y80000gn/T/ipykernel_99359/2044398936.py\u001b[0m in \u001b[0;36mget_symbolic_formula\u001b[0;34m(task)\u001b[0m\n\u001b[1;32m     90\u001b[0m         \u001b[0;31m# (input, hidden) -> hidden\u001b[0m\u001b[0;34m\u001b[0m\u001b[0;34m\u001b[0m\u001b[0m\n\u001b[1;32m     91\u001b[0m         \u001b[0;32mfor\u001b[0m \u001b[0mi\u001b[0m \u001b[0;32min\u001b[0m \u001b[0mrange\u001b[0m\u001b[0;34m(\u001b[0m\u001b[0mhidden_dim\u001b[0m\u001b[0;34m)\u001b[0m\u001b[0;34m:\u001b[0m\u001b[0;34m\u001b[0m\u001b[0;34m\u001b[0m\u001b[0m\n\u001b[0;32m---> 92\u001b[0;31m             \u001b[0msubprocess\u001b[0m\u001b[0;34m.\u001b[0m\u001b[0mrun\u001b[0m\u001b[0;34m(\u001b[0m\u001b[0;34m[\u001b[0m\u001b[0;34m\"./main\"\u001b[0m\u001b[0;34m,\u001b[0m \u001b[0;34mf\"{task}\"\u001b[0m\u001b[0;34m,\u001b[0m \u001b[0;34mf\"/hidden{i}\"\u001b[0m\u001b[0;34m,\u001b[0m \u001b[0mstr\u001b[0m\u001b[0;34m(\u001b[0m\u001b[0minput_dim\u001b[0m\u001b[0;34m+\u001b[0m\u001b[0mhidden_dim\u001b[0m\u001b[0;34m)\u001b[0m\u001b[0;34m]\u001b[0m\u001b[0;34m)\u001b[0m\u001b[0;34m\u001b[0m\u001b[0;34m\u001b[0m\u001b[0m\n\u001b[0m\u001b[1;32m     93\u001b[0m         \u001b[0;31m# hidden -> output\u001b[0m\u001b[0;34m\u001b[0m\u001b[0;34m\u001b[0m\u001b[0m\n\u001b[1;32m     94\u001b[0m         \u001b[0msubprocess\u001b[0m\u001b[0;34m.\u001b[0m\u001b[0mrun\u001b[0m\u001b[0;34m(\u001b[0m\u001b[0;34m[\u001b[0m\u001b[0;34m\"./main\"\u001b[0m\u001b[0;34m,\u001b[0m \u001b[0;34mf\"{task}\"\u001b[0m\u001b[0;34m,\u001b[0m \u001b[0;34m\"/output\"\u001b[0m\u001b[0;34m,\u001b[0m \u001b[0mstr\u001b[0m\u001b[0;34m(\u001b[0m\u001b[0mhidden_dim\u001b[0m\u001b[0;34m)\u001b[0m\u001b[0;34m]\u001b[0m\u001b[0;34m)\u001b[0m\u001b[0;34m\u001b[0m\u001b[0;34m\u001b[0m\u001b[0m\n",
      "\u001b[0;32m~/opt/anaconda3/lib/python3.9/subprocess.py\u001b[0m in \u001b[0;36mrun\u001b[0;34m(input, capture_output, timeout, check, *popenargs, **kwargs)\u001b[0m\n\u001b[1;32m    505\u001b[0m     \u001b[0;32mwith\u001b[0m \u001b[0mPopen\u001b[0m\u001b[0;34m(\u001b[0m\u001b[0;34m*\u001b[0m\u001b[0mpopenargs\u001b[0m\u001b[0;34m,\u001b[0m \u001b[0;34m**\u001b[0m\u001b[0mkwargs\u001b[0m\u001b[0;34m)\u001b[0m \u001b[0;32mas\u001b[0m \u001b[0mprocess\u001b[0m\u001b[0;34m:\u001b[0m\u001b[0;34m\u001b[0m\u001b[0;34m\u001b[0m\u001b[0m\n\u001b[1;32m    506\u001b[0m         \u001b[0;32mtry\u001b[0m\u001b[0;34m:\u001b[0m\u001b[0;34m\u001b[0m\u001b[0;34m\u001b[0m\u001b[0m\n\u001b[0;32m--> 507\u001b[0;31m             \u001b[0mstdout\u001b[0m\u001b[0;34m,\u001b[0m \u001b[0mstderr\u001b[0m \u001b[0;34m=\u001b[0m \u001b[0mprocess\u001b[0m\u001b[0;34m.\u001b[0m\u001b[0mcommunicate\u001b[0m\u001b[0;34m(\u001b[0m\u001b[0minput\u001b[0m\u001b[0;34m,\u001b[0m \u001b[0mtimeout\u001b[0m\u001b[0;34m=\u001b[0m\u001b[0mtimeout\u001b[0m\u001b[0;34m)\u001b[0m\u001b[0;34m\u001b[0m\u001b[0;34m\u001b[0m\u001b[0m\n\u001b[0m\u001b[1;32m    508\u001b[0m         \u001b[0;32mexcept\u001b[0m \u001b[0mTimeoutExpired\u001b[0m \u001b[0;32mas\u001b[0m \u001b[0mexc\u001b[0m\u001b[0;34m:\u001b[0m\u001b[0;34m\u001b[0m\u001b[0;34m\u001b[0m\u001b[0m\n\u001b[1;32m    509\u001b[0m             \u001b[0mprocess\u001b[0m\u001b[0;34m.\u001b[0m\u001b[0mkill\u001b[0m\u001b[0;34m(\u001b[0m\u001b[0;34m)\u001b[0m\u001b[0;34m\u001b[0m\u001b[0;34m\u001b[0m\u001b[0m\n",
      "\u001b[0;32m~/opt/anaconda3/lib/python3.9/subprocess.py\u001b[0m in \u001b[0;36mcommunicate\u001b[0;34m(self, input, timeout)\u001b[0m\n\u001b[1;32m   1124\u001b[0m                 \u001b[0mstderr\u001b[0m \u001b[0;34m=\u001b[0m \u001b[0mself\u001b[0m\u001b[0;34m.\u001b[0m\u001b[0mstderr\u001b[0m\u001b[0;34m.\u001b[0m\u001b[0mread\u001b[0m\u001b[0;34m(\u001b[0m\u001b[0;34m)\u001b[0m\u001b[0;34m\u001b[0m\u001b[0;34m\u001b[0m\u001b[0m\n\u001b[1;32m   1125\u001b[0m                 \u001b[0mself\u001b[0m\u001b[0;34m.\u001b[0m\u001b[0mstderr\u001b[0m\u001b[0;34m.\u001b[0m\u001b[0mclose\u001b[0m\u001b[0;34m(\u001b[0m\u001b[0;34m)\u001b[0m\u001b[0;34m\u001b[0m\u001b[0;34m\u001b[0m\u001b[0m\n\u001b[0;32m-> 1126\u001b[0;31m             \u001b[0mself\u001b[0m\u001b[0;34m.\u001b[0m\u001b[0mwait\u001b[0m\u001b[0;34m(\u001b[0m\u001b[0;34m)\u001b[0m\u001b[0;34m\u001b[0m\u001b[0;34m\u001b[0m\u001b[0m\n\u001b[0m\u001b[1;32m   1127\u001b[0m         \u001b[0;32melse\u001b[0m\u001b[0;34m:\u001b[0m\u001b[0;34m\u001b[0m\u001b[0;34m\u001b[0m\u001b[0m\n\u001b[1;32m   1128\u001b[0m             \u001b[0;32mif\u001b[0m \u001b[0mtimeout\u001b[0m \u001b[0;32mis\u001b[0m \u001b[0;32mnot\u001b[0m \u001b[0;32mNone\u001b[0m\u001b[0;34m:\u001b[0m\u001b[0;34m\u001b[0m\u001b[0;34m\u001b[0m\u001b[0m\n",
      "\u001b[0;32m~/opt/anaconda3/lib/python3.9/subprocess.py\u001b[0m in \u001b[0;36mwait\u001b[0;34m(self, timeout)\u001b[0m\n\u001b[1;32m   1187\u001b[0m             \u001b[0mendtime\u001b[0m \u001b[0;34m=\u001b[0m \u001b[0m_time\u001b[0m\u001b[0;34m(\u001b[0m\u001b[0;34m)\u001b[0m \u001b[0;34m+\u001b[0m \u001b[0mtimeout\u001b[0m\u001b[0;34m\u001b[0m\u001b[0;34m\u001b[0m\u001b[0m\n\u001b[1;32m   1188\u001b[0m         \u001b[0;32mtry\u001b[0m\u001b[0;34m:\u001b[0m\u001b[0;34m\u001b[0m\u001b[0;34m\u001b[0m\u001b[0m\n\u001b[0;32m-> 1189\u001b[0;31m             \u001b[0;32mreturn\u001b[0m \u001b[0mself\u001b[0m\u001b[0;34m.\u001b[0m\u001b[0m_wait\u001b[0m\u001b[0;34m(\u001b[0m\u001b[0mtimeout\u001b[0m\u001b[0;34m=\u001b[0m\u001b[0mtimeout\u001b[0m\u001b[0;34m)\u001b[0m\u001b[0;34m\u001b[0m\u001b[0;34m\u001b[0m\u001b[0m\n\u001b[0m\u001b[1;32m   1190\u001b[0m         \u001b[0;32mexcept\u001b[0m \u001b[0mKeyboardInterrupt\u001b[0m\u001b[0;34m:\u001b[0m\u001b[0;34m\u001b[0m\u001b[0;34m\u001b[0m\u001b[0m\n\u001b[1;32m   1191\u001b[0m             \u001b[0;31m# https://bugs.python.org/issue25942\u001b[0m\u001b[0;34m\u001b[0m\u001b[0;34m\u001b[0m\u001b[0m\n",
      "\u001b[0;32m~/opt/anaconda3/lib/python3.9/subprocess.py\u001b[0m in \u001b[0;36m_wait\u001b[0;34m(self, timeout)\u001b[0m\n\u001b[1;32m   1915\u001b[0m                         \u001b[0;32mif\u001b[0m \u001b[0mself\u001b[0m\u001b[0;34m.\u001b[0m\u001b[0mreturncode\u001b[0m \u001b[0;32mis\u001b[0m \u001b[0;32mnot\u001b[0m \u001b[0;32mNone\u001b[0m\u001b[0;34m:\u001b[0m\u001b[0;34m\u001b[0m\u001b[0;34m\u001b[0m\u001b[0m\n\u001b[1;32m   1916\u001b[0m                             \u001b[0;32mbreak\u001b[0m  \u001b[0;31m# Another thread waited.\u001b[0m\u001b[0;34m\u001b[0m\u001b[0;34m\u001b[0m\u001b[0m\n\u001b[0;32m-> 1917\u001b[0;31m                         \u001b[0;34m(\u001b[0m\u001b[0mpid\u001b[0m\u001b[0;34m,\u001b[0m \u001b[0msts\u001b[0m\u001b[0;34m)\u001b[0m \u001b[0;34m=\u001b[0m \u001b[0mself\u001b[0m\u001b[0;34m.\u001b[0m\u001b[0m_try_wait\u001b[0m\u001b[0;34m(\u001b[0m\u001b[0;36m0\u001b[0m\u001b[0;34m)\u001b[0m\u001b[0;34m\u001b[0m\u001b[0;34m\u001b[0m\u001b[0m\n\u001b[0m\u001b[1;32m   1918\u001b[0m                         \u001b[0;31m# Check the pid and loop as waitpid has been known to\u001b[0m\u001b[0;34m\u001b[0m\u001b[0;34m\u001b[0m\u001b[0m\n\u001b[1;32m   1919\u001b[0m                         \u001b[0;31m# return 0 even without WNOHANG in odd situations.\u001b[0m\u001b[0;34m\u001b[0m\u001b[0;34m\u001b[0m\u001b[0m\n",
      "\u001b[0;32m~/opt/anaconda3/lib/python3.9/subprocess.py\u001b[0m in \u001b[0;36m_try_wait\u001b[0;34m(self, wait_flags)\u001b[0m\n\u001b[1;32m   1873\u001b[0m             \u001b[0;34m\"\"\"All callers to this function MUST hold self._waitpid_lock.\"\"\"\u001b[0m\u001b[0;34m\u001b[0m\u001b[0;34m\u001b[0m\u001b[0m\n\u001b[1;32m   1874\u001b[0m             \u001b[0;32mtry\u001b[0m\u001b[0;34m:\u001b[0m\u001b[0;34m\u001b[0m\u001b[0;34m\u001b[0m\u001b[0m\n\u001b[0;32m-> 1875\u001b[0;31m                 \u001b[0;34m(\u001b[0m\u001b[0mpid\u001b[0m\u001b[0;34m,\u001b[0m \u001b[0msts\u001b[0m\u001b[0;34m)\u001b[0m \u001b[0;34m=\u001b[0m \u001b[0mos\u001b[0m\u001b[0;34m.\u001b[0m\u001b[0mwaitpid\u001b[0m\u001b[0;34m(\u001b[0m\u001b[0mself\u001b[0m\u001b[0;34m.\u001b[0m\u001b[0mpid\u001b[0m\u001b[0;34m,\u001b[0m \u001b[0mwait_flags\u001b[0m\u001b[0;34m)\u001b[0m\u001b[0;34m\u001b[0m\u001b[0;34m\u001b[0m\u001b[0m\n\u001b[0m\u001b[1;32m   1876\u001b[0m             \u001b[0;32mexcept\u001b[0m \u001b[0mChildProcessError\u001b[0m\u001b[0;34m:\u001b[0m\u001b[0;34m\u001b[0m\u001b[0;34m\u001b[0m\u001b[0m\n\u001b[1;32m   1877\u001b[0m                 \u001b[0;31m# This happens if SIGCLD is set to be ignored or waiting\u001b[0m\u001b[0;34m\u001b[0m\u001b[0;34m\u001b[0m\u001b[0m\n",
      "\u001b[0;31mKeyboardInterrupt\u001b[0m: "
     ]
    }
   ],
   "source": [
    "import yaml\n",
    "\n",
    "ii = 0\n",
    "\n",
    "for task in tasks:\n",
    "    \n",
    "    \n",
    "    df = pd.read_csv('./results.csv', index_col=0)\n",
    "\n",
    "    ii += 1\n",
    "    \n",
    "    method = \"None\"\n",
    "    print('-------------------------------------------------')\n",
    "    print(task)\n",
    "    with open(f'../tasks/{task}/args.yaml', 'r') as file:\n",
    "        args = yaml.safe_load(file)\n",
    "        \n",
    "    hidden_dim = args['hidden_dim']\n",
    "    print(\"hidden_dim = \", hidden_dim)\n",
    "    rounding_patterns = list(product(*[['+','-']]*hidden_dim))\n",
    "    \n",
    "    if hidden_dim > 10:\n",
    "        print(\"hidden_dim too large, exit...\")\n",
    "        df = pd.read_csv('./results.csv', index_col=0)\n",
    "        item = {'task': task, 'success': 0, 'method': method} \n",
    "        df = df.append(item, ignore_index = True)\n",
    "        df.to_csv('./results.csv')\n",
    "        continue\n",
    "    \n",
    "    # create dataset\n",
    "    print('1/5: create dataset')\n",
    "    subprocess.run([\"python\", f\"../tasks/{task}/create_dataset.py\"])\n",
    "    \n",
    "    \n",
    "    #ckpts = ['tasks', 'models_regularized', 'models_hammered']\n",
    "    ckpts = ['models_hammered']\n",
    "    \n",
    "    for ckpt in ckpts:\n",
    "        \n",
    "        exist = os.path.isfile('../models_regularized' + '/' + task + '/regularized_model_best.pt')\n",
    "        if exist == False and ckpt == 'models_regularized':\n",
    "            print('not exist')\n",
    "            continue\n",
    "            \n",
    "        print('ckpt = ', ckpt)\n",
    "\n",
    "        print('2/5: lattice')\n",
    "        # compute lattice\n",
    "        subprocess.run([\"python\", \"auto_encode_RNN.py\", \"--task\", task, '--ckpt', ckpt])\n",
    "\n",
    "        print('3/5: Linear regression')\n",
    "        code, hidden_dim = produce_program_linear_regression(task, print_code=False);\n",
    "        exec(code)\n",
    "        if success_flag == 1:\n",
    "            method = \"LR\"\n",
    "\n",
    "        if success_flag == 0:\n",
    "\n",
    "            print('4/5: Boolean regression')\n",
    "            code = produce_program_boolean_regression(task, print_code=False, ckpt=ckpt); # also try eff_dim_increase = 1\n",
    "            exec(code)\n",
    "            success_flag\n",
    "            if success_flag == 1:\n",
    "                method = \"BR\"\n",
    "\n",
    "            else:\n",
    "                code = produce_program_boolean_regression(task, effective_hidden_dim_increase=1, print_code=False); # also try eff_dim_increase = 1\n",
    "                exec(code)\n",
    "                print(success_flag)\n",
    "\n",
    "                if success_flag == 1:\n",
    "                    method = \"BR\"\n",
    "\n",
    "\n",
    "                else:\n",
    "                    print('5/5: Symbolic regression')\n",
    "                    code, function_strings = produce_program_symbolic_regression(task, print_code=False);\n",
    "                    exec(code)\n",
    "                    success_flag\n",
    "                    if success_flag == 1:\n",
    "                        method = \"SR\"\n",
    "                    else:\n",
    "                        if hidden_dim < 3:\n",
    "                            for h_round in rounding_patterns:\n",
    "                                print('round pattern:', h_round)\n",
    "                                code, function_strings = produce_program_symbolic_regression(task, print_code=False, h_round=h_round, function_strings=function_strings);\n",
    "                                exec(code)\n",
    "                                success_flag\n",
    "                                if success_flag == 1:\n",
    "                                    method = \"SR\"\n",
    "                                    break\n",
    "                                    \n",
    "        if success_flag == 1:\n",
    "            break\n",
    "\n",
    "    df = pd.read_csv('./results.csv', index_col=0)\n",
    "    item = {'task': task, 'success': success_flag, 'method': method} \n",
    "    df = df.append(item, ignore_index = True)\n",
    "    df.to_csv('./results.csv')\n",
    "\n",
    "\n"
   ]
  },
  {
   "cell_type": "code",
   "execution_count": null,
   "id": "abb47f90",
   "metadata": {},
   "outputs": [],
   "source": []
  }
 ],
 "metadata": {
  "kernelspec": {
   "display_name": "Python 3 (ipykernel)",
   "language": "python",
   "name": "python3"
  },
  "language_info": {
   "codemirror_mode": {
    "name": "ipython",
    "version": 3
   },
   "file_extension": ".py",
   "mimetype": "text/x-python",
   "name": "python",
   "nbconvert_exporter": "python",
   "pygments_lexer": "ipython3",
   "version": "3.9.7"
  }
 },
 "nbformat": 4,
 "nbformat_minor": 5
}

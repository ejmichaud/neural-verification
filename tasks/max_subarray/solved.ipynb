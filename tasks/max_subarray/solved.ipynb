{
 "cells": [
  {
   "cell_type": "markdown",
   "id": "0e194bac",
   "metadata": {},
   "source": [
    "## Model"
   ]
  },
  {
   "cell_type": "code",
   "execution_count": 1,
   "id": "230f5001",
   "metadata": {},
   "outputs": [],
   "source": [
    "import math\n",
    "import numpy as np\n",
    "import pandas as pd\n",
    "import matplotlib.pyplot as plt\n",
    "import torch\n",
    "import torch.nn as nn\n",
    "from neural_verification import GeneralRNNConfig, GeneralRNN"
   ]
  },
  {
   "cell_type": "code",
   "execution_count": 2,
   "id": "00548f60",
   "metadata": {},
   "outputs": [],
   "source": [
    "device = torch.device(\"cuda:0\" if torch.cuda.is_available() else \"cpu\")"
   ]
  },
  {
   "cell_type": "code",
   "execution_count": 3,
   "id": "9dfa5278",
   "metadata": {},
   "outputs": [],
   "source": [
    "model_config = GeneralRNNConfig(\n",
    "        input_dim=1,\n",
    "        output_dim=1,\n",
    "        hidden_dim=2,\n",
    "        hidden_mlp_depth=3,\n",
    "        hidden_mlp_width=4,\n",
    "        output_mlp_depth=1,\n",
    "        output_mlp_width=1,\n",
    "        activation=nn.ReLU\n",
    "        )\n",
    "\n",
    "model = GeneralRNN(model_config, device=device)"
   ]
  },
  {
   "cell_type": "code",
   "execution_count": 4,
   "id": "665fe605",
   "metadata": {},
   "outputs": [],
   "source": [
    "model.hmlp.mlp[0].weight.data = torch.tensor(([[ 0.9966, 0., 0.9998],\n",
    "                                              [ 0.,  0.9998,  0.],\n",
    "                                              [ 0., -0.9985,  0.],\n",
    "                                              [ 0.,  0.,  0.]]))"
   ]
  },
  {
   "cell_type": "code",
   "execution_count": 5,
   "id": "50bb8ff4",
   "metadata": {},
   "outputs": [],
   "source": [
    "model.hmlp.mlp[0].bias.data = torch.tensor([0., 0., 0., 0.])"
   ]
  },
  {
   "cell_type": "code",
   "execution_count": 6,
   "id": "07d02b3d",
   "metadata": {},
   "outputs": [],
   "source": [
    "model.hmlp.mlp[2].weight.data = torch.tensor([[ 1.,  0.,  0., 0.],\n",
    "                                              [ 1., -1.,  1., 0.],\n",
    "                                              [ 0.,  1.,  0., 0.],\n",
    "                                              [ 0.,  0.,  1., 0.]])"
   ]
  },
  {
   "cell_type": "code",
   "execution_count": 7,
   "id": "7d7357e0",
   "metadata": {},
   "outputs": [],
   "source": [
    "model.hmlp.mlp[2].bias.data = torch.tensor([0., 0., 0., 0.])"
   ]
  },
  {
   "cell_type": "code",
   "execution_count": 8,
   "id": "55afde8e",
   "metadata": {},
   "outputs": [],
   "source": [
    "model.hmlp.mlp[4].weight.data = torch.tensor([[ 1.,  0., 0.,  0.],\n",
    "                                              [ 0.,  1., 1., -1.]])"
   ]
  },
  {
   "cell_type": "code",
   "execution_count": 9,
   "id": "a6d6647a",
   "metadata": {},
   "outputs": [],
   "source": [
    "model.hmlp.mlp[4].bias.data = torch.tensor([0., 0.])"
   ]
  },
  {
   "cell_type": "code",
   "execution_count": 10,
   "id": "2753d761",
   "metadata": {},
   "outputs": [],
   "source": [
    "model.ymlp.mlp[0].weight.data = torch.tensor([[ 0.,  1.]])"
   ]
  },
  {
   "cell_type": "code",
   "execution_count": 11,
   "id": "17def3cb",
   "metadata": {},
   "outputs": [],
   "source": [
    "model.ymlp.mlp[0].bias.data = torch.tensor([0.])"
   ]
  },
  {
   "cell_type": "markdown",
   "id": "1ca67357",
   "metadata": {},
   "source": [
    "## Maximum Subarray"
   ]
  },
  {
   "cell_type": "code",
   "execution_count": 12,
   "id": "84e16bec",
   "metadata": {},
   "outputs": [],
   "source": [
    "def maxSubArray(nums):\n",
    "    nums = torch.tensor(nums)\n",
    "    nums = torch.unsqueeze(nums, 1)\n",
    "    nums = torch.unsqueeze(nums, 0)\n",
    "    \n",
    "    outs, hiddens = model.forward_sequence(nums)\n",
    "    print(list(h[0].tolist() for h in hiddens))\n",
    "    return outs[0][-1][0].item()"
   ]
  },
  {
   "cell_type": "markdown",
   "id": "df699494",
   "metadata": {},
   "source": [
    "## Testing"
   ]
  },
  {
   "cell_type": "code",
   "execution_count": 13,
   "id": "74c43e72",
   "metadata": {},
   "outputs": [
    {
     "name": "stdout",
     "output_type": "stream",
     "text": [
      "[[0.0, 0.0], [4.999000072479248, 4.999000072479248]]\n"
     ]
    },
    {
     "data": {
      "text/plain": [
       "4.999000072479248"
      ]
     },
     "execution_count": 13,
     "metadata": {},
     "output_type": "execute_result"
    }
   ],
   "source": [
    "maxSubArray([5])"
   ]
  },
  {
   "cell_type": "code",
   "execution_count": 14,
   "id": "526960ce",
   "metadata": {},
   "outputs": [
    {
     "name": "stdout",
     "output_type": "stream",
     "text": [
      "[[0.0, 0.0], [2.9994001388549805, 2.9994001388549805], [6.988402366638184, 6.988402366638184], [11.963642120361328, 11.963642120361328], [17.921764373779297, 17.921764373779297], [16.86103057861328, 17.918180465698242], [21.802703857421875, 21.802703857421875], [11.730574607849121, 21.798343658447266]]\n"
     ]
    },
    {
     "data": {
      "text/plain": [
       "21.798343658447266"
      ]
     },
     "execution_count": 14,
     "metadata": {},
     "output_type": "execute_result"
    }
   ],
   "source": [
    "maxSubArray([3., 4., 5., 6., -1., 5., -10.])"
   ]
  },
  {
   "cell_type": "code",
   "execution_count": 15,
   "id": "8365fda0",
   "metadata": {},
   "outputs": [
    {
     "name": "stdout",
     "output_type": "stream",
     "text": [
      "[[0.0, 0.0], [0.9998000264167786, 0.9998000264167786], [2.9960007667541504, 2.9960007667541504], [5.9852142333984375, 5.9852142333984375], [9.964064598083496, 9.964064598083496]]\n"
     ]
    },
    {
     "data": {
      "text/plain": [
       "9.964064598083496"
      ]
     },
     "execution_count": 15,
     "metadata": {},
     "output_type": "execute_result"
    }
   ],
   "source": [
    "maxSubArray([1, 2, 3, 4])"
   ]
  },
  {
   "cell_type": "code",
   "execution_count": 16,
   "id": "a1625285",
   "metadata": {},
   "outputs": [
    {
     "name": "stdout",
     "output_type": "stream",
     "text": [
      "[[0.0, 0.0], [1.9996000528335571, 1.9996000528335571], [0.9930012822151184, 1.9992002248764038], [2.989225149154663, 2.989225149154663], [5.978461742401123, 5.978461742401123], [9.957334518432617, 9.957334518432617], [4.924479007720947, 9.955343246459961]]\n"
     ]
    },
    {
     "data": {
      "text/plain": [
       "9.955343246459961"
      ]
     },
     "execution_count": 16,
     "metadata": {},
     "output_type": "execute_result"
    }
   ],
   "source": [
    "maxSubArray([2, -1, 2, 3, 4, -5])"
   ]
  },
  {
   "cell_type": "code",
   "execution_count": 17,
   "id": "aca9870f",
   "metadata": {},
   "outputs": [
    {
     "name": "stdout",
     "output_type": "stream",
     "text": [
      "[[0.0, 0.0], [4.999000072479248, 4.999000072479248], [8.981203079223633, 8.981203079223633], [7.950866222381592, 8.97940731048584], [14.922432899475098, 14.922432899475098], [22.87009620666504, 22.87009620666504]]\n"
     ]
    },
    {
     "data": {
      "text/plain": [
       "22.87009620666504"
      ]
     },
     "execution_count": 17,
     "metadata": {},
     "output_type": "execute_result"
    }
   ],
   "source": [
    "maxSubArray([5, 4, -1, 7, 8])"
   ]
  },
  {
   "cell_type": "code",
   "execution_count": 18,
   "id": "71aaca66",
   "metadata": {},
   "outputs": [
    {
     "name": "stdout",
     "output_type": "stream",
     "text": [
      "[[0.0, 0.0], [0.0, 0.0], [0.9998000264167786, 0.9998000264167786], [0.0, 0.9996001124382019], [3.9992001056671143, 3.9992001056671143], [2.98580265045166, 3.9984004497528076], [4.975250720977783, 4.975250720977783], [5.95813512802124, 5.95813512802124], [0.9388771057128906, 5.956943511962891], [4.934885025024414, 5.955752372741699]]\n"
     ]
    },
    {
     "data": {
      "text/plain": [
       "5.955752372741699"
      ]
     },
     "execution_count": 18,
     "metadata": {},
     "output_type": "execute_result"
    }
   ],
   "source": [
    "maxSubArray([-2, 1, -3, 4, -1, 2, 1, -5, 4])"
   ]
  },
  {
   "cell_type": "code",
   "execution_count": 19,
   "id": "f6e28187",
   "metadata": {},
   "outputs": [
    {
     "name": "stdout",
     "output_type": "stream",
     "text": [
      "[[0.0, 0.0], [0.0, 0.0], [0.0, 0.0], [0.0, 0.0], [0.0, 0.0], [0.0, 0.0], [0.0, 0.0]]\n"
     ]
    },
    {
     "data": {
      "text/plain": [
       "0.0"
      ]
     },
     "execution_count": 19,
     "metadata": {},
     "output_type": "execute_result"
    }
   ],
   "source": [
    "maxSubArray([-8, -3, -6, -2, -5, -4])"
   ]
  },
  {
   "cell_type": "code",
   "execution_count": 20,
   "id": "e5d7a6ef",
   "metadata": {},
   "outputs": [
    {
     "name": "stdout",
     "output_type": "stream",
     "text": [
      "[[0.0, 0.0], [12.997400283813477, 12.997400283813477], [9.953808784484863, 12.99480152130127], [0.0, 12.992202758789062], [19.996000289916992, 19.996000289916992], [16.928611755371094, 19.992002487182617], [0.8742532730102539, 19.988004684448242], [0.0, 19.984006881713867], [17.996400833129883, 19.980010986328125], [37.93121337890625, 37.93121337890625], [30.803646087646484, 37.92362976074219], [42.69651412963867, 42.69651412963867], [37.552345275878906, 42.6879768371582], [15.429067611694336, 42.679439544677734], [30.373607635498047, 42.67090606689453], [26.271135330200195, 42.66237258911133], [33.18041229248047, 42.65384292602539]]\n"
     ]
    },
    {
     "data": {
      "text/plain": [
       "42.65384292602539"
      ]
     },
     "execution_count": 20,
     "metadata": {},
     "output_type": "execute_result"
    }
   ],
   "source": [
    "maxSubArray([13, -3, -25, 20, -3, -16, -23, 18, 20, -7, 12, -5, -22, 15, -4, 7])"
   ]
  },
  {
   "cell_type": "code",
   "execution_count": 21,
   "id": "b2ed9844",
   "metadata": {},
   "outputs": [
    {
     "name": "stdout",
     "output_type": "stream",
     "text": [
      "[[0.0, 0.0], [0.0, 0.0], [0.0, 0.0], [0.0, 0.0], [0.0, 0.0], [0.0, 0.0]]\n"
     ]
    },
    {
     "data": {
      "text/plain": [
       "0.0"
      ]
     },
     "execution_count": 21,
     "metadata": {},
     "output_type": "execute_result"
    }
   ],
   "source": [
    "maxSubArray([0, -1, 0, -2, 0])"
   ]
  },
  {
   "cell_type": "code",
   "execution_count": 22,
   "id": "0a8b5213",
   "metadata": {},
   "outputs": [
    {
     "name": "stdout",
     "output_type": "stream",
     "text": [
      "[[0.0, 0.0], [2.9994001388549805, 2.9994001388549805], [4.988801956176758, 4.988801956176758], [5.971640110015869, 5.971640110015869], [5.95133638381958, 5.9704461097717285], [4.931301593780518, 5.969252109527588]]\n"
     ]
    },
    {
     "data": {
      "text/plain": [
       "5.969252109527588"
      ]
     },
     "execution_count": 22,
     "metadata": {},
     "output_type": "execute_result"
    }
   ],
   "source": [
    "maxSubArray([3, 2, 1, 0, -1])"
   ]
  },
  {
   "cell_type": "code",
   "execution_count": 23,
   "id": "5363ed47",
   "metadata": {},
   "outputs": [
    {
     "name": "stdout",
     "output_type": "stream",
     "text": [
      "[[0.0, 0.0], [0.9998000264167786, 0.9998000264167786], [0.0, 0.9996001124382019], [2.9994001388549805, 2.9994001388549805], [0.0, 2.998800277709961], [4.999000072479248, 4.999000072479248], [0.0, 4.998000621795654]]\n"
     ]
    },
    {
     "data": {
      "text/plain": [
       "4.998000621795654"
      ]
     },
     "execution_count": 23,
     "metadata": {},
     "output_type": "execute_result"
    }
   ],
   "source": [
    "maxSubArray([1, -2, 3, -4, 5, -6])"
   ]
  },
  {
   "cell_type": "code",
   "execution_count": null,
   "id": "78aaf6da",
   "metadata": {},
   "outputs": [],
   "source": []
  }
 ],
 "metadata": {
  "kernelspec": {
   "display_name": "Python 3 (ipykernel)",
   "language": "python",
   "name": "python3"
  },
  "language_info": {
   "codemirror_mode": {
    "name": "ipython",
    "version": 3
   },
   "file_extension": ".py",
   "mimetype": "text/x-python",
   "name": "python",
   "nbconvert_exporter": "python",
   "pygments_lexer": "ipython3",
   "version": "3.7.10"
  }
 },
 "nbformat": 4,
 "nbformat_minor": 5
}

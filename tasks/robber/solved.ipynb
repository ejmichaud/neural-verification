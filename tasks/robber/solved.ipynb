{
 "cells": [
  {
   "cell_type": "markdown",
   "id": "0e194bac",
   "metadata": {},
   "source": [
    "## Model"
   ]
  },
  {
   "cell_type": "code",
   "execution_count": 1,
   "id": "230f5001",
   "metadata": {},
   "outputs": [],
   "source": [
    "import math\n",
    "import numpy as np\n",
    "import pandas as pd\n",
    "import matplotlib.pyplot as plt\n",
    "import torch\n",
    "import torch.nn as nn\n",
    "from neural_verification import GeneralRNNConfig, GeneralRNN"
   ]
  },
  {
   "cell_type": "code",
   "execution_count": 2,
   "id": "00548f60",
   "metadata": {},
   "outputs": [],
   "source": [
    "device = torch.device(\"cuda:0\" if torch.cuda.is_available() else \"cpu\")"
   ]
  },
  {
   "cell_type": "code",
   "execution_count": 3,
   "id": "9dfa5278",
   "metadata": {},
   "outputs": [],
   "source": [
    "model_config = GeneralRNNConfig(\n",
    "        input_dim=1,\n",
    "        output_dim=1,\n",
    "        hidden_dim=2,\n",
    "        hidden_mlp_depth=2,\n",
    "        hidden_mlp_width=3,\n",
    "        output_mlp_depth=1,\n",
    "        output_mlp_width=1,\n",
    "        activation=nn.ReLU\n",
    "        )\n",
    "\n",
    "model = GeneralRNN(model_config, device=device)"
   ]
  },
  {
   "cell_type": "code",
   "execution_count": 4,
   "id": "9bfe6cd6",
   "metadata": {},
   "outputs": [
    {
     "data": {
      "text/plain": [
       "GeneralRNN(\n",
       "  (hmlp): MLP(\n",
       "    (mlp): Sequential(\n",
       "      (0): Linear(in_features=3, out_features=3, bias=True)\n",
       "      (1): ReLU()\n",
       "      (2): Linear(in_features=3, out_features=2, bias=True)\n",
       "    )\n",
       "  )\n",
       "  (ymlp): MLP(\n",
       "    (mlp): Sequential(\n",
       "      (0): Linear(in_features=2, out_features=1, bias=True)\n",
       "    )\n",
       "  )\n",
       ")"
      ]
     },
     "execution_count": 4,
     "metadata": {},
     "output_type": "execute_result"
    }
   ],
   "source": [
    "model"
   ]
  },
  {
   "cell_type": "code",
   "execution_count": 5,
   "id": "665fe605",
   "metadata": {},
   "outputs": [],
   "source": [
    "model.hmlp.mlp[0].weight.data = torch.tensor([[ 1.,  0.,  1.],\n",
    "                                              [-1.,  0., -1.],\n",
    "                                              [ 0.,  1.,  0.]])"
   ]
  },
  {
   "cell_type": "code",
   "execution_count": 6,
   "id": "50bb8ff4",
   "metadata": {},
   "outputs": [],
   "source": [
    "model.hmlp.mlp[0].bias.data = torch.tensor([0., 0., 0.])"
   ]
  },
  {
   "cell_type": "code",
   "execution_count": 7,
   "id": "07d02b3d",
   "metadata": {},
   "outputs": [],
   "source": [
    "model.hmlp.mlp[2].weight.data = torch.tensor([[ 1.,  -1.,  0.],\n",
    "                                              [ 0.,  -1.,  1.]])"
   ]
  },
  {
   "cell_type": "code",
   "execution_count": 8,
   "id": "7d7357e0",
   "metadata": {},
   "outputs": [],
   "source": [
    "model.hmlp.mlp[2].bias.data = torch.tensor([0., 0.])"
   ]
  },
  {
   "cell_type": "code",
   "execution_count": 9,
   "id": "2753d761",
   "metadata": {},
   "outputs": [],
   "source": [
    "model.ymlp.mlp[0].weight.data = torch.tensor([[ 1.,  0.],\n",
    "                                              [ 0., -1.]])"
   ]
  },
  {
   "cell_type": "code",
   "execution_count": 10,
   "id": "17def3cb",
   "metadata": {},
   "outputs": [],
   "source": [
    "model.ymlp.mlp[0].bias.data = torch.tensor([0., 0.])"
   ]
  },
  {
   "cell_type": "markdown",
   "id": "1ca67357",
   "metadata": {},
   "source": [
    "## Balanced Parentheses"
   ]
  },
  {
   "cell_type": "code",
   "execution_count": 34,
   "id": "84e16bec",
   "metadata": {},
   "outputs": [],
   "source": [
    "def isBalanced(paren):\n",
    "    iparen = []\n",
    "    for p in paren:\n",
    "        if p == \"(\":\n",
    "            iparen.append(1.)\n",
    "        elif p == \")\":\n",
    "            iparen.append(-1.)\n",
    "    iparen = torch.tensor(iparen)\n",
    "    iparen = torch.unsqueeze(iparen, 1)\n",
    "    iparen = torch.unsqueeze(iparen, 0)\n",
    "    \n",
    "    outs, hiddens = model.forward_sequence(iparen)\n",
    "    print(list(h[0].tolist() for h in hiddens))\n",
    "    return not outs.tolist()[0][-1][0]"
   ]
  },
  {
   "cell_type": "markdown",
   "id": "df699494",
   "metadata": {},
   "source": [
    "## Testing"
   ]
  },
  {
   "cell_type": "code",
   "execution_count": 35,
   "id": "526960ce",
   "metadata": {},
   "outputs": [
    {
     "name": "stdout",
     "output_type": "stream",
     "text": [
      "[[0.0, 0.0], [1.0, 0.0], [0.0, 0.0], [1.0, 0.0], [0.0, 0.0], [1.0, 0.0], [0.0, 0.0], [1.0, 0.0], [0.0, 0.0]]\n"
     ]
    },
    {
     "data": {
      "text/plain": [
       "True"
      ]
     },
     "execution_count": 35,
     "metadata": {},
     "output_type": "execute_result"
    }
   ],
   "source": [
    "isBalanced(\"()()()()\")"
   ]
  },
  {
   "cell_type": "code",
   "execution_count": 36,
   "id": "eb12955f",
   "metadata": {},
   "outputs": [
    {
     "name": "stdout",
     "output_type": "stream",
     "text": [
      "[[0.0, 0.0], [1.0, 0.0], [0.0, 0.0]]\n"
     ]
    },
    {
     "data": {
      "text/plain": [
       "True"
      ]
     },
     "execution_count": 36,
     "metadata": {},
     "output_type": "execute_result"
    }
   ],
   "source": [
    "isBalanced(\"()\")"
   ]
  },
  {
   "cell_type": "code",
   "execution_count": 37,
   "id": "fbaa2104",
   "metadata": {},
   "outputs": [
    {
     "name": "stdout",
     "output_type": "stream",
     "text": [
      "[[0.0, 0.0], [1.0, 0.0], [2.0, 0.0], [1.0, 0.0], [0.0, 0.0]]\n"
     ]
    },
    {
     "data": {
      "text/plain": [
       "True"
      ]
     },
     "execution_count": 37,
     "metadata": {},
     "output_type": "execute_result"
    }
   ],
   "source": [
    "isBalanced(\"(())\")"
   ]
  },
  {
   "cell_type": "code",
   "execution_count": 38,
   "id": "f655749f",
   "metadata": {},
   "outputs": [
    {
     "name": "stdout",
     "output_type": "stream",
     "text": [
      "[[0.0, 0.0], [1.0, 0.0], [2.0, 0.0], [1.0, 0.0], [0.0, 0.0], [1.0, 0.0], [0.0, 0.0]]\n"
     ]
    },
    {
     "data": {
      "text/plain": [
       "True"
      ]
     },
     "execution_count": 38,
     "metadata": {},
     "output_type": "execute_result"
    }
   ],
   "source": [
    "isBalanced(\"(())()\")"
   ]
  },
  {
   "cell_type": "code",
   "execution_count": 39,
   "id": "70b82258",
   "metadata": {},
   "outputs": [
    {
     "name": "stdout",
     "output_type": "stream",
     "text": [
      "[[0.0, 0.0], [1.0, 0.0], [2.0, 0.0], [1.0, 0.0], [2.0, 0.0], [1.0, 0.0], [0.0, 0.0], [1.0, 0.0], [0.0, 0.0], [1.0, 0.0], [0.0, 0.0]]\n"
     ]
    },
    {
     "data": {
      "text/plain": [
       "True"
      ]
     },
     "execution_count": 39,
     "metadata": {},
     "output_type": "execute_result"
    }
   ],
   "source": [
    "isBalanced(\"(()())()()\")"
   ]
  },
  {
   "cell_type": "code",
   "execution_count": 40,
   "id": "7731fc69",
   "metadata": {},
   "outputs": [
    {
     "name": "stdout",
     "output_type": "stream",
     "text": [
      "[[0.0, 0.0], [1.0, 0.0], [2.0, 0.0], [1.0, 0.0], [2.0, 0.0], [3.0, 0.0], [2.0, 0.0], [1.0, 0.0], [2.0, 0.0], [1.0, 0.0], [2.0, 0.0], [1.0, 0.0], [0.0, 0.0]]\n"
     ]
    },
    {
     "data": {
      "text/plain": [
       "True"
      ]
     },
     "execution_count": 40,
     "metadata": {},
     "output_type": "execute_result"
    }
   ],
   "source": [
    "isBalanced(\"(()(())()())\")"
   ]
  },
  {
   "cell_type": "code",
   "execution_count": 41,
   "id": "a3e46619",
   "metadata": {},
   "outputs": [
    {
     "name": "stdout",
     "output_type": "stream",
     "text": [
      "[[0.0, 0.0], [1.0, 0.0]]\n"
     ]
    },
    {
     "data": {
      "text/plain": [
       "False"
      ]
     },
     "execution_count": 41,
     "metadata": {},
     "output_type": "execute_result"
    }
   ],
   "source": [
    "isBalanced(\"(\")"
   ]
  },
  {
   "cell_type": "code",
   "execution_count": 42,
   "id": "ddce231b",
   "metadata": {},
   "outputs": [
    {
     "name": "stdout",
     "output_type": "stream",
     "text": [
      "[[0.0, 0.0], [-1.0, -1.0]]\n"
     ]
    },
    {
     "data": {
      "text/plain": [
       "False"
      ]
     },
     "execution_count": 42,
     "metadata": {},
     "output_type": "execute_result"
    }
   ],
   "source": [
    "isBalanced(\")\")"
   ]
  },
  {
   "cell_type": "code",
   "execution_count": 43,
   "id": "64a11b21",
   "metadata": {},
   "outputs": [
    {
     "name": "stdout",
     "output_type": "stream",
     "text": [
      "[[0.0, 0.0], [1.0, 0.0], [2.0, 0.0], [1.0, 0.0]]\n"
     ]
    },
    {
     "data": {
      "text/plain": [
       "False"
      ]
     },
     "execution_count": 43,
     "metadata": {},
     "output_type": "execute_result"
    }
   ],
   "source": [
    "isBalanced(\"(()\")"
   ]
  },
  {
   "cell_type": "code",
   "execution_count": 44,
   "id": "9f6b94ae",
   "metadata": {},
   "outputs": [
    {
     "name": "stdout",
     "output_type": "stream",
     "text": [
      "[[0.0, 0.0], [1.0, 0.0], [0.0, 0.0], [1.0, 0.0], [0.0, 0.0], [1.0, 0.0], [2.0, 0.0], [1.0, 0.0], [0.0, 0.0], [1.0, 0.0], [0.0, 0.0], [-1.0, -1.0], [0.0, -1.0]]\n"
     ]
    },
    {
     "data": {
      "text/plain": [
       "False"
      ]
     },
     "execution_count": 44,
     "metadata": {},
     "output_type": "execute_result"
    }
   ],
   "source": [
    "isBalanced(\"()()(())())(\")"
   ]
  },
  {
   "cell_type": "code",
   "execution_count": 45,
   "id": "02db9be0",
   "metadata": {},
   "outputs": [
    {
     "name": "stdout",
     "output_type": "stream",
     "text": [
      "[[0.0, 0.0], [-1.0, -1.0], [0.0, -1.0]]\n"
     ]
    },
    {
     "data": {
      "text/plain": [
       "False"
      ]
     },
     "execution_count": 45,
     "metadata": {},
     "output_type": "execute_result"
    }
   ],
   "source": [
    "isBalanced(\")(\")"
   ]
  },
  {
   "cell_type": "code",
   "execution_count": 47,
   "id": "d75d79a3",
   "metadata": {},
   "outputs": [
    {
     "name": "stdout",
     "output_type": "stream",
     "text": [
      "[[0.0, 0.0], [1.0, 0.0], [0.0, 0.0], [1.0, 0.0], [2.0, 0.0], [3.0, 0.0], [2.0, 0.0], [1.0, 0.0], [2.0, 0.0], [3.0, 0.0], [2.0, 0.0], [3.0, 0.0], [4.0, 0.0], [5.0, 0.0], [4.0, 0.0], [5.0, 0.0], [4.0, 0.0], [3.0, 0.0], [4.0, 0.0], [3.0, 0.0], [2.0, 0.0], [3.0, 0.0], [4.0, 0.0], [3.0, 0.0], [2.0, 0.0], [3.0, 0.0], [4.0, 0.0], [5.0, 0.0], [6.0, 0.0], [5.0, 0.0], [6.0, 0.0], [5.0, 0.0], [6.0, 0.0], [5.0, 0.0], [4.0, 0.0], [5.0, 0.0], [4.0, 0.0], [3.0, 0.0], [4.0, 0.0], [3.0, 0.0], [2.0, 0.0], [1.0, 0.0], [0.0, 0.0], [-1.0, -1.0], [-2.0, -3.0]]\n"
     ]
    },
    {
     "data": {
      "text/plain": [
       "False"
      ]
     },
     "execution_count": 47,
     "metadata": {},
     "output_type": "execute_result"
    }
   ],
   "source": [
    "isBalanced(\"()((())(()((()())())(())(((()()())())())))))\")"
   ]
  },
  {
   "cell_type": "code",
   "execution_count": null,
   "id": "7816f580",
   "metadata": {},
   "outputs": [],
   "source": []
  },
  {
   "cell_type": "code",
   "execution_count": null,
   "id": "8365fda0",
   "metadata": {},
   "outputs": [],
   "source": []
  },
  {
   "cell_type": "code",
   "execution_count": null,
   "id": "a1625285",
   "metadata": {},
   "outputs": [],
   "source": []
  }
 ],
 "metadata": {
  "kernelspec": {
   "display_name": "Python 3 (ipykernel)",
   "language": "python",
   "name": "python3"
  },
  "language_info": {
   "codemirror_mode": {
    "name": "ipython",
    "version": 3
   },
   "file_extension": ".py",
   "mimetype": "text/x-python",
   "name": "python",
   "nbconvert_exporter": "python",
   "pygments_lexer": "ipython3",
   "version": "3.7.10"
  }
 },
 "nbformat": 4,
 "nbformat_minor": 5
}

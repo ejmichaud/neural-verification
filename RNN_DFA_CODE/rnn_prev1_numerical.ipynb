{
 "cells": [
  {
   "cell_type": "code",
   "execution_count": 1,
   "id": "3689f572",
   "metadata": {
    "scrolled": true
   },
   "outputs": [
    {
     "data": {
      "text/plain": [
       "<All keys matched successfully>"
      ]
     },
     "execution_count": 1,
     "metadata": {},
     "output_type": "execute_result"
    }
   ],
   "source": [
    "import numpy as np\n",
    "import torch\n",
    "import os\n",
    "from neural_verification import *\n",
    "import matplotlib.pyplot as plt\n",
    "import itertools\n",
    "import copy\n",
    "\n",
    "# This GeneralRNN has been defined in neural_verification, but I modified it:\n",
    "# (1) comment out some assertions which throw out errors but aren't really errors?\n",
    "# (2) Not only return hidden (last hidden states), but also hidden2 (second-to-last hidden states)\n",
    "@dataclass\n",
    "class GeneralRNNConfig:\n",
    "    input_dim: int = 2\n",
    "    output_dim: int = 1\n",
    "    hidden_dim: int = 40\n",
    "    hidden_mlp_depth: int = 2 # this would be 1 hidden layer\n",
    "    hidden_mlp_width: int = 100\n",
    "    output_mlp_depth: int = 2 # this would be 1 hidden layer\n",
    "    output_mlp_width: int = 100\n",
    "    activation: type = nn.SiLU\n",
    "\n",
    "class GeneralRNN(nn.Module):\n",
    "    def __init__(self, config, device='cpu'):\n",
    "        super().__init__()\n",
    "        self.config = config\n",
    "        self.hidden_dim = config.hidden_dim\n",
    "        hmlp_config = MLPConfig(\n",
    "            config.hidden_dim + config.input_dim, \n",
    "            config.hidden_dim, \n",
    "            config.hidden_mlp_width, \n",
    "            config.hidden_mlp_depth, \n",
    "            config.activation\n",
    "        )\n",
    "        self.hmlp = MLP(hmlp_config).to(device)\n",
    "        ymlp_config = MLPConfig(\n",
    "            config.hidden_dim, \n",
    "            config.output_dim, \n",
    "            config.output_mlp_width, \n",
    "            config.output_mlp_depth, \n",
    "            config.activation\n",
    "        )\n",
    "        self.ymlp = MLP(ymlp_config).to(device)\n",
    "        self.device = device\n",
    "\n",
    "    def forward(self, x, h=None):\n",
    "        \"\"\"The transition is given by:\n",
    "            h_t = f([h_{t-1}, x_t])\n",
    "            y_t = g(h_t)\n",
    "        where f and g are MLPs.\n",
    "\n",
    "        This function takes in the input and the hidden state and \n",
    "        returns an output and a hidden state.\n",
    "        \"\"\"\n",
    "        # x shape: (batch_size, input_dim)\n",
    "        # h shape: (batch_size, hidden_dim)\n",
    "        if h is None:\n",
    "            h = torch.zeros(x.size(0), self.hidden_dim).to(self.device)\n",
    "        else:\n",
    "            assert h.size(0) == x.size(0)\n",
    "            assert h.size(1) == self.hidden_dim\n",
    "            #assert h.device == self.device\n",
    "        assert x.size(1) == self.config.input_dim\n",
    "        #assert x.device == self.device\n",
    "        hx = torch.cat((h, x), dim=1)\n",
    "        h = self.hmlp(hx)\n",
    "        y = self.ymlp(h)\n",
    "        return y, h\n",
    "    \n",
    "    def forward_sequence(self, x):\n",
    "        \"\"\"This function takes in a sequence of inputs and returns a sequence of outputs\n",
    "        as well as the final hidden state.\"\"\"\n",
    "        # x shape: (batch_size, sequence_length, input_dim)\n",
    "        batch_size = x.size(0)\n",
    "        seq_length = x.size(1)\n",
    "        hidden = torch.zeros(batch_size, self.hidden_dim).to(self.device)\n",
    "        assert x.size(2) == self.config.input_dim\n",
    "        #assert x.device == self.device\n",
    "        outs = []\n",
    "        for i in range(seq_length):\n",
    "            out, hidden = self.forward(x[:,i,:], hidden)\n",
    "            if i == seq_length-2:\n",
    "                hidden2 = hidden.clone()\n",
    "            outs.append(out)\n",
    "        # out shape: (batch_size, sequence_length, output_dim)\n",
    "        return torch.stack(outs).permute(1,0,2), hidden, hidden2\n",
    "\n",
    "seed = 0\n",
    "np.random.seed(seed)\n",
    "torch.manual_seed(seed)\n",
    "\n",
    "data = torch.load(\"../tasks/rnn_prev1_numerical/data.pt\")\n",
    "\n",
    "config = torch.load(\"./rnn_models/rnn_prev1_numerical/model_config.pt\", map_location=torch.device('cpu'))\n",
    "model = GeneralRNN(config)\n",
    "model.load_state_dict(torch.load(\"./rnn_models/rnn_prev1_numerical/model_perfect.pt\",map_location=torch.device('cpu')))"
   ]
  },
  {
   "cell_type": "code",
   "execution_count": 2,
   "id": "d9fe7775",
   "metadata": {},
   "outputs": [],
   "source": [
    "hidden = model.forward_sequence(data[0].unsqueeze(dim=2))[1].cpu().detach().numpy()\n",
    "hidden_last = model.forward_sequence(data[0].unsqueeze(dim=2))[2].cpu().detach().numpy()\n",
    "D = hidden.shape[1]\n",
    "thres = 1e-1"
   ]
  },
  {
   "cell_type": "code",
   "execution_count": 3,
   "id": "c1da1861",
   "metadata": {},
   "outputs": [],
   "source": [
    "# plt.figure(figsize=(10,10))\n",
    "# plt.scatter(hidden[:,0], hidden[:,1], s=0.01)\n",
    "# plt.plot([-120,-90],[-10,-40], color=\"red\", ls=\"--\")"
   ]
  },
  {
   "cell_type": "code",
   "execution_count": 4,
   "id": "f2444c76",
   "metadata": {},
   "outputs": [
    {
     "data": {
      "text/plain": [
       "(900000, 2)"
      ]
     },
     "execution_count": 4,
     "metadata": {},
     "output_type": "execute_result"
    }
   ],
   "source": [
    "hidden.shape"
   ]
  },
  {
   "cell_type": "code",
   "execution_count": 5,
   "id": "18e17382-b4bd-41ef-a273-a49a06c98ba8",
   "metadata": {},
   "outputs": [],
   "source": [
    "def subset(arr, criterion=None, batch_size = 32):\n",
    "    '''if arr contains too many samples, computation can be expensive.\n",
    "    Choosing a subset of samples if usually enough for lattice detection.'''\n",
    "    if criterion != None:\n",
    "        arr = arr[np.where(criterion(arr))[0]]\n",
    "    batch_id = np.random.choice(arr.shape[0], batch_size)\n",
    "    arr = arr[batch_id]\n",
    "    return arr \n",
    "\n",
    "def check_integer_arr(arr):\n",
    "    non_integer = np.abs(arr - np.round(arr)) > thres\n",
    "    all_integer = np.sum(non_integer) == 0\n",
    "    return all_integer\n",
    "\n",
    "\n",
    "def get_vol_arr(x):\n",
    "    '''Given n points in R^D, return all possible volumes of D+1 points'''\n",
    "    num = x.shape[0]\n",
    "    groups = np.array(list(itertools.combinations(x, D+1)))\n",
    "    groups = groups[:,1:,:] - groups[:,[0],:]\n",
    "    vols = np.abs(np.linalg.det(np.array(groups)))\n",
    "    return np.array(vols)\n",
    "\n",
    "\n",
    "def GCD_2num_v(a, b, va, vb):\n",
    "    while True:\n",
    "        temp = a\n",
    "        a = b\n",
    "        b = temp\n",
    "\n",
    "        temp = va\n",
    "        va = vb\n",
    "        vb = temp\n",
    "        \n",
    "        proj = np.round(a/b)\n",
    "        a = a - proj * b\n",
    "        va = va - proj * vb\n",
    "        if np.abs(a) < thres:\n",
    "            break\n",
    "    return np.abs(b), vb\n",
    "\n",
    "def GCD_arr(arr):\n",
    "    arr = copy.deepcopy(arr)\n",
    "    vol_arr = get_vol_arr(arr)\n",
    "    while True:\n",
    "        va = arr[[0]]; vb = arr[[1]]; v3 = arr[2:D+1]\n",
    "        a = np.linalg.det(np.concatenate([va, v3], axis=0))\n",
    "        b = np.linalg.det(np.concatenate([vb, v3], axis=0))\n",
    "        \n",
    "        if b == 0 or a == 0:\n",
    "            if b == 0:\n",
    "                arr = np.delete(arr, 1, 0)\n",
    "            if a == 0:\n",
    "                arr = np.delete(arr, 0, 0)\n",
    "            continue\n",
    "        gcd, vbp = GCD_2num_v(a, b, va, vb)\n",
    "        flag = check_integer_arr(vol_arr/gcd)\n",
    "        if flag == True:\n",
    "            break\n",
    "        else:\n",
    "            arr = arr[1:]\n",
    "            arr[0] = vbp\n",
    "    return np.concatenate([vbp, v3], axis=0)\n",
    "\n",
    "def normalize_basis(basis):\n",
    "    basis = copy.deepcopy(basis)\n",
    "    ii = 0\n",
    "    while True and ii < 5:\n",
    "        projs = []\n",
    "        for i in range(D):\n",
    "            proj = np.round(np.sum(basis*basis[[i]],axis=1)/np.linalg.norm(basis[i])**2)\n",
    "            proj[i] = 0\n",
    "            basis -= proj[:,np.newaxis] * basis[[i]]\n",
    "            projs.append(proj)\n",
    "        projs = np.array(projs)\n",
    "        if np.sum(np.abs(projs)) == 0:\n",
    "            break\n",
    "        ii += 1\n",
    "    basis *= (-1)**(np.sum(basis, axis=1)<0)[:,np.newaxis]\n",
    "    return basis\n",
    "    "
   ]
  },
  {
   "cell_type": "code",
   "execution_count": 7,
   "id": "63586db4-21b8-44e7-aae2-375518477a0c",
   "metadata": {},
   "outputs": [],
   "source": [
    "import numpy as np\n",
    "\n",
    "def sample_nearby_points(points, batch_number=32):\n",
    "    \"\"\"\n",
    "    Selects a subset of points that are closest to a randomly chosen point.\n",
    "    \n",
    "    :param points: A (N, M) numpy array where N is the number of points and M is the dimensions of each point.\n",
    "    :param batch_number: The number of closest points to select.\n",
    "    :return: A subset of points that are closest to the chosen point.\n",
    "    \"\"\"\n",
    "\n",
    "    # Determine the bounds for each dimension\n",
    "    min_bounds = np.min(points, axis=0)\n",
    "    max_bounds = np.max(points, axis=0)\n",
    "\n",
    "    # Choose a random point within these bounds\n",
    "    center_point = (max_bounds + min_bounds) / 2.0\n",
    "\n",
    "    # Calculate distances from the random point to all points\n",
    "    distances = np.linalg.norm(points - center_point, axis=1)\n",
    "\n",
    "    # Get indices of points with the smallest distances\n",
    "    nearest_indices = np.argsort(distances)[:batch_number]\n",
    "\n",
    "    # Select points with the smallest distances\n",
    "    nearby_points = points[nearest_indices]\n",
    "\n",
    "    return nearby_points\n",
    "\n"
   ]
  },
  {
   "cell_type": "code",
   "execution_count": 20,
   "id": "11753b4a-5bc3-41e1-bb27-9686b3ede392",
   "metadata": {},
   "outputs": [
    {
     "data": {
      "text/plain": [
       "array([[-63.98618 ,  45.21227 ],\n",
       "       [-63.98621 ,  45.212337],\n",
       "       [-63.986214,  45.212334],\n",
       "       [-62.707855,  44.314613],\n",
       "       [-62.707844,  44.314613],\n",
       "       [-62.70784 ,  44.314606],\n",
       "       [-63.986237,  45.21237 ],\n",
       "       [-62.707848,  44.314564],\n",
       "       [-62.707817,  44.31458 ],\n",
       "       [-63.986225,  45.212437],\n",
       "       [-63.98621 ,  45.2125  ],\n",
       "       [-62.707844,  44.31446 ],\n",
       "       [-63.986225,  45.21253 ],\n",
       "       [-63.986294,  45.21244 ],\n",
       "       [-63.98622 ,  45.212547],\n",
       "       [-63.98626 ,  45.212498],\n",
       "       [-62.707787,  44.31448 ],\n",
       "       [-63.98625 ,  45.21254 ],\n",
       "       [-62.70778 ,  44.314472],\n",
       "       [-63.98622 ,  45.21261 ],\n",
       "       [-63.986282,  45.212532],\n",
       "       [-62.707783,  44.314445],\n",
       "       [-62.70778 ,  44.31443 ],\n",
       "       [-63.98629 ,  45.212555],\n",
       "       [-63.98626 ,  45.21261 ],\n",
       "       [-63.986267,  45.21261 ],\n",
       "       [-62.707733,  44.314457],\n",
       "       [-63.986244,  45.21266 ],\n",
       "       [-63.98625 ,  45.212658],\n",
       "       [-63.986343,  45.212543],\n",
       "       [-62.7078  ,  44.314316],\n",
       "       [-63.986286,  45.21264 ]], dtype=float32)"
      ]
     },
     "execution_count": 20,
     "metadata": {},
     "output_type": "execute_result"
    }
   ],
   "source": [
    "points"
   ]
  },
  {
   "cell_type": "code",
   "execution_count": 18,
   "id": "4626c2fe-ad29-4d21-82c2-2da2889a785f",
   "metadata": {},
   "outputs": [
    {
     "data": {
      "image/png": "[encoded data removed]",
      "text/plain": [
       "<Figure size 640x480 with 1 Axes>"
      ]
     },
     "metadata": {},
     "output_type": "display_data"
    }
   ],
   "source": [
    "points = sample_nearby_points(hidden, 32)\n",
    "x = points[:, 0]\n",
    "y = points[:, 1]\n",
    "\n",
    "# Plotting\n",
    "plt.scatter(x, y)\n",
    "plt.title(\"Scatter Plot of Given Points\")\n",
    "plt.xlabel(\"X Coordinate\")\n",
    "plt.ylabel(\"Y Coordinate\")\n",
    "plt.grid(True)\n",
    "plt.show()"
   ]
  },
  {
   "cell_type": "code",
   "execution_count": 106,
   "id": "813c99e7-9de8-43a4-9b42-21eeda3db4f6",
   "metadata": {},
   "outputs": [],
   "source": [
    "hidden_batch = subset(hidden, criterion=lambda x: x[:,0] + x[:,1] < -130)\n",
    "shift = copy.deepcopy(hidden_batch[[np.argmin(np.sum(hidden_batch, axis=1))]])\n",
    "hidden_batch_shift = hidden_batch - shift\n",
    "\n",
    "basis_comp = GCD_arr(hidden_batch_shift)\n",
    "basis_comp = normalize_basis(basis_comp)"
   ]
  },
  {
   "cell_type": "code",
   "execution_count": 107,
   "id": "680cae38",
   "metadata": {},
   "outputs": [
    {
     "data": {
      "image/png": "[encoded data removed]",
      "text/plain": [
       "<Figure size 1000x1000 with 1 Axes>"
      ]
     },
     "metadata": {},
     "output_type": "display_data"
    }
   ],
   "source": [
    "plt.figure(figsize=(10,10))\n",
    "plt.scatter(hidden[:,0], hidden[:,1], s=50)\n",
    "plt.xlim(-60,-50)\n",
    "plt.ylim(50,60)\n",
    "\n",
    "for i in range(2):\n",
    "    plt.arrow(-58.5,51,basis_comp[i][0], basis_comp[i][1], color=\"red\", head_width=0.1)"
   ]
  },
  {
   "cell_type": "code",
   "execution_count": 108,
   "id": "8e77a961",
   "metadata": {},
   "outputs": [],
   "source": [
    "h_int_lattice = np.matmul(hidden - shift, np.linalg.inv(basis_comp))\n",
    "h_last_int_lattice = np.matmul(hidden_last - shift, np.linalg.inv(basis_comp))\n",
    "input_lattice = data[0][:,-1].detach().numpy()\n",
    "output_lattice = data[1][:,-1].detach().numpy()"
   ]
  },
  {
   "cell_type": "code",
   "execution_count": 109,
   "id": "d2ff3e93",
   "metadata": {},
   "outputs": [
    {
     "data": {
      "text/plain": [
       "0.9999999950670329"
      ]
     },
     "execution_count": 109,
     "metadata": {},
     "output_type": "execute_result"
    }
   ],
   "source": [
    "# (h, x) => h\n",
    "# (h_last_lattice, input_lattice) => h_lattice\n",
    "\n",
    "hx = np.concatenate([np.round(h_last_int_lattice), np.round(input_lattice)[:,np.newaxis]], axis=1)\n",
    "h_next = np.round(h_int_lattice)\n",
    "\n",
    "from sklearn.linear_model import LinearRegression\n",
    "reg = LinearRegression().fit(hx, h_next)\n",
    "reg.score(hx, h_next)"
   ]
  },
  {
   "cell_type": "code",
   "execution_count": 110,
   "id": "3228691f",
   "metadata": {},
   "outputs": [
    {
     "data": {
      "text/plain": [
       "(array([[-1.7805672e-08, -7.2331900e-08, -9.9998814e-01],\n",
       "        [-1.0000402e+00, -7.7629494e-09, -3.8038458e-08]], dtype=float32),\n",
       " array([98.99817, 98.99971], dtype=float32))"
      ]
     },
     "execution_count": 110,
     "metadata": {},
     "output_type": "execute_result"
    }
   ],
   "source": [
    "reg.coef_, reg.intercept_"
   ]
  },
  {
   "cell_type": "markdown",
   "id": "e77c93a7",
   "metadata": {},
   "source": [
    "$h^{(1)}_t = - x_t + 99$"
   ]
  },
  {
   "cell_type": "markdown",
   "id": "cf996626",
   "metadata": {},
   "source": [
    "$h^{(2)}_t = - h^{(1)}_{t-1} + 99$"
   ]
  },
  {
   "cell_type": "code",
   "execution_count": null,
   "id": "bff4bada",
   "metadata": {},
   "outputs": [],
   "source": [
    "# h => y\n",
    "# h_lattice => output_lattice\n",
    "\n",
    "from sklearn.linear_model import LinearRegression\n",
    "reg = LinearRegression().fit(np.round(h_int_lattice), output_lattice)\n",
    "reg.score(np.round(h_int_lattice), output_lattice)"
   ]
  },
  {
   "cell_type": "code",
   "execution_count": null,
   "id": "c2f84199",
   "metadata": {},
   "outputs": [],
   "source": [
    "reg.coef_, reg.intercept_"
   ]
  },
  {
   "cell_type": "markdown",
   "id": "382c01e4",
   "metadata": {},
   "source": [
    "$y_t = - h_t^{(1)} + 99$"
   ]
  },
  {
   "cell_type": "code",
   "execution_count": null,
   "id": "30cf9577",
   "metadata": {},
   "outputs": [],
   "source": []
  }
 ],
 "metadata": {
  "kernelspec": {
   "display_name": "Python 3 (ipykernel)",
   "language": "python",
   "name": "python3"
  },
  "language_info": {
   "codemirror_mode": {
    "name": "ipython",
    "version": 3
   },
   "file_extension": ".py",
   "mimetype": "text/x-python",
   "name": "python",
   "nbconvert_exporter": "python",
   "pygments_lexer": "ipython3",
   "version": "3.8.15"
  }
 },
 "nbformat": 4,
 "nbformat_minor": 5
}

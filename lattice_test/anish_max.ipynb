{
 "cells": [
  {
   "cell_type": "code",
   "execution_count": 15,
   "id": "05f14a48",
   "metadata": {},
   "outputs": [],
   "source": [
    "import numpy as np\n",
    "import torch\n",
    "import os\n",
    "from neural_verification import *\n",
    "import matplotlib.pyplot as plt\n",
    "import itertools\n",
    "import copy\n",
    "\n",
    "seed = 0\n",
    "np.random.seed(seed)\n",
    "torch.manual_seed(seed)\n",
    "\n",
    "D = 2\n",
    "thres = 0.1\n",
    "error_tol = 0.1\n",
    "\n",
    "def check_integer_arr(arr):\n",
    "    non_integer = np.abs(arr - np.round(arr)) > thres\n",
    "    all_integer = np.sum(non_integer) < error_tol * arr.shape[0]\n",
    "    #print(np.sum(non_integer), arr.shape[0])\n",
    "    return all_integer\n",
    "\n",
    "'''def get_vol_p(x):\n",
    "    assert data_points.shape[0] == D+1 and data_points.shape[1] == D\n",
    "    dx = copy.deepcopy(x)\n",
    "    dx = dx[:,[0]]\n",
    "    area = np.abs(np.linalg.det(np.array(dx[:,1:])))\n",
    "    return vol'''\n",
    "\n",
    "def get_vol_arr(x):\n",
    "    num = x.shape[0]\n",
    "    areas = []\n",
    "    groups = list(itertools.combinations(x, D))\n",
    "    vols = np.abs(np.linalg.det(np.array(groups)))\n",
    "    return np.array(vols)\n",
    "\n",
    "def set_arr(arr):\n",
    "    arr = np.sort(arr)\n",
    "    length = arr.shape[0]\n",
    "    sets = []\n",
    "    for i in range(length):\n",
    "        set_num = len(sets)\n",
    "        if set_num == 0:\n",
    "            sets.append(arr[i])\n",
    "        else:\n",
    "            if np.abs(arr[i] - sets[-1]) > thres:\n",
    "                sets.append(arr[i])\n",
    "    return np.array(sets)\n",
    "\n",
    "def normalize(arr):\n",
    "    arr = np.sort(arr.reshape(-1,))\n",
    "    arr = arr[np.where(arr > thres)]\n",
    "    arr = set_arr(arr)\n",
    "    return arr\n",
    "\n",
    "def GCD_2num_v(a, b, va, vb):\n",
    "    while True:\n",
    "        temp = a\n",
    "        a = b\n",
    "        b = temp\n",
    "\n",
    "        temp = va\n",
    "        va = vb\n",
    "        vb = temp\n",
    "        \n",
    "        proj = np.round(a/b)\n",
    "        a = a - proj * b\n",
    "        va = va - proj * vb\n",
    "        if np.abs(a) < thres:\n",
    "            break\n",
    "    return np.abs(b), vb\n",
    "\n",
    "def GCD_arr(arr):\n",
    "    while True:\n",
    "        va = arr[[0]]; vb = arr[[1]]; v3 = arr[2:D+1]\n",
    "        a = np.linalg.det(np.concatenate([va, v3], axis=0))\n",
    "        b = np.linalg.det(np.concatenate([vb, v3], axis=0))\n",
    "        \n",
    "        if b == 0 or a == 0:\n",
    "            if b == 0:\n",
    "                arr = np.delete(arr, 1, 0)\n",
    "            if a == 0:\n",
    "                arr = np.delete(arr, 0, 0)\n",
    "            continue\n",
    "        gcd, vbp = GCD_2num_v(a, b, va, vb)\n",
    "        flag = check_integer_arr(vol_arr/gcd)\n",
    "        if flag == True:\n",
    "            break\n",
    "        else:\n",
    "            arr = arr[1:]\n",
    "            arr[0] = vbp\n",
    "    return np.concatenate([vbp, v3], axis=0)\n",
    "\n",
    "def normalize_basis(basis):\n",
    "    basis = copy.deepcopy(basis)\n",
    "    ii = 0\n",
    "    while True and ii < 5:\n",
    "        projs = []\n",
    "        for i in range(D):\n",
    "            proj = np.round(np.sum(basis*basis[[i]],axis=1)/np.linalg.norm(basis[i])**2)\n",
    "            proj[i] = 0\n",
    "            basis -= proj[:,np.newaxis] * basis[[i]]\n",
    "            projs.append(proj)\n",
    "        projs = np.array(projs)\n",
    "        if np.sum(np.abs(projs)) == 0:\n",
    "            break\n",
    "        ii += 1\n",
    "    basis *= (-1)**(np.sum(basis, axis=1)<0)[:,np.newaxis]\n",
    "    return basis\n",
    "\n",
    "def GCD_arr_1D(arr):\n",
    "    while True:\n",
    "        a = arr[0]\n",
    "        b = arr[1]\n",
    "        gcd = GCD_2num(a, b)\n",
    "        arr_div_gcd = arr/gcd\n",
    "        flag = check_integer_arr(arr_div_gcd)\n",
    "        if flag == True:\n",
    "            break\n",
    "        else:\n",
    "            arr = np.delete(arr, 0)\n",
    "            arr = np.delete(arr, 0)\n",
    "            np.insert(arr,0,gcd)\n",
    "    return gcd\n",
    "\n",
    "def GCD_arr(arr):\n",
    "    while True:\n",
    "        va = arr[[0]]; vb = arr[[1]]; v3 = arr[2:D+1]\n",
    "        a = np.linalg.det(np.concatenate([va, v3], axis=0))\n",
    "        b = np.linalg.det(np.concatenate([vb, v3], axis=0))\n",
    "        \n",
    "        if b == 0 or a == 0:\n",
    "            if b == 0:\n",
    "                arr = np.delete(arr, 1, 0)\n",
    "            if a == 0:\n",
    "                arr = np.delete(arr, 0, 0)\n",
    "            continue\n",
    "        gcd, vbp = GCD_2num_v(a, b, va, vb)\n",
    "        flag = check_integer_arr(vol_arr/gcd)\n",
    "        if flag == True:\n",
    "            break\n",
    "        else:\n",
    "            arr = arr[1:]\n",
    "            arr[0] = vbp\n",
    "    return np.concatenate([vbp, v3], axis=0)\n",
    "\n",
    "\n",
    "def GCD_2num(a, b):\n",
    "    while True:\n",
    "        if np.abs(a) < np.abs(b):\n",
    "            temp = a\n",
    "            a = b\n",
    "            b = temp\n",
    "        a = a - np.floor(a/b) * b\n",
    "        if np.abs(a) < thres:\n",
    "            break\n",
    "    return np.abs(b)\n",
    "\n",
    "arr = [[0.0, 0.0], [6.9964, 0.0064952], [5.24796824136, 16.068301091439995], [1.746496957220275, 28.115834943616537], [12.240807006324614, 32.13839586269249], [0.0, 60.21363729714298], [0.0, 60.20044460595384], [0.0, 60.18887967257206], [15.754105126660356, 60.20979420867029], [0.0, 96.34134284147919], [0.0, 96.33679743862675], [0.0, 96.31439159939517], [14.007019580143535, 96.33745888191535], [0.0, 128.47940866305805], [0.0, 128.46035044045914], [6.997425313091959, 128.48026913532698], [6.991220137302619, 144.55947046535064], [0.0, 160.559532141197], [0.0, 160.51461188155466], [0.0, 160.5297856979902], [1.7702723713856727, 160.54820256228084], [1.7419609084142706, 164.62941954870806], [0.0, 168.64283904283664], [0.0, 168.6588219911238], [0.0, 168.67480014452647], [0.0, 168.69077350448313], [0.0, 168.7067420724318], [0.0, 168.7227058498101], [0.0, 168.73866483805517], [0.0, 168.75461903860378], [0.0, 168.7705684528922], [0.0, 168.78651308235635], [0.0, 168.80245292843165]]"
   ]
  },
  {
   "cell_type": "code",
   "execution_count": 16,
   "id": "1654d1b6",
   "metadata": {},
   "outputs": [],
   "source": [
    "arr = np.array(arr)\n",
    "#arr = arr[np.where(arr[:,0] + arr[:,1] < 83)[0]]"
   ]
  },
  {
   "cell_type": "code",
   "execution_count": 17,
   "id": "54705a54",
   "metadata": {},
   "outputs": [
    {
     "data": {
      "text/plain": [
       "0.2514950270378904"
      ]
     },
     "execution_count": 17,
     "metadata": {},
     "output_type": "execute_result"
    }
   ],
   "source": [
    "x = arr\n",
    "vol_arr = normalize(get_vol_arr(x))\n",
    "GCD_arr_1D(vol_arr[:])"
   ]
  },
  {
   "cell_type": "code",
   "execution_count": 18,
   "id": "1af5e8f0",
   "metadata": {},
   "outputs": [
    {
     "data": {
      "text/plain": [
       "<matplotlib.collections.PathCollection at 0x7fdb180b5ca0>"
      ]
     },
     "execution_count": 18,
     "metadata": {},
     "output_type": "execute_result"
    },
    {
     "data": {
      "image/png": "[encoded data removed]",
      "text/plain": [
       "<Figure size 640x480 with 1 Axes>"
      ]
     },
     "metadata": {},
     "output_type": "display_data"
    }
   ],
   "source": [
    "plt.scatter(arr[:,0], arr[:,1])"
   ]
  },
  {
   "cell_type": "code",
   "execution_count": 11,
   "id": "5c01ab9a",
   "metadata": {},
   "outputs": [
    {
     "name": "stdout",
     "output_type": "stream",
     "text": [
      "143 175\n",
      "139 175\n",
      "144 175\n",
      "141 175\n",
      "140 175\n",
      "139 175\n",
      "138 175\n",
      "143 175\n",
      "142 175\n",
      "142 175\n",
      "143 175\n",
      "140 175\n",
      "152 175\n"
     ]
    },
    {
     "ename": "LinAlgError",
     "evalue": "Last 2 dimensions of the array must be square",
     "output_type": "error",
     "traceback": [
      "\u001b[0;31m---------------------------------------------------------------------------\u001b[0m",
      "\u001b[0;31mLinAlgError\u001b[0m                               Traceback (most recent call last)",
      "\u001b[0;32m/var/folders/6j/b6y80djd4nb5hl73rv3sv8y80000gn/T/ipykernel_88540/729635783.py\u001b[0m in \u001b[0;36m<module>\u001b[0;34m\u001b[0m\n\u001b[1;32m      1\u001b[0m \u001b[0;32mimport\u001b[0m \u001b[0mcopy\u001b[0m\u001b[0;34m\u001b[0m\u001b[0;34m\u001b[0m\u001b[0m\n\u001b[1;32m      2\u001b[0m \u001b[0;34m\u001b[0m\u001b[0m\n\u001b[0;32m----> 3\u001b[0;31m \u001b[0mbasis_comp\u001b[0m \u001b[0;34m=\u001b[0m \u001b[0mGCD_arr\u001b[0m\u001b[0;34m(\u001b[0m\u001b[0mcopy\u001b[0m\u001b[0;34m.\u001b[0m\u001b[0mdeepcopy\u001b[0m\u001b[0;34m(\u001b[0m\u001b[0mx\u001b[0m\u001b[0;34m)\u001b[0m\u001b[0;34m)\u001b[0m\u001b[0;34m\u001b[0m\u001b[0;34m\u001b[0m\u001b[0m\n\u001b[0m\u001b[1;32m      4\u001b[0m \u001b[0mbasis_comp\u001b[0m\u001b[0;34m\u001b[0m\u001b[0;34m\u001b[0m\u001b[0m\n\u001b[1;32m      5\u001b[0m \u001b[0mbasis_comp\u001b[0m \u001b[0;34m=\u001b[0m \u001b[0mnormalize_basis\u001b[0m\u001b[0;34m(\u001b[0m\u001b[0mbasis_comp\u001b[0m\u001b[0;34m)\u001b[0m\u001b[0;34m\u001b[0m\u001b[0;34m\u001b[0m\u001b[0m\n",
      "\u001b[0;32m/var/folders/6j/b6y80djd4nb5hl73rv3sv8y80000gn/T/ipykernel_88540/2210319107.py\u001b[0m in \u001b[0;36mGCD_arr\u001b[0;34m(arr)\u001b[0m\n\u001b[1;32m    127\u001b[0m     \u001b[0;32mwhile\u001b[0m \u001b[0;32mTrue\u001b[0m\u001b[0;34m:\u001b[0m\u001b[0;34m\u001b[0m\u001b[0;34m\u001b[0m\u001b[0m\n\u001b[1;32m    128\u001b[0m         \u001b[0mva\u001b[0m \u001b[0;34m=\u001b[0m \u001b[0marr\u001b[0m\u001b[0;34m[\u001b[0m\u001b[0;34m[\u001b[0m\u001b[0;36m0\u001b[0m\u001b[0;34m]\u001b[0m\u001b[0;34m]\u001b[0m\u001b[0;34m;\u001b[0m \u001b[0mvb\u001b[0m \u001b[0;34m=\u001b[0m \u001b[0marr\u001b[0m\u001b[0;34m[\u001b[0m\u001b[0;34m[\u001b[0m\u001b[0;36m1\u001b[0m\u001b[0;34m]\u001b[0m\u001b[0;34m]\u001b[0m\u001b[0;34m;\u001b[0m \u001b[0mv3\u001b[0m \u001b[0;34m=\u001b[0m \u001b[0marr\u001b[0m\u001b[0;34m[\u001b[0m\u001b[0;36m2\u001b[0m\u001b[0;34m:\u001b[0m\u001b[0mD\u001b[0m\u001b[0;34m+\u001b[0m\u001b[0;36m1\u001b[0m\u001b[0;34m]\u001b[0m\u001b[0;34m\u001b[0m\u001b[0;34m\u001b[0m\u001b[0m\n\u001b[0;32m--> 129\u001b[0;31m         \u001b[0ma\u001b[0m \u001b[0;34m=\u001b[0m \u001b[0mnp\u001b[0m\u001b[0;34m.\u001b[0m\u001b[0mlinalg\u001b[0m\u001b[0;34m.\u001b[0m\u001b[0mdet\u001b[0m\u001b[0;34m(\u001b[0m\u001b[0mnp\u001b[0m\u001b[0;34m.\u001b[0m\u001b[0mconcatenate\u001b[0m\u001b[0;34m(\u001b[0m\u001b[0;34m[\u001b[0m\u001b[0mva\u001b[0m\u001b[0;34m,\u001b[0m \u001b[0mv3\u001b[0m\u001b[0;34m]\u001b[0m\u001b[0;34m,\u001b[0m \u001b[0maxis\u001b[0m\u001b[0;34m=\u001b[0m\u001b[0;36m0\u001b[0m\u001b[0;34m)\u001b[0m\u001b[0;34m)\u001b[0m\u001b[0;34m\u001b[0m\u001b[0;34m\u001b[0m\u001b[0m\n\u001b[0m\u001b[1;32m    130\u001b[0m         \u001b[0mb\u001b[0m \u001b[0;34m=\u001b[0m \u001b[0mnp\u001b[0m\u001b[0;34m.\u001b[0m\u001b[0mlinalg\u001b[0m\u001b[0;34m.\u001b[0m\u001b[0mdet\u001b[0m\u001b[0;34m(\u001b[0m\u001b[0mnp\u001b[0m\u001b[0;34m.\u001b[0m\u001b[0mconcatenate\u001b[0m\u001b[0;34m(\u001b[0m\u001b[0;34m[\u001b[0m\u001b[0mvb\u001b[0m\u001b[0;34m,\u001b[0m \u001b[0mv3\u001b[0m\u001b[0;34m]\u001b[0m\u001b[0;34m,\u001b[0m \u001b[0maxis\u001b[0m\u001b[0;34m=\u001b[0m\u001b[0;36m0\u001b[0m\u001b[0;34m)\u001b[0m\u001b[0;34m)\u001b[0m\u001b[0;34m\u001b[0m\u001b[0;34m\u001b[0m\u001b[0m\n\u001b[1;32m    131\u001b[0m \u001b[0;34m\u001b[0m\u001b[0m\n",
      "\u001b[0;32m<__array_function__ internals>\u001b[0m in \u001b[0;36mdet\u001b[0;34m(*args, **kwargs)\u001b[0m\n",
      "\u001b[0;32m~/opt/anaconda3/lib/python3.9/site-packages/numpy/linalg/linalg.py\u001b[0m in \u001b[0;36mdet\u001b[0;34m(a)\u001b[0m\n\u001b[1;32m   2153\u001b[0m     \u001b[0ma\u001b[0m \u001b[0;34m=\u001b[0m \u001b[0masarray\u001b[0m\u001b[0;34m(\u001b[0m\u001b[0ma\u001b[0m\u001b[0;34m)\u001b[0m\u001b[0;34m\u001b[0m\u001b[0;34m\u001b[0m\u001b[0m\n\u001b[1;32m   2154\u001b[0m     \u001b[0m_assert_stacked_2d\u001b[0m\u001b[0;34m(\u001b[0m\u001b[0ma\u001b[0m\u001b[0;34m)\u001b[0m\u001b[0;34m\u001b[0m\u001b[0;34m\u001b[0m\u001b[0m\n\u001b[0;32m-> 2155\u001b[0;31m     \u001b[0m_assert_stacked_square\u001b[0m\u001b[0;34m(\u001b[0m\u001b[0ma\u001b[0m\u001b[0;34m)\u001b[0m\u001b[0;34m\u001b[0m\u001b[0;34m\u001b[0m\u001b[0m\n\u001b[0m\u001b[1;32m   2156\u001b[0m     \u001b[0mt\u001b[0m\u001b[0;34m,\u001b[0m \u001b[0mresult_t\u001b[0m \u001b[0;34m=\u001b[0m \u001b[0m_commonType\u001b[0m\u001b[0;34m(\u001b[0m\u001b[0ma\u001b[0m\u001b[0;34m)\u001b[0m\u001b[0;34m\u001b[0m\u001b[0;34m\u001b[0m\u001b[0m\n\u001b[1;32m   2157\u001b[0m     \u001b[0msignature\u001b[0m \u001b[0;34m=\u001b[0m \u001b[0;34m'D->D'\u001b[0m \u001b[0;32mif\u001b[0m \u001b[0misComplexType\u001b[0m\u001b[0;34m(\u001b[0m\u001b[0mt\u001b[0m\u001b[0;34m)\u001b[0m \u001b[0;32melse\u001b[0m \u001b[0;34m'd->d'\u001b[0m\u001b[0;34m\u001b[0m\u001b[0;34m\u001b[0m\u001b[0m\n",
      "\u001b[0;32m~/opt/anaconda3/lib/python3.9/site-packages/numpy/linalg/linalg.py\u001b[0m in \u001b[0;36m_assert_stacked_square\u001b[0;34m(*arrays)\u001b[0m\n\u001b[1;32m    201\u001b[0m         \u001b[0mm\u001b[0m\u001b[0;34m,\u001b[0m \u001b[0mn\u001b[0m \u001b[0;34m=\u001b[0m \u001b[0ma\u001b[0m\u001b[0;34m.\u001b[0m\u001b[0mshape\u001b[0m\u001b[0;34m[\u001b[0m\u001b[0;34m-\u001b[0m\u001b[0;36m2\u001b[0m\u001b[0;34m:\u001b[0m\u001b[0;34m]\u001b[0m\u001b[0;34m\u001b[0m\u001b[0;34m\u001b[0m\u001b[0m\n\u001b[1;32m    202\u001b[0m         \u001b[0;32mif\u001b[0m \u001b[0mm\u001b[0m \u001b[0;34m!=\u001b[0m \u001b[0mn\u001b[0m\u001b[0;34m:\u001b[0m\u001b[0;34m\u001b[0m\u001b[0;34m\u001b[0m\u001b[0m\n\u001b[0;32m--> 203\u001b[0;31m             \u001b[0;32mraise\u001b[0m \u001b[0mLinAlgError\u001b[0m\u001b[0;34m(\u001b[0m\u001b[0;34m'Last 2 dimensions of the array must be square'\u001b[0m\u001b[0;34m)\u001b[0m\u001b[0;34m\u001b[0m\u001b[0;34m\u001b[0m\u001b[0m\n\u001b[0m\u001b[1;32m    204\u001b[0m \u001b[0;34m\u001b[0m\u001b[0m\n\u001b[1;32m    205\u001b[0m \u001b[0;32mdef\u001b[0m \u001b[0m_assert_finite\u001b[0m\u001b[0;34m(\u001b[0m\u001b[0;34m*\u001b[0m\u001b[0marrays\u001b[0m\u001b[0;34m)\u001b[0m\u001b[0;34m:\u001b[0m\u001b[0;34m\u001b[0m\u001b[0;34m\u001b[0m\u001b[0m\n",
      "\u001b[0;31mLinAlgError\u001b[0m: Last 2 dimensions of the array must be square"
     ]
    }
   ],
   "source": [
    "import copy\n",
    "\n",
    "basis_comp = GCD_arr(copy.deepcopy(x))\n",
    "basis_comp\n",
    "basis_comp = normalize_basis(basis_comp)\n",
    "basis_comp"
   ]
  },
  {
   "cell_type": "code",
   "execution_count": null,
   "id": "286c7fe2",
   "metadata": {},
   "outputs": [],
   "source": []
  }
 ],
 "metadata": {
  "kernelspec": {
   "display_name": "Python 3 (ipykernel)",
   "language": "python",
   "name": "python3"
  },
  "language_info": {
   "codemirror_mode": {
    "name": "ipython",
    "version": 3
   },
   "file_extension": ".py",
   "mimetype": "text/x-python",
   "name": "python",
   "nbconvert_exporter": "python",
   "pygments_lexer": "ipython3",
   "version": "3.9.7"
  }
 },
 "nbformat": 4,
 "nbformat_minor": 5
}
